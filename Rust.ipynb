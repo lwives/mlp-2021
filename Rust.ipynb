{
  "nbformat": 4,
  "nbformat_minor": 0,
  "metadata": {
    "kernelspec": {
      "display_name": "Rust",
      "language": "rust",
      "name": "rust"
    },
    "language_info": {
      "codemirror_mode": "rust",
      "file_extension": ".rs",
      "mimetype": "text/rust",
      "name": "Rust",
      "pygment_lexer": "rust",
      "version": ""
    },
    "colab": {
      "provenance": [],
      "collapsed_sections": []
    }
  },
  "cells": [
    {
      "cell_type": "markdown",
      "metadata": {
        "id": "9aExZP_EIfcz"
      },
      "source": [
        "# INF01121 - Disciplina de Modelos de Linguagens de Programação\n",
        "\n",
        "## Laboratório de Mecanismos de Suporte a Concorrência\n",
        "\n",
        "Neste laboratório, vamos ter uma **visão geral sobre a Linguagem Rust**, em especial iremos analisar os **elementos, construções e mecanismos** que ela oferece **para suportar concorrência e paralelismo**. \n",
        "\n",
        "### Visão geral da Linguagem RUST"
      ]
    },
    {
      "cell_type": "markdown",
      "metadata": {
        "id": "m50lsq0eIqtV"
      },
      "source": [
        "---\n",
        "**<font color=\"red\">Atenção, caso esteja usando o Google Colab: Rust não está funcionando atualmente!</font>** \n",
        "\n",
        "Antigamente, o seguinte procedimento permitia a execução do RUST no Google Colab, mas ele não está mais funcionando: "
      ]
    },
    {
      "cell_type": "code",
      "metadata": {
        "id": "-KaGdQltI_j1"
      },
      "source": [
        "# instala e ativa o kernel de execução RUST \n",
        "!apt install rustc\n",
        "!gdown --id 1PULtTc-2e9z4bswh_SQqL5oy_4JpfV7c\n",
        "!chmod +x evcxr_jupyter\n",
        "!./evcxr_jupyter --install"
      ],
      "execution_count": null,
      "outputs": []
    },
    {
      "cell_type": "markdown",
      "metadata": {
        "id": "ukx2KRkBJDGX"
      },
      "source": [
        "Depois de executar esse trecho e o Kernel ter sido instalado, recarregue a página (F5) e pule esse trecho (vá direto para as células seguintes)\n",
        "\n",
        "---\n",
        "\n"
      ]
    },
    {
      "cell_type": "markdown",
      "metadata": {
        "id": "mR91rC-0Imra"
      },
      "source": [
        "Variáveis\n",
        "==\n",
        "\n",
        "Variáveis são **definidas usando o comando 'let'**. \n",
        "\n",
        "O **exemplo seguinte declara uma variável ('x') e imprime seu valor na tela**. Perceba o uso da **macro de impressão** ('println!'), que recebe uma *string de formato* e *variáveis* (opcionais). Na string de formato, *{}* indica onde as variáveis vão ficar, na ordem em que aparecem."
      ]
    },
    {
      "cell_type": "code",
      "metadata": {
        "id": "7VK7PHfWIfc3",
        "colab": {
          "base_uri": "https://localhost:8080/",
          "height": 135
        },
        "outputId": "18ed79a2-d5b7-48b0-be6b-ca9dd5ed90a0"
      },
      "source": [
        "let x = 10; // Definição\n",
        "println!(\"Valor de x: {}\", x);   "
      ],
      "execution_count": null,
      "outputs": [
        {
          "output_type": "error",
          "ename": "SyntaxError",
          "evalue": "ignored",
          "traceback": [
            "\u001b[0;36m  File \u001b[0;32m\"<ipython-input-2-683713a16617>\"\u001b[0;36m, line \u001b[0;32m1\u001b[0m\n\u001b[0;31m    let x = 10; // Definição\u001b[0m\n\u001b[0m        ^\u001b[0m\n\u001b[0;31mSyntaxError\u001b[0m\u001b[0;31m:\u001b[0m invalid syntax\n"
          ]
        }
      ]
    },
    {
      "cell_type": "markdown",
      "metadata": {
        "id": "FKxmXRqKIfc5"
      },
      "source": [
        "----\n",
        "Em Rust, variáveis são **imutáveis** por natureza:"
      ]
    },
    {
      "cell_type": "code",
      "metadata": {
        "id": "DV_vrBkEIfc5"
      },
      "source": [
        "x+=1;\n",
        "println!(\"valor de x {}\", x);"
      ],
      "execution_count": null,
      "outputs": []
    },
    {
      "cell_type": "markdown",
      "metadata": {
        "id": "AmUxIaPyIfc6"
      },
      "source": [
        "----\n",
        "Se desejar mudar, deve explicitar isso com a palavra chave 'mut':"
      ]
    },
    {
      "cell_type": "code",
      "metadata": {
        "id": "2Aj47KmaIfc6"
      },
      "source": [
        "let mut y = 10; // mutável!\n",
        "y+=1;\n",
        "println!(\"Valor de y: {}\", y);"
      ],
      "execution_count": null,
      "outputs": []
    },
    {
      "cell_type": "markdown",
      "metadata": {
        "id": "ranV4ejiIfc7"
      },
      "source": [
        "Tipos de Dados\n",
        "===\n",
        "\n",
        "**Rust tem vários tipos de dados**, como qualquer linguagem. Além dos **tipos primitivos** básicos (int, float, char e string), também tem **tipos compostos** (array, vetores, enums, structs).\n",
        "\n",
        "Rust **tem inferência de tipos**. Logo, não é necessário (nem recomendado) indicar o tipo das variáveis. Mas, se necessário, seguem alguns exemplos:"
      ]
    },
    {
      "cell_type": "code",
      "metadata": {
        "id": "rTSNfWh8Ifc7"
      },
      "source": [
        "// primitivos\n",
        "let i1 : i8 = 10;     // inteiro de 8 bits (com sinal), i.e., -128..+128\n",
        "let i2 : u8 = 10;     // inteiro de 8 bits (sem sinal), i.e.,    0..256\n",
        "let i3 : i16 = 10;    // inteiro de 16 bits (sem sinal)\n",
        "let i4 : u16 = 10;    // inteiro de 16 bits (com sinal)\n",
        "let i5 : i32 = 10;    // inteiro de 32 bits (sem sinal)\n",
        "let i6 : u32 = 10;    // inteiro de 32 bits (com sinal)\n",
        "let i7 : i64 = 10;    // inteiro de 64 bits (sem sinal)\n",
        "let i8 : u64 = 10;    // inteiro de 64 bits (com sinal)\n",
        "let i9 : isize = 10;  // inteiro dependente da arquitetura (com sinal)\n",
        "let i10: usize = 10;  // inteiro dependente da arquitetura (sem sinal)\n",
        "\n",
        "let f1: f32 = 2.2222; // ponto flutuante de 32 bits\n",
        "let f2: f64 = 2.2222; // ponto flutuante de 64 bits (default)\n",
        "\n",
        "let c: char = 'a';    // caractere unicode\n",
        "let b: bool = false;  // booleano"
      ],
      "execution_count": null,
      "outputs": []
    },
    {
      "cell_type": "code",
      "metadata": {
        "id": "EwY2ozTPIfc8"
      },
      "source": [
        "// compostos\n",
        "let tupla = (1, 'a', false);       // tupla\n",
        "println!(\"Primeiro elemento: {}\", tupla.0);\n",
        "println!(\"Terceiro elemento: {}\", tupla.2); // uso das tuplas via índice"
      ],
      "execution_count": null,
      "outputs": []
    },
    {
      "cell_type": "code",
      "metadata": {
        "id": "6Hud5Q6TIfc9"
      },
      "source": [
        "let tupla = (500, 6.3, 1, 'a');\n",
        "let (a, b, c, d) = tupla; // atribuição por pattern matching\n",
        "println!(\"a={}, b={}, c={} e d={}\", a, b, c, d); "
      ],
      "execution_count": null,
      "outputs": []
    },
    {
      "cell_type": "code",
      "metadata": {
        "id": "-lJMJ3_PIfc-"
      },
      "source": [
        "let a = [0.0, 3.1415, 2.334, 12.45]; // array\n",
        "println!(\"{}\", a[1]);"
      ],
      "execution_count": null,
      "outputs": []
    },
    {
      "cell_type": "code",
      "metadata": {
        "id": "OO7iiDbqIfc-"
      },
      "source": [
        "println!(\"{:?}\", a); // mostra array inteiro"
      ],
      "execution_count": null,
      "outputs": []
    },
    {
      "cell_type": "code",
      "metadata": {
        "id": "JX_-bcgbIfc-"
      },
      "source": [
        "// enumerações\n",
        "enum EstacoesAno {\n",
        "    Primavera,\n",
        "    Verao,\n",
        "    Outono,\n",
        "    Inverno,\n",
        "};"
      ],
      "execution_count": null,
      "outputs": []
    },
    {
      "cell_type": "code",
      "metadata": {
        "id": "ZkLtSuAvIfc_"
      },
      "source": [
        "struct Pessoa {\n",
        "    nome : String,\n",
        "    idade: u8,\n",
        "    genero: char,\n",
        "}\n",
        "\n",
        "let p1 = Pessoa {\n",
        "    nome: String::from(\"Fulano da Silva\"),\n",
        "    idade: 21,\n",
        "    genero: 'm',\n",
        "};\n",
        "\n",
        "println!(\n",
        "    \"{} tem {} anos.\", \n",
        "    p1.nome, \n",
        "    p1.idade\n",
        ");"
      ],
      "execution_count": null,
      "outputs": []
    },
    {
      "cell_type": "code",
      "metadata": {
        "id": "TSu_yDYmIfdA"
      },
      "source": [
        "struct Triangulo(u32, u32, u32); // tuple structs são structs sem nomes de atributo (úteis para dar semântica, pois criam um novo tipo por 'alias', sem compatibilidade)\n",
        "let t1 = Triangulo(3,4,5);"
      ],
      "execution_count": null,
      "outputs": []
    },
    {
      "cell_type": "code",
      "metadata": {
        "id": "B3nz-TiaIfdB"
      },
      "source": [
        "if (a,b,c)==t1 {\n",
        "    println!(\"compatível\");\n",
        "}else{\n",
        "    println!(\"não compatível\");\n",
        "}"
      ],
      "execution_count": null,
      "outputs": []
    },
    {
      "cell_type": "code",
      "metadata": {
        "id": "lwln9qxsIfdB"
      },
      "source": [
        "// unit structs: não precisam ter atributos! \n",
        "struct MinhaEstrutura;\n",
        "let s = MinhaEstrutura;"
      ],
      "execution_count": null,
      "outputs": []
    },
    {
      "cell_type": "code",
      "metadata": {
        "id": "C9ftJ7fiIfdB"
      },
      "source": [
        "// structs podem ter funções associadas\n",
        "\n",
        "#[derive(Debug)] // Ativa modo debug \n",
        "\n",
        "// definição de uma estrutura\n",
        "struct Rectangle {\n",
        "   width: u32,\n",
        "   height: u32,\n",
        "}\n",
        "\n",
        "// definição de uma função que usa a estrutura\n",
        "impl Rectangle {\n",
        "   fn area(&self) -> u32{\n",
        "      self.width * self.height\n",
        "   }\n",
        "}\n",
        "\n",
        "// função que recebe a estrutura e mostra sua área\n",
        "fn area(rectangle: &Rectangle) -> u32 {\n",
        "   rectangle.width * rectangle.height\n",
        "}\n",
        "\n",
        "fn main() {\n",
        "   // definição de uma variável do tipo da estrutura\n",
        "   let rect1 = Rectangle { width: 30, height: 50 };\n",
        "\n",
        "   println!(\n",
        "      \"The area of the rectangle is {} square pixels.\",\n",
        "      area(&rect1)\n",
        "   );\n",
        "\n",
        "   println!(\n",
        "      \"The area of the rectangle is {} square pixels.\",\n",
        "      rect1.area() // semelhante a chamada de métodos\n",
        "   );\n",
        "\n",
        "   // println!(\"Rect1 is {}\", rect1); // erro porque rect não tem std::fmt::Display!\n",
        "\n",
        "   println!(\"Rect1 is {:?}\", rect1); // usa std::fmt::Debug, que todos têm se a depuração estiver ativada!\n",
        "\n",
        "   println!(\"Rect1 is {:#?}\", rect1); // usa std::fmt::Debug, que todos tem se a depuração estiver ativada!\n",
        "}\n",
        "\n",
        "main(); // no Jupyter precisamos chamar 'main'"
      ],
      "execution_count": null,
      "outputs": []
    },
    {
      "cell_type": "markdown",
      "metadata": {
        "id": "enroPGi_IfdC"
      },
      "source": [
        "#Funções\n",
        "\n",
        "Funções são simples. Possuem um nome, parâmetros e um tipo de retorno (se retornar valor). **A maior diferença para outras linguagens é que a última linha sempre contém a expressão ou valor de retorno (sem ';' ao final)**:"
      ]
    },
    {
      "cell_type": "code",
      "metadata": {
        "id": "SbX_3B1LIfdC"
      },
      "source": [
        "// função 'inc' recebe 'x' e devolve 'x+1'\n",
        "fn inc(x: usize) -> usize {\n",
        "    x+1 // retorno de uma função é sua última linha (sem return e sem ';')\n",
        "}"
      ],
      "execution_count": null,
      "outputs": []
    },
    {
      "cell_type": "code",
      "metadata": {
        "id": "1DblvhVRIfdC"
      },
      "source": [
        "println!(\"{}\", inc(10));"
      ],
      "execution_count": null,
      "outputs": []
    },
    {
      "cell_type": "markdown",
      "metadata": {
        "id": "9ZhMHE5DIfdC"
      },
      "source": [
        "**Na verdade, tudo em rust pode retornar um valor (como em C)**:"
      ]
    },
    {
      "cell_type": "code",
      "metadata": {
        "id": "ft4vAJ3NIfdD"
      },
      "source": [
        "// atribuição com base em expressão (ultimo elemento é expressão e não declaração!)\n",
        "let y = {\n",
        "   let x = 3; // definição\n",
        "   x + 1      // expressão (retornada) - tem que ser último elemento\n",
        "};\n",
        "println!(\"{}\", y);"
      ],
      "execution_count": null,
      "outputs": []
    },
    {
      "cell_type": "code",
      "metadata": {
        "id": "5ydPvXvVIfdD"
      },
      "source": [
        "let condition = true;\n",
        "let number = \n",
        "    if condition { // number recebe 5 se condição for verdadeira ou 6 se for falsa\n",
        "        5\n",
        "    } else {\n",
        "        6\n",
        "    };\n",
        "println!(\"{}\", number);"
      ],
      "execution_count": null,
      "outputs": []
    },
    {
      "cell_type": "markdown",
      "metadata": {
        "id": "ualzVzy_IfdD"
      },
      "source": [
        "# Principais comandos\n"
      ]
    },
    {
      "cell_type": "code",
      "metadata": {
        "id": "Fd9l-nYLIfdE"
      },
      "source": [
        "let a = 10;\n",
        "if a<10 {\n",
        "    println!(\"Menor do que 10.\");\n",
        "} else if a<20 {\n",
        "    println!(\"Maior que 10, mas menor do que 20\");\n",
        "} else {\n",
        "    println!(\"Maior que 20\");\n",
        "};  // repare no ';'"
      ],
      "execution_count": null,
      "outputs": []
    },
    {
      "cell_type": "code",
      "metadata": {
        "id": "ZI8uJSllIfdE"
      },
      "source": [
        "let mut i = 0;\n",
        "loop { // loop 'infinito' (i.e., indeterminado)\n",
        "    if i > 10 {\n",
        "        break;\n",
        "    }\n",
        "    i += 1;\n",
        "    println!(\"{}\", i);\n",
        "}; // repare no ';'"
      ],
      "execution_count": null,
      "outputs": []
    },
    {
      "cell_type": "code",
      "metadata": {
        "id": "w8dupAYAIfdE"
      },
      "source": [
        "let mut i = 0;\n",
        "while i<10 {    \n",
        "    i += 1;\n",
        "    println!(\"{}\", i);\n",
        "}; // repare no ';'"
      ],
      "execution_count": null,
      "outputs": []
    },
    {
      "cell_type": "code",
      "metadata": {
        "id": "ymCrxp8qIfdE"
      },
      "source": [
        "let mut i = 0;\n",
        "for i in 1..11{    \n",
        "    println!(\"{}\", i);\n",
        "}; // repare no ';'"
      ],
      "execution_count": null,
      "outputs": []
    },
    {
      "cell_type": "code",
      "metadata": {
        "id": "QWE8Au3kIfdF"
      },
      "source": [
        "let _estacoes = [\"primavera\", \"verao\", \"outono\", \"inverno\"];\n",
        "\n",
        "// recupera um iterador para percorrer os elementos do array\n",
        "// o retorno é uma tupla contendo (índice, elemento)\n",
        "for (_, elem) in _estacoes.iter().enumerate(){\n",
        "   println!(\"Estação: {}\", elem);\n",
        "};"
      ],
      "execution_count": null,
      "outputs": []
    },
    {
      "cell_type": "code",
      "metadata": {
        "id": "9b7G0samIfdF"
      },
      "source": [
        "let x = 2;\n",
        "match x { // exemplo simples, mas pode ser algum padrão qualquer (pattern matching)\n",
        "    1 => println!(\"O número mais solitário.\"),\n",
        "    2 => println!(\"Uma companhia.\"),\n",
        "    3 => println!(\"Uma multidão.\"),\n",
        "    _ => println!(\"Outro número qualquer.\"),         // qualquer outro caso    \n",
        "};"
      ],
      "execution_count": null,
      "outputs": []
    },
    {
      "cell_type": "code",
      "metadata": {
        "id": "4ht9Wfl7IfdF"
      },
      "source": [
        "// um exemplo com enumerações\n",
        "enum EstacoesAno {\n",
        "    Primavera,\n",
        "    Verao,\n",
        "    Outono,\n",
        "    Inverno,\n",
        "}\n",
        "\n",
        "let estacao = EstacoesAno::Primavera;\n",
        "match estacao {\n",
        "    Primavera => println!(\"Primavera\"),\n",
        "    Verao => println!(\"Verão\"),\n",
        "    Outono => println!(\"Outono\"),\n",
        "    Inverno => println!(\"Inverno\"),\n",
        "};"
      ],
      "execution_count": null,
      "outputs": []
    },
    {
      "cell_type": "markdown",
      "metadata": {
        "id": "gcmo5E0fIfdG"
      },
      "source": [
        "Posse (ownership)\n",
        "==\n",
        "\n",
        "Rust usa uma **estratégia diferenciada para gerenciar a memória** e evitar problemas. Nela, **todo trecho de memória deve estar associado a uma variável e essa variável é sua dona**.\n",
        "\n",
        "**O proprietário** é **responsável por desalocar** a memória **e decidir se o dado armazenado nela é mutável ou não**. "
      ]
    },
    {
      "cell_type": "code",
      "metadata": {
        "id": "gYoXY5BsIfdG"
      },
      "source": [
        "fn teste(){\n",
        "    let s1 = String::from(\"Olá\");\n",
        "    println!(\"{}\", s1);\n",
        "}\n",
        "teste();"
      ],
      "execution_count": null,
      "outputs": []
    },
    {
      "cell_type": "code",
      "metadata": {
        "id": "Vplj3n-kIfdG"
      },
      "source": [
        "fn teste(){\n",
        "    let s1 = String::from(\"Olá\");\n",
        "    s1.push_str(\", como vai?\"); // imutável!\n",
        "    println!(\"{}\", s1);\n",
        "}\n",
        "teste();"
      ],
      "execution_count": null,
      "outputs": []
    },
    {
      "cell_type": "code",
      "metadata": {
        "id": "nOYroP7tIfdH"
      },
      "source": [
        "fn teste(){\n",
        "    let mut s1 = String::from(\"Olá\");\n",
        "    s1.push_str(\", como vai?\"); // mutável!\n",
        "    println!(\"{}\", s1);\n",
        "}\n",
        "teste();"
      ],
      "execution_count": null,
      "outputs": []
    },
    {
      "cell_type": "markdown",
      "metadata": {
        "id": "--clOtYqIfdH"
      },
      "source": [
        "---\n",
        "Rust gerencia a alocação e desalocação das regiões de memória. **A desalocação é automática, quando a variável sai de escopo**."
      ]
    },
    {
      "cell_type": "code",
      "metadata": {
        "id": "dAv9tb7xIfdH"
      },
      "source": [
        "teste();"
      ],
      "execution_count": null,
      "outputs": []
    },
    {
      "cell_type": "code",
      "metadata": {
        "id": "IaCh9-baIfdI"
      },
      "source": [
        "println!(\"{}\", s1); // saiu de escopo!"
      ],
      "execution_count": null,
      "outputs": []
    },
    {
      "cell_type": "markdown",
      "metadata": {
        "id": "atEv1Xb4IfdI"
      },
      "source": [
        "---\n",
        "Para tipos não primitivos, **Rust faz a transferência de posse automaticamente**:"
      ]
    },
    {
      "cell_type": "code",
      "metadata": {
        "id": "graaZLjeIfdI"
      },
      "source": [
        "let s1 = String::from(\"Teste\");\n",
        "let s2 = s1; // posse passa a ser de 's2'\n",
        "println!(\"{}\", s1); // não está mais disponível para uso!"
      ],
      "execution_count": null,
      "outputs": []
    },
    {
      "cell_type": "code",
      "metadata": {
        "id": "xluXLa7lIfdI"
      },
      "source": [
        "// o mesmo acontece com funções!\n",
        "// veja o exemplo:\n",
        "fn falar(s:String){\n",
        "    println!(\"Eu falo: {}!\", s);\n",
        "}\n",
        "\n",
        "let s1 = String::from(\"Olá!\");\n",
        "falar(s1);          // transfere propriedade da região de memória para 's', dentro da função\n",
        "println!(\"{}\", s1); // 's1' não tem mais posse da região de memória"
      ],
      "execution_count": null,
      "outputs": []
    },
    {
      "cell_type": "code",
      "metadata": {
        "id": "dmSiW5TfIfdJ"
      },
      "source": [
        "// no retorno também:\n",
        "fn retorna() -> String{\n",
        "    String::from(\"teste\")\n",
        "}\n",
        "let ss = retorna();               // função transferiu dado (e não limpou a memória)\n",
        "println!(\"{}\", ss);"
      ],
      "execution_count": null,
      "outputs": []
    },
    {
      "cell_type": "markdown",
      "metadata": {
        "id": "zs6KWx7iIfdJ"
      },
      "source": [
        "---\n",
        "Uma alternativa consiste em **clonar** um elemento:"
      ]
    },
    {
      "cell_type": "code",
      "metadata": {
        "id": "TextXnNaIfdJ"
      },
      "source": [
        "// o mesmo acontece com funções!\n",
        "// veja o exemplo:\n",
        "fn falar(s:String){\n",
        "    println!(\"Eu falo: {}!\", s);\n",
        "}\n",
        "\n",
        "let s1 = String::from(\"Olá!\");\n",
        "falar(s1.clone());                  // cópia profunda (cria um clone, independente)\n",
        "println!(\"{}\", s1);"
      ],
      "execution_count": null,
      "outputs": []
    },
    {
      "cell_type": "code",
      "metadata": {
        "id": "yXBh_dffIfdK"
      },
      "source": [
        "// Exemplo dos dois tipos principais de transferência (o terceiro seria o 'empréstimo')\n",
        "\n",
        "{ // define um novo nível de escopo\n",
        "    let s1 = String::from(\"hello\");\n",
        "    let s3 = s1.clone(); // faz \"cópia profunda\"\n",
        "    let _s2 = s1;        // parece cópia rasa! Mas não é... Na verdade, faz um 'move' (transfere a propriedade)...\n",
        "                         // Se não fizesse 'move', o que aconteceria com o conteúdo do ponteiro de s2? não existe mais?\n",
        "    // println!(\"{}, world!\", s1); // tenta usar s1, mas não existe mais, pois Rust fez um move...\n",
        "    println!(\"{}, world!\", s3); \n",
        "} // chama \"drop()\" automaticamente quando sai de escopo."
      ],
      "execution_count": null,
      "outputs": []
    },
    {
      "cell_type": "markdown",
      "metadata": {
        "id": "U5ikJOnNIfdK"
      },
      "source": [
        "-------\n",
        "Outra **alternativa consiste em 'emprestar'** (borrow) a entidade. Isso é feito com referências ('&'). A alocação e desalocação ainda são do dono, mas outros podem usar a memória, momentaneamente."
      ]
    },
    {
      "cell_type": "code",
      "metadata": {
        "id": "rM-eslO1IfdK"
      },
      "source": [
        "// passagem por empréstimo (borrowing)\n",
        "fn tamanho(s: &String) -> usize { // '&' é o segredo\n",
        "   s.len()\n",
        "}\n",
        "\n",
        "let s2 = String::from(\"teste\");\n",
        "let len = tamanho(&s2); // passa por referência (não transfere a propriedade)\n",
        "println!(\"O tamanho de '{}' é: {}\", s2, len);"
      ],
      "execution_count": null,
      "outputs": []
    },
    {
      "cell_type": "code",
      "metadata": {
        "id": "a64rySncIfdK"
      },
      "source": [
        "// cuidado com o trecho de código seguinte:\n",
        "fn retorna_nome() -> &str {                  // tipo de retorno é por empréstimo\n",
        "    let n = String::from(\"Leandro\");\n",
        "    &n                                       // retorna 'n' por empréstimo\n",
        "}\n",
        "\n",
        "let nome = retorna_nome();                   // 'nome' toma 'n' emprestado, mas ocorre um erro!!!!"
      ],
      "execution_count": null,
      "outputs": []
    },
    {
      "cell_type": "markdown",
      "metadata": {
        "id": "oz01978bx0y9"
      },
      "source": [
        "No trecho anterior, o empréstimo nem ocorre, pois o tempo de vida do conteúdo de 'n' é a própria função..."
      ]
    },
    {
      "cell_type": "markdown",
      "metadata": {
        "id": "AjPHZI9MIfdK"
      },
      "source": [
        "Threads\n",
        "==="
      ]
    },
    {
      "cell_type": "code",
      "metadata": {
        "id": "hVgNnMKkIfdK"
      },
      "source": [
        "use std::thread;                                                                // biblioteca de threads\n",
        "use std::time::Duration;\n",
        "\n",
        "fn main() {\n",
        "   // cria uma thread e passa uma closure contendo o código a ser executado nela:\n",
        "   let t1 = thread::spawn(|| {                            \n",
        "       for i in 1..10 {\n",
        "           println!(\"Olá número {} da thread-extra iniciada!\", i);\n",
        "           thread::sleep(Duration::from_millis(1));\n",
        "       }\n",
        "    });\n",
        "    \n",
        "    // de forma concorrente à thread-extra, main executa sua própria thread (principal)\n",
        "    for i in 1..5 {\n",
        "        println!(\"Olá número {} da thread principal!\", i);\n",
        "        thread::sleep(Duration::from_millis(1));\n",
        "    }\n",
        "    \n",
        "    // t1.join().unwrap();                                                      // aguarda thread-extra terminar (descomente para ver a diferença)\n",
        "    \n",
        "    println!(\"Fim do programa\");\n",
        "}\n",
        "\n",
        "main(); // no Jupyter, precisamos chamar explicitamente a função 'main' (mas isso não é necessário em um programa executado tradicionamente)"
      ],
      "execution_count": null,
      "outputs": []
    },
    {
      "cell_type": "markdown",
      "metadata": {
        "id": "bzYnkbQgIfdL"
      },
      "source": [
        "MUTEX\n",
        "==\n",
        "\n",
        "Regiões de Exclusão Mútua (MUTual EXclusion) são necessárias quando duas tarefas concorrentes acessam a mesma região de memória. Isso é um problema, em especial quando elas escrevem na região, pois a escrita pode ser interrompida no meio do caminho e o resultado é imprevisível!"
      ]
    },
    {
      "cell_type": "code",
      "metadata": {
        "jupyter": {
          "source_hidden": true
        },
        "id": "_Jsfk0cDIfdL"
      },
      "source": [
        "// Problema: thread tenta usar região compartilhada (com main)\n",
        "// como a posse é transferida para a thread, main não consegue acessar a região\n",
        "\n",
        "use std::thread;\n",
        "use std::sync::{Mutex, Arc};\n",
        "\n",
        "fn main() {   \n",
        "    let v = vec![1, 2, 3];  // macro que cria um vetor no heap e devolve uma referência a ele\n",
        "    \n",
        "    // cria e inicia uma thread (e uma closure associada, onde todas as variáveis de main já criadas estão disponíveis para ela)\n",
        "    let t1 = thread::spawn(|| {    \n",
        "        println!(\"Vetor: {:?}\", v); // v é usada aqui e main deixa de ter a propriedade dela\n",
        "    });\n",
        "\n",
        "    // println!(\"Vetor: {:?}\", v); // problema pois a thread passou a ser dona do v\n",
        "    \n",
        "    t1.join().unwrap();  // main aguarda término da thread       \n",
        "}\n",
        "\n",
        "main();"
      ],
      "execution_count": null,
      "outputs": []
    },
    {
      "cell_type": "code",
      "metadata": {
        "id": "lp6kAtfRIfdL"
      },
      "source": [
        "// Alternativa: definir região de exclusão mútua (MUTEX)\n",
        "// Exemplo sem vector - uma variável simples\n",
        "\n",
        "use std::thread;\n",
        "use std::sync::{Mutex, Arc};\n",
        "\n",
        "fn main() {          \n",
        "    let m = Mutex::new(5);                          // wrapper que cria um MUTEX\n",
        "    { // novo escopo\n",
        "        let mut num = m.lock().unwrap();            // lock tenta adquirir uso exclusivo da região. Só quando consegue é que faz uso dela...    \n",
        "        *num = 6;                                   // modifica o conteúdo do mutex\n",
        "    } // fim do escopo (libera o lock) \n",
        "    \n",
        "    println!(\"m = {:?}\", m);                        // mutex pode ser compartilhado / emprestado entre diferentes escopos e threads!     \n",
        "}\n",
        "\n",
        "main();"
      ],
      "execution_count": null,
      "outputs": []
    },
    {
      "cell_type": "code",
      "metadata": {
        "id": "pIoZ3j3zIfdM"
      },
      "source": [
        "// Uma possível solução para o problema de acesso simultâneo em diferentes threads)\n",
        "// Usa mutex (e um RC para saber quantas estão usando o MUTEX\n",
        "\n",
        "use std::thread;\n",
        "use std::sync::{Mutex, Arc};\n",
        "\n",
        "fn main() {   \n",
        "    let v = vec![1, 2, 3];  // macro que cria um vetor no heap e devolve uma referência a ele  \n",
        "    \n",
        "    // Mutex com reference counting (só destroi ele quando não tiver mais nenhuma thread usando!)\n",
        "    // 'counter' será compartilhado por várias threads, que consultam seu valor e incrementam ele em 1\n",
        "    let counter = Arc::new(Mutex::new(0));                                      // arc: atomic reference counted type\n",
        "    \n",
        "    let mut handles = vec![];                                                   // vetor de ponteiros para as threads\n",
        "    \n",
        "    // cria 10 threads\n",
        "    let mut i = 0;\n",
        "    for i in 0..10 {                                                            // se você remover o print que mostra o número da thread, pode trocar por 'for _ in 0..10'\n",
        "        let counter = Arc::clone(&counter);                                     // clona o contador (um para cada thread) \n",
        "        \n",
        "        // A seguir, cria uma thread e move mutex para ela      \n",
        "        // repare na palavra-chave 'move', que indica que a propriedade (ownership) \n",
        "        // das variáveis usadas na thread será transferida ela\n",
        "        let handle = thread::spawn(move || { \n",
        "            println!(\"Thread {}\", i);\n",
        "            let mut num = counter.lock().unwrap();                              // tenta dar lock para acessar\n",
        "            *num += 1;                                                          // incrementa somente depois de garantir que é a única thread usando\n",
        "        }); // libera o lock ao terminhar a thread\n",
        "        \n",
        "        handles.push(handle);                                                   // adiciona referência da thread no array\n",
        "    } \n",
        "    \n",
        "    // aguarda todas as threads terminarem\n",
        "    for handle in handles {\n",
        "       handle.join().unwrap();\n",
        "    }\n",
        "    \n",
        "    println!(\"Resultado: {}\", *counter.lock().unwrap()); \n",
        "    println!(\"Fim do programa\");\n",
        "}\n",
        "\n",
        "main();"
      ],
      "execution_count": null,
      "outputs": []
    },
    {
      "cell_type": "markdown",
      "metadata": {
        "id": "OOl2tXMVIfdM"
      },
      "source": [
        "Canais de Comunicação\n",
        "=="
      ]
    },
    {
      "cell_type": "code",
      "metadata": {
        "id": "gGXyp-GMIfdM"
      },
      "source": [
        "// Uma solução para garantir concorrencia segura é a passagem de mensagens\n",
        "use std::thread;\n",
        "use std::sync::mpsc;  // mpsc significa multiple producer single consumer (produtor múltiplo com consumidor único)\n",
        "\n",
        "fn main() {\n",
        "   // cria canal de comunicação e devolve tupla contendo duas dimensões: tx e rx. \n",
        "   // Tx é um ponteiro para o transmissor (entrada) do canal. \n",
        "   // Rx é um ponteiro para o receptor (saída)\n",
        "   let (tx, rx) = mpsc::channel();  \n",
        "\n",
        "   // cria uma thread produtora\n",
        "   let t1 = thread::spawn(move || { \n",
        "      let val = String::from(\"ola\");\n",
        "      tx.send(val).unwrap(); //tenta mandar via canal. Se não der, termina (o ideal seria tratar o erro)!\n",
        "      // println!(\"val is {}\", val); // erro se descomentar, pois 'val' já foi transmitido\n",
        "   });\n",
        "\n",
        "   let retorno = rx.recv().unwrap(); // aguarda chegar uma mensagem. Alternativa: try_recv()\n",
        "   println!(\"Recebi: {}\", retorno);\n",
        "   println!(\"Fim do programa\");\n",
        "\n",
        "}\n",
        "\n",
        "main();"
      ],
      "execution_count": null,
      "outputs": []
    },
    {
      "cell_type": "code",
      "metadata": {
        "id": "1OAqHaFuIfdN"
      },
      "source": [
        "// Múltiplos produtores:\n",
        "use std::thread;\n",
        "use std::sync::mpsc;\n",
        "use std::time::Duration;\n",
        "\n",
        "fn main() {\n",
        "   let (tx, rx) = mpsc::channel();\n",
        "   let tx1 = mpsc::Sender::clone(&tx);   \n",
        "\n",
        "   thread::spawn(move || {\n",
        "      let vals = vec![\n",
        "         String::from(\"Oá \"),\n",
        "         String::from(\"da\"),\n",
        "         String::from(\"thread\"),\n",
        "         String::from(\"extra\"),\n",
        "      ];\n",
        "\n",
        "      for val in vals {\n",
        "         tx1.send(val).unwrap();\n",
        "         thread::sleep(Duration::from_secs(1));\n",
        "      }\n",
        "   });\n",
        "\n",
        "   thread::spawn(move || {\n",
        "      let vals = vec![\n",
        "         String::from(\"mais\"),\n",
        "         String::from(\"mensagens\"),\n",
        "         String::from(\"para\"),\n",
        "         String::from(\"você\"),\n",
        "      ];\n",
        "\n",
        "      for val in vals {\n",
        "         tx.send(val).unwrap();\n",
        "         thread::sleep(Duration::from_secs(1));\n",
        "      }\n",
        "   });\n",
        "\n",
        "   for received in rx {\n",
        "      println!(\"Recebi: {}\", received);\n",
        "   }\n",
        "}\n",
        "\n",
        "main();"
      ],
      "execution_count": null,
      "outputs": []
    },
    {
      "cell_type": "markdown",
      "metadata": {
        "id": "nVwHLHhgIfdN"
      },
      "source": [
        "Exemplos mais completos\n",
        "=="
      ]
    },
    {
      "cell_type": "code",
      "metadata": {
        "id": "71gI0crjIfdN"
      },
      "source": [
        "// Pede para o usuário adivinhar um número\n",
        "// Não funciona aqui no Jupyter (só no compilador tradicional)\n",
        "extern crate rand; \n",
        "\n",
        "use std::io;\n",
        "use std::cmp::Ordering;\n",
        "use rand::Rng;\n",
        "\n",
        "fn main() {\n",
        "    // Rust tem inferência de tipos\n",
        "    let mut _i = 0;                                // declara variável mutável (por padrão são imutáveis)\n",
        "    let num = rand::thread_rng().gen_range(1,100); // variável imutável\n",
        "    let mut guess = String::new();                 // construtor de string (:: denota método de classe/de tipo)\n",
        "    \n",
        "    _i = 10; \n",
        "    // num = _i; // erro\n",
        "    \n",
        "    println!(\"Hello, world!\"); // '!' indica uma macro e não uma função...\n",
        "    \n",
        "    println!(\"Valor de i: {} e valor de num: {}\", _i, num);\n",
        "    \n",
        "    loop{\n",
        "    \n",
        "        println!(\"Digite um número: \");\n",
        "    \n",
        "        io::stdin().read_line(&mut guess)  //referência para tipo mutável\n",
        "            .expect(\"Falha ao ler dados\"); // Ativado quando Result da função não for Ok\n",
        "        \n",
        "        let guess: u32 = match guess.trim().parse() { // similar a tratamento de exceção\n",
        "            Ok(num) => num,\n",
        "            Err(_) => continue, // .println!(\"Por favor, digite um número!\");\n",
        "        };\n",
        "            \n",
        "    \n",
        "        println!(\"O número digitado foi: {}\", guess);\n",
        "    \n",
        "        match guess.cmp(&num) { // tipagem forte!\n",
        "            Ordering::Less => println!(\"Too small!\"),\n",
        "            Ordering::Greater => println!(\"Too big!\"),\n",
        "            Ordering::Equal => {\n",
        "                println!(\"You win!\");\n",
        "                break;\n",
        "            }\n",
        "        }\n",
        "    }\n",
        "}\n",
        "\n",
        "//main();"
      ],
      "execution_count": null,
      "outputs": []
    },
    {
      "cell_type": "code",
      "metadata": {
        "id": "TSzmIAsXIfdN"
      },
      "source": [
        "// Produtor / consumidor\n",
        "use std::sync::{Arc, Mutex, Condvar};\n",
        "use std::thread;\n",
        "use std::time::Duration;\n",
        "\n",
        "struct Producer {\n",
        "        cvar: Arc<(Mutex<bool>, Condvar)>\n",
        "}\n",
        "\n",
        "impl Producer {\n",
        "    pub fn new(cvar: Arc<(Mutex<bool>, Condvar)>) -> Producer {\n",
        "        Producer {\n",
        "            cvar: cvar\n",
        "        }\n",
        "    }\n",
        "\n",
        "    pub fn get_cvar(&self) ->  &Arc<(Mutex<bool>, Condvar)> {\n",
        "        &self.cvar\n",
        "    }\n",
        "\n",
        "    pub fn start(&self) {\n",
        "        let pair = self.cvar.clone();\n",
        "        thread::spawn(move || {\n",
        "            loop {\n",
        "                let &(ref lock, ref cvar) = &*pair;\n",
        "                thread::sleep(Duration::from_millis(1000));\n",
        "                let mut status = lock.lock().unwrap();\n",
        "                *status = true;\n",
        "                cvar.notify_all();\n",
        "                *status = false;\n",
        "            }\n",
        "        });\n",
        "    }\n",
        "}\n",
        "\n",
        "\n",
        "struct Consumer<'a> {\n",
        "    name: String,\n",
        "    producer: &'a Producer\n",
        "}\n",
        "\n",
        "impl <'a>Consumer<'a> {\n",
        "    pub fn new(name: String, producer: &'a Producer) -> Consumer<'a> {\n",
        "        Consumer {\n",
        "            name: name,\n",
        "            producer: producer\n",
        "        }\n",
        "    }\n",
        "    pub fn start(&self) {\n",
        "        let prod = self.producer.get_cvar().clone();\n",
        "        let name = self.name.clone();\n",
        "        thread::spawn(move || {\n",
        "                    let &(ref lock, ref cvar) = &*prod;\n",
        "                    let mut fetched = lock.lock().unwrap();\n",
        "                    loop {\n",
        "                        fetched = cvar.wait(fetched).unwrap();\n",
        "                        println!(\"Recieved {}\", name);\n",
        "                    }\n",
        "                });\n",
        "    }\n",
        "}\n",
        "\n",
        "\n",
        "fn main() {\n",
        "    let p = Producer::new(Arc::new((Mutex::new(false), Condvar::new())));\n",
        "    let c = Consumer::new(\"c1\".to_string(), &p);\n",
        "    let c2 = Consumer::new(\"c2\".to_string(), &p);\n",
        "    p.start();\n",
        "    c.start();\n",
        "    c2.start();\n",
        "    thread::sleep(Duration::from_millis(11000));\n",
        "}\n",
        "\n",
        "main();"
      ],
      "execution_count": null,
      "outputs": []
    },
    {
      "cell_type": "markdown",
      "metadata": {
        "id": "qzwaBZZIIfdO"
      },
      "source": [
        "Exercícios\n",
        "==\n",
        "1. Crie uma função que retorna o plural de uma palavra e possa ser usada no seguinte trecho de código:\n",
        "   "
      ]
    },
    {
      "cell_type": "code",
      "metadata": {
        "id": "jJTWqSZGIfdO"
      },
      "source": [
        "fn main(){ // função principal de um programa em Rust\n",
        "    let s = String::from(\"Livro\");\n",
        "    // adicione aqui o código para chamar a função plural\n",
        "    \n",
        "    println!(\n",
        "        \"Eu tenho um {}, você tem dois {}\",\n",
        "        s,\n",
        "        // adicione algo aqui,\n",
        "    );\n",
        "}\n",
        "\n",
        "fn plural() {} // defina esta função"
      ],
      "execution_count": null,
      "outputs": []
    },
    {
      "cell_type": "markdown",
      "metadata": {
        "id": "O8dvRPeXIfdO"
      },
      "source": [
        "2. Tente criar um programa em Rust que simule um deadlock. Pesquise estratégias para evitar deadlocks (em outras linguagens) e tente implementá-las em Rust.\n",
        "\n",
        "----\n",
        "**DESAFIO**: *ver Moodle*."
      ]
    }
  ]
}