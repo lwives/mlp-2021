{
  "nbformat": 4,
  "nbformat_minor": 0,
  "metadata": {
    "kernelspec": {
      "display_name": "Rust",
      "language": "rust",
      "name": "rust"
    },
    "language_info": {
      "codemirror_mode": "rust",
      "file_extension": ".rs",
      "mimetype": "text/rust",
      "name": "Rust",
      "pygment_lexer": "rust",
      "version": ""
    },
    "colab": {
      "name": "Rust.ipynb",
      "provenance": [],
      "collapsed_sections": []
    }
  },
  "cells": [
    {
      "cell_type": "markdown",
      "metadata": {
        "id": "9aExZP_EIfcz"
      },
      "source": [
        "#Prática com LP Rust\n",
        "\n",
        "\n",
        "Visão geral da linguagem e alguns exemplos de recursos de gerenciamento de concorrência.\n",
        "\n"
      ]
    },
    {
      "cell_type": "markdown",
      "metadata": {
        "id": "m50lsq0eIqtV"
      },
      "source": [
        "\n",
        "\n",
        "---\n",
        "### Atenção, caso esteja usando o Google Colab:\n",
        "\n",
        "Caso esteja usando o Google Colab, é necessário ativar o ambiente Rust ao executar esse arquivo pela primeira vez.\n",
        "\n",
        "Para fazer isso, execute o seguinte trecho de código (uma única vez):"
      ]
    },
    {
      "cell_type": "code",
      "metadata": {
        "id": "-KaGdQltI_j1"
      },
      "source": [
        "!apt install rustc\n",
        "!gdown --id 1PULtTc-2e9z4bswh_SQqL5oy_4JpfV7c\n",
        "!chmod +x evcxr_jupyter\n",
        "!./evcxr_jupyter --install"
      ],
      "execution_count": null,
      "outputs": []
    },
    {
      "cell_type": "markdown",
      "metadata": {
        "id": "ukx2KRkBJDGX"
      },
      "source": [
        "Depois de executar esse trecho e o Kernel ter sido instalado, recarregue a página (F5) e pule esse trecho (vá direto para as células seguintes)\n",
        "\n",
        "\n",
        "---\n",
        "\n"
      ]
    },
    {
      "cell_type": "markdown",
      "metadata": {
        "id": "mR91rC-0Imra"
      },
      "source": [
        "Variáveis\n",
        "==\n",
        "\n",
        "Variáveis são **definidas usando o comando 'let'**. \n",
        "\n",
        "O **exemplo seguinte declara uma variável ('x') e imprime seu valor na tela**. Perceba o uso da **macro de impressão** ('println!'), que recebe uma *string de formato* e *variáveis* (opcionais). Na string de formato, *{}* indica onde as variáveis vão ficar, na ordem em que aparecem."
      ]
    },
    {
      "cell_type": "code",
      "metadata": {
        "id": "7VK7PHfWIfc3",
        "colab": {
          "base_uri": "https://localhost:8080/"
        },
        "outputId": "992d0fd6-ead0-4ac5-80b8-2a43b20cb433"
      },
      "source": [
        "let x = 10; // Definição\n",
        "println!(\"Valor de x: {}\", x);   "
      ],
      "execution_count": 4,
      "outputs": [
        {
          "output_type": "stream",
          "name": "stdout",
          "text": [
            "Valor de x: 10\n"
          ]
        }
      ]
    },
    {
      "cell_type": "markdown",
      "metadata": {
        "id": "FKxmXRqKIfc5"
      },
      "source": [
        "----\n",
        "Em Rust, variáveis são **imutáveis** por natureza:"
      ]
    },
    {
      "cell_type": "code",
      "metadata": {
        "id": "DV_vrBkEIfc5",
        "outputId": "c045de65-7e98-4379-8e8b-3687af45d9da"
      },
      "source": [
        "x+=1;\n",
        "println!(\"valor de x {}\", x);"
      ],
      "execution_count": null,
      "outputs": [
        {
          "ename": "Error",
          "evalue": "cannot assign twice to immutable variable `x`",
          "output_type": "error",
          "traceback": [
            "x+=1;",
            "\u001b[91m^^^^\u001b[0m \u001b[94mcannot assign twice to immutable variable\u001b[0m",
            "cannot assign twice to immutable variable `x`"
          ]
        }
      ]
    },
    {
      "cell_type": "markdown",
      "metadata": {
        "id": "AmUxIaPyIfc6"
      },
      "source": [
        "----\n",
        "Se desejar mudar, deve explicitar isso com a palavra chave 'mut':"
      ]
    },
    {
      "cell_type": "code",
      "metadata": {
        "id": "2Aj47KmaIfc6",
        "outputId": "bf3e35e6-3076-41ea-8aa9-60b006d941d7"
      },
      "source": [
        "let mut y = 10; // mutável!\n",
        "y+=1;\n",
        "println!(\"Valor de y: {}\", y);"
      ],
      "execution_count": null,
      "outputs": [
        {
          "name": "stdout",
          "output_type": "stream",
          "text": [
            "Valor de y: 11\n"
          ]
        }
      ]
    },
    {
      "cell_type": "markdown",
      "metadata": {
        "id": "ranV4ejiIfc7"
      },
      "source": [
        "Tipos de Dados\n",
        "===\n",
        "\n",
        "**Rust tem vários tipos de dados**, como qualquer linguagem. Além dos **tipos primitivos** básicos (int, float, char e string), também tem **tipos compostos** (array, vetores, enums, structs).\n",
        "\n",
        "Rust **tem inferência de tipos**. Logo, não é necessário (nem recomendado) indicar o tipo das variáveis. Mas, se necessário, seguem alguns exemplos:"
      ]
    },
    {
      "cell_type": "code",
      "metadata": {
        "id": "rTSNfWh8Ifc7"
      },
      "source": [
        "// primitivos\n",
        "let i1 : i8 = 10;     // inteiro de 8 bits (com sinal), i.e., -128..+128\n",
        "let i2 : u8 = 10;     // inteiro de 8 bits (sem sinal), i.e.,    0..256\n",
        "let i3 : i16 = 10;    // inteiro de 16 bits (sem sinal)\n",
        "let i4 : u16 = 10;    // inteiro de 16 bits (com sinal)\n",
        "let i5 : i32 = 10;    // inteiro de 32 bits (sem sinal)\n",
        "let i6 : u32 = 10;    // inteiro de 32 bits (com sinal)\n",
        "let i7 : i64 = 10;    // inteiro de 64 bits (sem sinal)\n",
        "let i8 : u64 = 10;    // inteiro de 64 bits (com sinal)\n",
        "let i9 : isize = 10;  // inteiro dependente da arquitetura (com sinal)\n",
        "let i10: usize = 10;  // inteiro dependente da arquitetura (sem sinal)\n",
        "\n",
        "let f1: f32 = 2.2222; // ponto flutuante de 32 bits\n",
        "let f2: f64 = 2.2222; // ponto flutuante de 64 bits (default)\n",
        "\n",
        "let c: char = 'a';    // caractere unicode\n",
        "let b: bool = false;  // booleano"
      ],
      "execution_count": null,
      "outputs": []
    },
    {
      "cell_type": "code",
      "metadata": {
        "id": "EwY2ozTPIfc8",
        "outputId": "6ee3526a-83fc-488f-c0aa-68777be8bdaf"
      },
      "source": [
        "// compostos\n",
        "let tupla = (1, 'a', false);       // tupla\n",
        "println!(\"Primeiro elemento: {}\", tupla.0);\n",
        "println!(\"Terceiro elemento: {}\", tupla.2); // uso das tuplas via índice"
      ],
      "execution_count": null,
      "outputs": [
        {
          "name": "stdout",
          "output_type": "stream",
          "text": [
            "Primeiro elemento: 1\n",
            "Terceiro elemento: false\n"
          ]
        }
      ]
    },
    {
      "cell_type": "code",
      "metadata": {
        "id": "6Hud5Q6TIfc9",
        "outputId": "ab7856e3-6d98-426e-c241-20ad03e92b6b"
      },
      "source": [
        "let tupla = (500, 6.3, 1, 'a');\n",
        "let (a, b, c, d) = tupla; // atribuição por pattern matching\n",
        "println!(\"a={}, b={}, c={} e d={}\", a, b, c, d); "
      ],
      "execution_count": null,
      "outputs": [
        {
          "name": "stdout",
          "output_type": "stream",
          "text": [
            "a=500, b=6.3, c=1 e d=a\n"
          ]
        }
      ]
    },
    {
      "cell_type": "code",
      "metadata": {
        "id": "-lJMJ3_PIfc-",
        "outputId": "d4f4d57c-6a11-41bc-97c1-ae34e2fe8691"
      },
      "source": [
        "let a = [0.0, 3.1415, 2.334, 12.45]; // array\n",
        "println!(\"{}\", a[1]);"
      ],
      "execution_count": null,
      "outputs": [
        {
          "name": "stdout",
          "output_type": "stream",
          "text": [
            "3.1415\n"
          ]
        }
      ]
    },
    {
      "cell_type": "code",
      "metadata": {
        "id": "OO7iiDbqIfc-",
        "outputId": "74360a7f-bbd0-49c6-e5c1-a32cb8e11d38"
      },
      "source": [
        "println!(\"{:?}\", a); // mostra array inteiro"
      ],
      "execution_count": null,
      "outputs": [
        {
          "name": "stdout",
          "output_type": "stream",
          "text": [
            "[0.0, 3.1415, 2.334, 12.45]\n"
          ]
        }
      ]
    },
    {
      "cell_type": "code",
      "metadata": {
        "id": "JX_-bcgbIfc-"
      },
      "source": [
        "// enumerações\n",
        "enum EstacoesAno {\n",
        "    Primavera,\n",
        "    Verao,\n",
        "    Outono,\n",
        "    Inverno,\n",
        "};"
      ],
      "execution_count": null,
      "outputs": []
    },
    {
      "cell_type": "code",
      "metadata": {
        "id": "ZkLtSuAvIfc_",
        "outputId": "8e1bcc32-e271-48a7-ebbf-55a9dfd8856e"
      },
      "source": [
        "struct Pessoa {\n",
        "    nome : String,\n",
        "    idade: u8,\n",
        "    genero: char,\n",
        "}\n",
        "\n",
        "let p1 = Pessoa {\n",
        "    nome: String::from(\"Fulano da Silva\"),\n",
        "    idade: 21,\n",
        "    genero: 'm',\n",
        "};\n",
        "\n",
        "println!(\n",
        "    \"{} tem {} anos.\", \n",
        "    p1.nome, \n",
        "    p1.idade\n",
        ");"
      ],
      "execution_count": null,
      "outputs": [
        {
          "name": "stdout",
          "output_type": "stream",
          "text": [
            "Fulano da Silva tem 21 anos.\n"
          ]
        }
      ]
    },
    {
      "cell_type": "code",
      "metadata": {
        "id": "TSu_yDYmIfdA"
      },
      "source": [
        "struct Triangulo(u32, u32, u32); // tuple structs são structs sem nomes de atributo (úteis para dar semântica, pois criam um novo tipo por 'alias', sem compatibilidade)\n",
        "let t1 = Triangulo(3,4,5);"
      ],
      "execution_count": null,
      "outputs": []
    },
    {
      "cell_type": "code",
      "metadata": {
        "id": "B3nz-TiaIfdB",
        "outputId": "15c4d329-64ee-4f05-a954-0e3169c7908b"
      },
      "source": [
        "if (a,b,c)==t1 {\n",
        "    println!(\"compatível\");\n",
        "}else{\n",
        "    println!(\"não compatível\");\n",
        "}"
      ],
      "execution_count": null,
      "outputs": [
        {
          "ename": "Error",
          "evalue": "mismatched types",
          "output_type": "error",
          "traceback": [
            "if (a,b,c)==t1 {",
            "\u001b[91m            ^^\u001b[0m \u001b[94mexpected tuple, found struct `Triangulo`\u001b[0m",
            "mismatched types"
          ]
        }
      ]
    },
    {
      "cell_type": "code",
      "metadata": {
        "id": "lwln9qxsIfdB"
      },
      "source": [
        "// unit structs: não precisam ter atributos! \n",
        "struct MinhaEstrutura;\n",
        "let s = MinhaEstrutura;"
      ],
      "execution_count": null,
      "outputs": []
    },
    {
      "cell_type": "code",
      "metadata": {
        "id": "C9ftJ7fiIfdB",
        "outputId": "1def1b52-9187-425b-88c1-825a3e052e96"
      },
      "source": [
        "// structs podem ter funções associadas\n",
        "\n",
        "#[derive(Debug)] // Ativa modo debug \n",
        "\n",
        "// definição de uma estrutura\n",
        "struct Rectangle {\n",
        "   width: u32,\n",
        "   height: u32,\n",
        "}\n",
        "\n",
        "// definição de uma função que usa a estrutura\n",
        "impl Rectangle {\n",
        "   fn area(&self) -> u32{\n",
        "      self.width * self.height\n",
        "   }\n",
        "}\n",
        "\n",
        "// função que recebe a estrutura e mostra sua área\n",
        "fn area(rectangle: &Rectangle) -> u32 {\n",
        "   rectangle.width * rectangle.height\n",
        "}\n",
        "\n",
        "fn main() {\n",
        "   // definição de uma variável do tipo da estrutura\n",
        "   let rect1 = Rectangle { width: 30, height: 50 };\n",
        "\n",
        "   println!(\n",
        "      \"The area of the rectangle is {} square pixels.\",\n",
        "      area(&rect1)\n",
        "   );\n",
        "\n",
        "   println!(\n",
        "      \"The area of the rectangle is {} square pixels.\",\n",
        "      rect1.area() // semelhante a chamada de métodos\n",
        "   );\n",
        "\n",
        "   // println!(\"Rect1 is {}\", rect1); // erro porque rect não tem std::fmt::Display!\n",
        "\n",
        "   println!(\"Rect1 is {:?}\", rect1); // usa std::fmt::Debug, que todos têm se a depuração estiver ativada!\n",
        "\n",
        "   println!(\"Rect1 is {:#?}\", rect1); // usa std::fmt::Debug, que todos tem se a depuração estiver ativada!\n",
        "}\n",
        "\n",
        "main(); // no Jupyter precisamos chamar 'main'"
      ],
      "execution_count": null,
      "outputs": [
        {
          "name": "stdout",
          "output_type": "stream",
          "text": [
            "The area of the rectangle is 1500 square pixels.\n",
            "The area of the rectangle is 1500 square pixels.\n",
            "Rect1 is Rectangle { width: 30, height: 50 }\n",
            "Rect1 is Rectangle {\n",
            "    width: 30,\n",
            "    height: 50,\n",
            "}\n"
          ]
        }
      ]
    },
    {
      "cell_type": "markdown",
      "metadata": {
        "id": "enroPGi_IfdC"
      },
      "source": [
        "#Funções\n",
        "\n",
        "Funções são simples. Possuem um nome, parâmetros e um tipo de retorno (se retornar valor). **A maior diferença para outras linguagens é que a última linha sempre contém a expressão ou valor de retorno (sem ';' ao final)**:"
      ]
    },
    {
      "cell_type": "code",
      "metadata": {
        "id": "SbX_3B1LIfdC"
      },
      "source": [
        "// função 'inc' recebe 'x' e devolve 'x+1'\n",
        "fn inc(x: usize) -> usize {\n",
        "    x+1 // retorno de uma função é sua última linha (sem return e sem ';')\n",
        "}"
      ],
      "execution_count": null,
      "outputs": []
    },
    {
      "cell_type": "code",
      "metadata": {
        "id": "1DblvhVRIfdC",
        "outputId": "40e3d162-0a85-45cb-a92f-74d26cad59d5"
      },
      "source": [
        "println!(\"{}\", inc(10));"
      ],
      "execution_count": null,
      "outputs": [
        {
          "name": "stdout",
          "output_type": "stream",
          "text": [
            "11\n"
          ]
        }
      ]
    },
    {
      "cell_type": "markdown",
      "metadata": {
        "id": "9ZhMHE5DIfdC"
      },
      "source": [
        "**Na verdade, tudo em rust pode retornar um valor (como em C)**:"
      ]
    },
    {
      "cell_type": "code",
      "metadata": {
        "id": "ft4vAJ3NIfdD",
        "outputId": "02ad20d9-b2e8-4b21-fb22-942d8b0aaba9"
      },
      "source": [
        "// atribuição com base em expressão (ultimo elemento é expressão e não declaração!)\n",
        "let y = {\n",
        "   let x = 3; // definição\n",
        "   x + 1      // expressão (retornada) - tem que ser último elemento\n",
        "};\n",
        "println!(\"{}\", y);"
      ],
      "execution_count": null,
      "outputs": [
        {
          "name": "stdout",
          "output_type": "stream",
          "text": [
            "4\n"
          ]
        }
      ]
    },
    {
      "cell_type": "code",
      "metadata": {
        "id": "5ydPvXvVIfdD",
        "outputId": "8f4cd2dc-eb3f-4380-86bf-d092343ac47f"
      },
      "source": [
        "let condition = true;\n",
        "let number = \n",
        "    if condition { // number recebe 5 se condição for verdadeira ou 6 se for falsa\n",
        "        5\n",
        "    } else {\n",
        "        6\n",
        "    };\n",
        "println!(\"{}\", number);"
      ],
      "execution_count": null,
      "outputs": [
        {
          "name": "stdout",
          "output_type": "stream",
          "text": [
            "5\n"
          ]
        }
      ]
    },
    {
      "cell_type": "markdown",
      "metadata": {
        "id": "ualzVzy_IfdD"
      },
      "source": [
        "# Principais comandos\n"
      ]
    },
    {
      "cell_type": "code",
      "metadata": {
        "id": "Fd9l-nYLIfdE",
        "outputId": "60570ed9-167b-44cb-8d3b-ceec03b627e1"
      },
      "source": [
        "let a = 10;\n",
        "if a<10 {\n",
        "    println!(\"Menor do que 10.\");\n",
        "} else if a<20 {\n",
        "    println!(\"Maior que 10, mas menor do que 20\");\n",
        "} else {\n",
        "    println!(\"Maior que 20\");\n",
        "};  // repare no ';'"
      ],
      "execution_count": null,
      "outputs": [
        {
          "name": "stdout",
          "output_type": "stream",
          "text": [
            "Maior que 10, mas menor do que 20\n"
          ]
        }
      ]
    },
    {
      "cell_type": "code",
      "metadata": {
        "id": "ZI8uJSllIfdE",
        "colab": {
          "base_uri": "https://localhost:8080/"
        },
        "outputId": "793d7adb-af05-41f6-eb65-e65d1ac1ef0d"
      },
      "source": [
        "let mut i = 0;\n",
        "loop { // loop 'infinito' (i.e., indeterminado)\n",
        "    if i > 10 {\n",
        "        break;\n",
        "    }\n",
        "    i += 1;\n",
        "    println!(\"{}\", i);\n",
        "}; // repare no ';'"
      ],
      "execution_count": 6,
      "outputs": [
        {
          "output_type": "stream",
          "name": "stdout",
          "text": [
            "1\n",
            "2\n",
            "3\n",
            "4\n",
            "5\n",
            "6\n",
            "7\n",
            "8\n",
            "9\n",
            "10\n",
            "11\n"
          ]
        }
      ]
    },
    {
      "cell_type": "code",
      "metadata": {
        "id": "w8dupAYAIfdE",
        "colab": {
          "base_uri": "https://localhost:8080/"
        },
        "outputId": "4e5d98e5-eb9a-493a-897a-e6b28d0db86c"
      },
      "source": [
        "let mut i = 0;\n",
        "while i<10 {    \n",
        "    i += 1;\n",
        "    println!(\"{}\", i);\n",
        "}; // repare no ';'"
      ],
      "execution_count": 9,
      "outputs": [
        {
          "output_type": "stream",
          "name": "stdout",
          "text": [
            "1\n",
            "2\n",
            "3\n",
            "4\n",
            "5\n",
            "6\n",
            "7\n",
            "8\n",
            "9\n",
            "10\n"
          ]
        }
      ]
    },
    {
      "cell_type": "code",
      "metadata": {
        "id": "ymCrxp8qIfdE",
        "colab": {
          "base_uri": "https://localhost:8080/"
        },
        "outputId": "e1b48dca-f228-4c0a-fb4d-7007bdb6d52b"
      },
      "source": [
        "let mut i = 0;\n",
        "for i in 1..11{    \n",
        "    println!(\"{}\", i);\n",
        "}; // repare no ';'"
      ],
      "execution_count": 11,
      "outputs": [
        {
          "output_type": "stream",
          "name": "stdout",
          "text": [
            "1\n",
            "2\n",
            "3\n",
            "4\n",
            "5\n",
            "6\n",
            "7\n",
            "8\n",
            "9\n",
            "10\n"
          ]
        }
      ]
    },
    {
      "cell_type": "code",
      "metadata": {
        "id": "QWE8Au3kIfdF",
        "outputId": "ef1ba3c2-7699-4e4b-f0f5-81171733986d"
      },
      "source": [
        "let _estacoes = [\"primavera\", \"verao\", \"outono\", \"inverno\"];\n",
        "\n",
        "// recupera um iterador para percorrer os elementos do array\n",
        "// o retorno é uma tupla contendo (índice, elemento)\n",
        "for (_, elem) in _estacoes.iter().enumerate(){\n",
        "   println!(\"Estação: {}\", elem);\n",
        "};"
      ],
      "execution_count": null,
      "outputs": [
        {
          "name": "stdout",
          "output_type": "stream",
          "text": [
            "Estação: primavera\n",
            "Estação: verao\n",
            "Estação: outono\n",
            "Estação: inverno\n"
          ]
        }
      ]
    },
    {
      "cell_type": "code",
      "metadata": {
        "id": "9b7G0samIfdF",
        "outputId": "66be9397-b5f9-4055-a81c-de0b9a680a10"
      },
      "source": [
        "let x = 2;\n",
        "match x { // exemplo simples, mas pode ser algum padrão qualquer (pattern matching)\n",
        "    1 => println!(\"O número mais solitário.\"),\n",
        "    2 => println!(\"Uma companhia.\"),\n",
        "    3 => println!(\"Uma multidão.\"),\n",
        "    _ => println!(\"Outro número qualquer.\"),         // qualquer outro caso    \n",
        "};"
      ],
      "execution_count": null,
      "outputs": [
        {
          "name": "stdout",
          "output_type": "stream",
          "text": [
            "Uma companhia.\n"
          ]
        }
      ]
    },
    {
      "cell_type": "code",
      "metadata": {
        "id": "4ht9Wfl7IfdF",
        "outputId": "fcf3efeb-2009-44f0-d244-1259a303e6fb"
      },
      "source": [
        "// um exemplo com enumerações\n",
        "enum EstacoesAno {\n",
        "    Primavera,\n",
        "    Verao,\n",
        "    Outono,\n",
        "    Inverno,\n",
        "}\n",
        "\n",
        "let estacao = EstacoesAno::Primavera;\n",
        "match estacao {\n",
        "    Primavera => println!(\"Primavera\"),\n",
        "    Verao => println!(\"Verão\"),\n",
        "    Outono => println!(\"Outono\"),\n",
        "    Inverno => println!(\"Inverno\"),\n",
        "};"
      ],
      "execution_count": null,
      "outputs": [
        {
          "name": "stdout",
          "output_type": "stream",
          "text": [
            "Primavera\n"
          ]
        }
      ]
    },
    {
      "cell_type": "markdown",
      "metadata": {
        "id": "gcmo5E0fIfdG"
      },
      "source": [
        "Posse (ownership)\n",
        "==\n",
        "\n",
        "Rust usa uma **estratégia diferenciada para gerenciar a memória** e evitar problemas. Nela, **todo trecho de memória deve estar associado a uma variável e essa variável é sua dona**.\n",
        "\n",
        "**O proprietário** é **responsável por desalocar** a memória **e decidir se o dado armazenado nela é mutável ou não**. "
      ]
    },
    {
      "cell_type": "code",
      "metadata": {
        "id": "gYoXY5BsIfdG",
        "outputId": "7d88d221-6af7-4d38-a3d6-e859ba830aed"
      },
      "source": [
        "fn teste(){\n",
        "    let s1 = String::from(\"Olá\");\n",
        "    println!(\"{}\", s1);\n",
        "}\n",
        "teste();"
      ],
      "execution_count": null,
      "outputs": [
        {
          "name": "stdout",
          "output_type": "stream",
          "text": [
            "Olá\n"
          ]
        }
      ]
    },
    {
      "cell_type": "code",
      "metadata": {
        "id": "Vplj3n-kIfdG",
        "outputId": "905633a9-054a-486a-c7a3-0e31411f7b92"
      },
      "source": [
        "fn teste(){\n",
        "    let s1 = String::from(\"Olá\");\n",
        "    s1.push_str(\", como vai?\"); // imutável!\n",
        "    println!(\"{}\", s1);\n",
        "}\n",
        "teste();"
      ],
      "execution_count": null,
      "outputs": [
        {
          "ename": "Error",
          "evalue": "cannot borrow `s1` as mutable, as it is not declared as mutable",
          "output_type": "error",
          "traceback": [
            "    s1.push_str(\", como vai?\"); // imutável!",
            "\u001b[91m    ^^\u001b[0m \u001b[94mcannot borrow as mutable\u001b[0m",
            "cannot borrow `s1` as mutable, as it is not declared as mutable"
          ]
        }
      ]
    },
    {
      "cell_type": "code",
      "metadata": {
        "id": "nOYroP7tIfdH",
        "outputId": "2fac37a1-19e4-488d-9d5d-fc05bd9e2710"
      },
      "source": [
        "fn teste(){\n",
        "    let mut s1 = String::from(\"Olá\");\n",
        "    s1.push_str(\", como vai?\"); // mutável!\n",
        "    println!(\"{}\", s1);\n",
        "}\n",
        "teste();"
      ],
      "execution_count": null,
      "outputs": [
        {
          "name": "stdout",
          "output_type": "stream",
          "text": [
            "Olá, como vai?\n"
          ]
        }
      ]
    },
    {
      "cell_type": "markdown",
      "metadata": {
        "id": "--clOtYqIfdH"
      },
      "source": [
        "---\n",
        "Rust gerencia a alocação e desalocação das regiões de memória. **A desalocação é automática, quando a variável sai de escopo**."
      ]
    },
    {
      "cell_type": "code",
      "metadata": {
        "id": "dAv9tb7xIfdH",
        "outputId": "a94ea9eb-5434-4426-86c7-9c218605fea1"
      },
      "source": [
        "teste();"
      ],
      "execution_count": null,
      "outputs": [
        {
          "name": "stdout",
          "output_type": "stream",
          "text": [
            "Olá, como vai?\n"
          ]
        }
      ]
    },
    {
      "cell_type": "code",
      "metadata": {
        "id": "IaCh9-baIfdI",
        "outputId": "4bd3f952-8f99-4635-b995-6d31a70ed041"
      },
      "source": [
        "println!(\"{}\", s1); // saiu de escopo!"
      ],
      "execution_count": null,
      "outputs": [
        {
          "ename": "Error",
          "evalue": "cannot find value `s1` in this scope",
          "output_type": "error",
          "traceback": [
            "println!(\"{}\", s1); ",
            "\u001b[91m               ^^\u001b[0m \u001b[94m\u001b[0m",
            "cannot find value `s1` in this scope"
          ]
        }
      ]
    },
    {
      "cell_type": "markdown",
      "metadata": {
        "id": "atEv1Xb4IfdI"
      },
      "source": [
        "---\n",
        "Para tipos não primitivos, **Rust faz a transferência de posse automaticamente**:"
      ]
    },
    {
      "cell_type": "code",
      "metadata": {
        "id": "graaZLjeIfdI",
        "outputId": "76713a79-35f5-41df-ac27-8277b1806b97"
      },
      "source": [
        "let s1 = String::from(\"Teste\");\n",
        "let s2 = s1; // posse passa a ser de 's2'\n",
        "println!(\"{}\", s1); // não está mais disponível para uso!"
      ],
      "execution_count": null,
      "outputs": [
        {
          "ename": "Error",
          "evalue": "borrow of moved value: `s1`",
          "output_type": "error",
          "traceback": [
            "let s2 = s1; ",
            "\u001b[91m         ^^\u001b[0m \u001b[94mvalue moved here\u001b[0m",
            "println!(\"{}\", s1); ",
            "\u001b[91m               ^^\u001b[0m \u001b[94mvalue borrowed here after move\u001b[0m",
            "let s1 = String::from(\"Teste\");",
            "\u001b[91m    ^^\u001b[0m \u001b[94mmove occurs because `s1` has type `std::string::String`, which does not implement the `Copy` trait\u001b[0m",
            "borrow of moved value: `s1`"
          ]
        }
      ]
    },
    {
      "cell_type": "code",
      "metadata": {
        "id": "xluXLa7lIfdI",
        "outputId": "dfd1ed7f-9ed5-45ce-c87a-1bdcf0c5e3a7"
      },
      "source": [
        "// o mesmo acontece com funções!\n",
        "// veja o exemplo:\n",
        "fn falar(s:String){\n",
        "    println!(\"Eu falo: {}!\", s);\n",
        "}\n",
        "\n",
        "let s1 = String::from(\"Olá!\");\n",
        "falar(s1);          // transfere propriedade da região de memória para 's', dentro da função\n",
        "println!(\"{}\", s1); // 's1' não tem mais posse da região de memória"
      ],
      "execution_count": null,
      "outputs": [
        {
          "ename": "Error",
          "evalue": "borrow of moved value: `s1`",
          "output_type": "error",
          "traceback": [
            "falar(s1);",
            "\u001b[91m      ^^\u001b[0m \u001b[94mvalue moved here\u001b[0m",
            "println!(\"{}\", s1);",
            "\u001b[91m               ^^\u001b[0m \u001b[94mvalue borrowed here after move\u001b[0m",
            "let s1 = String::from(\"Olá!\");",
            "\u001b[91m    ^^\u001b[0m \u001b[94mmove occurs because `s1` has type `std::string::String`, which does not implement the `Copy` trait\u001b[0m",
            "borrow of moved value: `s1`"
          ]
        }
      ]
    },
    {
      "cell_type": "code",
      "metadata": {
        "id": "dmSiW5TfIfdJ",
        "outputId": "1b7f2896-c169-4f09-ec9d-4389c5f9fc89"
      },
      "source": [
        "// no retorno também:\n",
        "fn retorna() -> String{\n",
        "    String::from(\"teste\")\n",
        "}\n",
        "let ss = retorna();               // função transferiu dado (e não limpou a memória)\n",
        "println!(\"{}\", ss);"
      ],
      "execution_count": null,
      "outputs": [
        {
          "name": "stdout",
          "output_type": "stream",
          "text": [
            "teste\n"
          ]
        }
      ]
    },
    {
      "cell_type": "markdown",
      "metadata": {
        "id": "zs6KWx7iIfdJ"
      },
      "source": [
        "---\n",
        "Uma alternativa consiste em **clonar** um elemento:"
      ]
    },
    {
      "cell_type": "code",
      "metadata": {
        "id": "TextXnNaIfdJ",
        "outputId": "f6b350b6-b796-4ef5-8073-f56a86f8d210"
      },
      "source": [
        "// o mesmo acontece com funções!\n",
        "// veja o exemplo:\n",
        "fn falar(s:String){\n",
        "    println!(\"Eu falo: {}!\", s);\n",
        "}\n",
        "\n",
        "let s1 = String::from(\"Olá!\");\n",
        "falar(s1.clone());                  // cópia profunda (cria um clone, independente)\n",
        "println!(\"{}\", s1);"
      ],
      "execution_count": null,
      "outputs": [
        {
          "name": "stdout",
          "output_type": "stream",
          "text": [
            "Eu falo: Olá!!\n",
            "Olá!\n"
          ]
        }
      ]
    },
    {
      "cell_type": "code",
      "metadata": {
        "id": "yXBh_dffIfdK",
        "outputId": "0b64637d-8315-4608-f2b9-87dc598f8263"
      },
      "source": [
        "// Exemplo dos dois tipos principais de transferência (o terceiro seria o 'empréstimo')\n",
        "\n",
        "{ // define um novo nível de escopo\n",
        "    let s1 = String::from(\"hello\");\n",
        "    let s3 = s1.clone(); // faz \"cópia profunda\"\n",
        "    let _s2 = s1;        // parece cópia rasa! Mas não é... Na verdade, faz um 'move' (transfere a propriedade)...\n",
        "                         // Se não fizesse 'move', o que aconteceria com o conteúdo do ponteiro de s2? não existe mais?\n",
        "    // println!(\"{}, world!\", s1); // tenta usar s1, mas não existe mais, pois Rust fez um move...\n",
        "    println!(\"{}, world!\", s3); \n",
        "} // chama \"drop()\" automaticamente quando sai de escopo."
      ],
      "execution_count": null,
      "outputs": [
        {
          "name": "stdout",
          "output_type": "stream",
          "text": [
            "hello, world!\n"
          ]
        }
      ]
    },
    {
      "cell_type": "markdown",
      "metadata": {
        "id": "U5ikJOnNIfdK"
      },
      "source": [
        "-------\n",
        "Outra **alternativa consiste em 'emprestar'** (borrow) a entidade. Isso é feito com referências ('&'). A alocação e desalocação ainda são do dono, mas outros podem usar a memória, momentaneamente."
      ]
    },
    {
      "cell_type": "code",
      "metadata": {
        "id": "rM-eslO1IfdK",
        "outputId": "e243a28c-d1ef-4a7b-c2cb-3a7551296053"
      },
      "source": [
        "// passagem por empréstimo (borrowing)\n",
        "fn tamanho(s: &String) -> usize { // '&' é o segredo\n",
        "   s.len()\n",
        "}\n",
        "\n",
        "let s2 = String::from(\"teste\");\n",
        "let len = tamanho(&s2); // passa por referência (não transfere a propriedade)\n",
        "println!(\"O tamanho de '{}' é: {}\", s2, len);"
      ],
      "execution_count": null,
      "outputs": [
        {
          "name": "stdout",
          "output_type": "stream",
          "text": [
            "O tamanho de 'teste' é: 5\n"
          ]
        }
      ]
    },
    {
      "cell_type": "code",
      "metadata": {
        "id": "a64rySncIfdK",
        "outputId": "ba9640f8-b327-4945-a4b9-9c5969f5978f"
      },
      "source": [
        "// cuidado com o trecho de código seguinte:\n",
        "fn retorna_nome() -> &str {                  // tipo de retorno é por empréstimo\n",
        "    let n = String::from(\"Leandro\");\n",
        "    &n                                       // retorna 'n' por empréstimo\n",
        "}\n",
        "\n",
        "let nome = retorna_nome();                   // 'nome' toma 'n' emprestado, mas ocorre um erro!!!!"
      ],
      "execution_count": null,
      "outputs": [
        {
          "ename": "Error",
          "evalue": "missing lifetime specifier",
          "output_type": "error",
          "traceback": [
            "fn retorna_nome() -> &str { // por empréstimo",
            "\u001b[91m                     ^\u001b[0m \u001b[94mexpected named lifetime parameter\u001b[0m",
            "missing lifetime specifier"
          ]
        }
      ]
    },
    {
      "cell_type": "markdown",
      "metadata": {
        "id": "oz01978bx0y9"
      },
      "source": [
        "No trecho anterior, o empréstimo nem ocorre, pois o tempo de vida do conteúdo de 'n' é a própria função..."
      ]
    },
    {
      "cell_type": "markdown",
      "metadata": {
        "id": "AjPHZI9MIfdK"
      },
      "source": [
        "Threads\n",
        "==="
      ]
    },
    {
      "cell_type": "code",
      "metadata": {
        "id": "hVgNnMKkIfdK",
        "outputId": "182ac706-0eff-4bc7-8b7d-9832acc77d94"
      },
      "source": [
        "use std::thread;                                                                // biblioteca de threads\n",
        "use std::time::Duration;\n",
        "\n",
        "fn main() {\n",
        "   // cria uma thread e passa uma closure contendo o código a ser executado nela:\n",
        "   let t1 = thread::spawn(|| {                            \n",
        "       for i in 1..10 {\n",
        "           println!(\"Olá número {} da thread-extra iniciada!\", i);\n",
        "           thread::sleep(Duration::from_millis(1));\n",
        "       }\n",
        "    });\n",
        "    \n",
        "    // de forma concorrente à thread-extra, main executa sua própria thread (principal)\n",
        "    for i in 1..5 {\n",
        "        println!(\"Olá número {} da thread principal!\", i);\n",
        "        thread::sleep(Duration::from_millis(1));\n",
        "    }\n",
        "    \n",
        "    // t1.join().unwrap();                                                      // aguarda thread-extra terminar (descomente para ver a diferença)\n",
        "    \n",
        "    println!(\"Fim do programa\");\n",
        "}\n",
        "\n",
        "main(); // no Jupyter, precisamos chamar explicitamente a função 'main' (mas isso não é necessário em um programa executado tradicionamente)"
      ],
      "execution_count": null,
      "outputs": [
        {
          "name": "stdout",
          "output_type": "stream",
          "text": [
            "Olá número 6 da thread-extra iniciada!\n",
            "Olá número 7 da thread-extra iniciada!\n",
            "Olá número 8 da thread-extra iniciada!\n",
            "Olá número 9 da thread-extra iniciada!\n",
            "Olá número 1 da thread principal!\n",
            "Olá número 1 da thread-extra iniciada!\n",
            "Olá número 2 da thread principal!\n",
            "Olá número 2 da thread-extra iniciada!\n",
            "Olá número 3 da thread principal!\n",
            "Olá número 3 da thread-extra iniciada!\n",
            "Olá número 4 da thread principal!\n",
            "Olá número 4 da thread-extra iniciada!\n",
            "Olá número 5 da thread-extra iniciada!\n",
            "Olá número 6 da thread-extra iniciada!\n",
            "Olá número 7 da thread-extra iniciada!\n",
            "Olá número 8 da thread-extra iniciada!\n",
            "Olá número 9 da thread-extra iniciada!\n",
            "Fim do programa\n"
          ]
        }
      ]
    },
    {
      "cell_type": "markdown",
      "metadata": {
        "id": "bzYnkbQgIfdL"
      },
      "source": [
        "MUTEX\n",
        "==\n",
        "\n",
        "Regiões de Exclusão Mútua (MUTual EXclusion) são necessárias quando duas tarefas concorrentes acessam a mesma região de memória. Isso é um problema, em especial quando elas escrevem na região, pois a escrita pode ser interrompida no meio do caminho e o resultado é imprevisível!"
      ]
    },
    {
      "cell_type": "code",
      "metadata": {
        "jupyter": {
          "source_hidden": true
        },
        "id": "_Jsfk0cDIfdL"
      },
      "source": [
        "// Problema: thread tenta usar região compartilhada (com main)\n",
        "// como a posse é transferida para a thread, main não consegue acessar a região\n",
        "\n",
        "use std::thread;\n",
        "use std::sync::{Mutex, Arc};\n",
        "\n",
        "fn main() {   \n",
        "    let v = vec![1, 2, 3];  // macro que cria um vetor no heap e devolve uma referência a ele\n",
        "    \n",
        "    // cria e inicia uma thread (e uma closure associada, onde todas as variáveis de main já criadas estão disponíveis para ela)\n",
        "    let t1 = thread::spawn(|| {    \n",
        "        println!(\"Vetor: {:?}\", v); // v é usada aqui e main deixa de ter a propriedade dela\n",
        "    });\n",
        "\n",
        "    // println!(\"Vetor: {:?}\", v); // problema pois a thread passou a ser dona do v\n",
        "    \n",
        "    t1.join().unwrap();  // main aguarda término da thread       \n",
        "}\n",
        "\n",
        "main();"
      ],
      "execution_count": null,
      "outputs": []
    },
    {
      "cell_type": "code",
      "metadata": {
        "id": "lp6kAtfRIfdL",
        "outputId": "9dfc9674-daaa-49f8-a4de-5b51a86ef0f9"
      },
      "source": [
        "// Alternativa: definir região de exclusão mútua (MUTEX)\n",
        "// Exemplo sem vector - uma variável simples\n",
        "\n",
        "use std::thread;\n",
        "use std::sync::{Mutex, Arc};\n",
        "\n",
        "fn main() {          \n",
        "    let m = Mutex::new(5);                          // wrapper que cria um MUTEX\n",
        "    { // novo escopo\n",
        "        let mut num = m.lock().unwrap();            // lock tenta adquirir uso exclusivo da região. Só quando consegue é que faz uso dela...    \n",
        "        *num = 6;                                   // modifica o conteúdo do mutex\n",
        "    } // fim do escopo (libera o lock) \n",
        "    \n",
        "    println!(\"m = {:?}\", m);                        // mutex pode ser compartilhado / emprestado entre diferentes escopos e threads!     \n",
        "}\n",
        "\n",
        "main();"
      ],
      "execution_count": null,
      "outputs": [
        {
          "name": "stdout",
          "output_type": "stream",
          "text": [
            "m = Mutex { data: 6 }\n"
          ]
        }
      ]
    },
    {
      "cell_type": "code",
      "metadata": {
        "id": "pIoZ3j3zIfdM",
        "colab": {
          "base_uri": "https://localhost:8080/"
        },
        "outputId": "9a9c9f8c-5c02-4744-9d84-6c196fde3a6b"
      },
      "source": [
        "// Uma possível solução para o problema de acesso simultâneo em diferentes threads)\n",
        "// Usa mutex (e um RC para saber quantas estão usando o MUTEX\n",
        "\n",
        "use std::thread;\n",
        "use std::sync::{Mutex, Arc};\n",
        "\n",
        "fn main() {   \n",
        "    let v = vec![1, 2, 3];  // macro que cria um vetor no heap e devolve uma referência a ele  \n",
        "    \n",
        "    // Mutex com reference counting (só destroi ele quando não tiver mais nenhuma thread usando!)\n",
        "    // 'counter' será compartilhado por várias threads, que consultam seu valor e incrementam ele em 1\n",
        "    let counter = Arc::new(Mutex::new(0));                                      // arc: atomic reference counted type\n",
        "    \n",
        "    let mut handles = vec![];                                                   // vetor de ponteiros para as threads\n",
        "    \n",
        "    // cria 10 threads\n",
        "    let mut i = 0;\n",
        "    for i in 0..10 {                                                            // se você remover o print que mostra o número da thread, pode trocar por 'for _ in 0..10'\n",
        "        let counter = Arc::clone(&counter);                                     // clona o contador (um para cada thread) \n",
        "        \n",
        "        // A seguir, cria uma thread e move mutex para ela      \n",
        "        // repare na palavra-chave 'move', que indica que a propriedade (ownership) \n",
        "        // das variáveis usadas na thread será transferida ela\n",
        "        let handle = thread::spawn(move || { \n",
        "            println!(\"Thread {}\", i);\n",
        "            let mut num = counter.lock().unwrap();                              // tenta dar lock para acessar\n",
        "            *num += 1;                                                          // incrementa somente depois de garantir que é a única thread usando\n",
        "        }); // libera o lock ao terminhar a thread\n",
        "        \n",
        "        handles.push(handle);                                                   // adiciona referência da thread no array\n",
        "    } \n",
        "    \n",
        "    // aguarda todas as threads terminarem\n",
        "    for handle in handles {\n",
        "       handle.join().unwrap();\n",
        "    }\n",
        "    \n",
        "    println!(\"Resultado: {}\", *counter.lock().unwrap()); \n",
        "    println!(\"Fim do programa\");\n",
        "}\n",
        "\n",
        "main();"
      ],
      "execution_count": 34,
      "outputs": [
        {
          "output_type": "stream",
          "name": "stdout",
          "text": [
            "Thread 1\n",
            "Thread 9\n",
            "Thread 8\n",
            "Thread 0\n",
            "Thread 2\n",
            "Thread 3\n",
            "Thread 4\n",
            "Thread 5\n",
            "Thread 6\n",
            "Thread 7\n",
            "Resultado: 10\n",
            "Fim do programa\n"
          ]
        }
      ]
    },
    {
      "cell_type": "markdown",
      "metadata": {
        "id": "OOl2tXMVIfdM"
      },
      "source": [
        "Canais de Comunicação\n",
        "=="
      ]
    },
    {
      "cell_type": "code",
      "metadata": {
        "id": "gGXyp-GMIfdM",
        "outputId": "cce2057d-ada7-4395-a823-a470ec609f66"
      },
      "source": [
        "// Uma solução para garantir concorrencia segura é a passagem de mensagens\n",
        "use std::thread;\n",
        "use std::sync::mpsc;  // mpsc significa multiple producer single consumer (produtor múltiplo com consumidor único)\n",
        "\n",
        "fn main() {\n",
        "   // cria canal de comunicação e devolve tupla contendo duas dimensões: tx e rx. \n",
        "   // Tx é um ponteiro para o transmissor (entrada) do canal. \n",
        "   // Rx é um ponteiro para o receptor (saída)\n",
        "   let (tx, rx) = mpsc::channel();  \n",
        "\n",
        "   // cria uma thread produtora\n",
        "   let t1 = thread::spawn(move || { \n",
        "      let val = String::from(\"ola\");\n",
        "      tx.send(val).unwrap(); //tenta mandar via canal. Se não der, termina (o ideal seria tratar o erro)!\n",
        "      // println!(\"val is {}\", val); // erro se descomentar, pois 'val' já foi transmitido\n",
        "   });\n",
        "\n",
        "   let retorno = rx.recv().unwrap(); // aguarda chegar uma mensagem. Alternativa: try_recv()\n",
        "   println!(\"Recebi: {}\", retorno);\n",
        "   println!(\"Fim do programa\");\n",
        "\n",
        "}\n",
        "\n",
        "main();"
      ],
      "execution_count": null,
      "outputs": [
        {
          "name": "stdout",
          "output_type": "stream",
          "text": [
            "Recebi: ola\n",
            "Fim do programa\n"
          ]
        }
      ]
    },
    {
      "cell_type": "code",
      "metadata": {
        "id": "1OAqHaFuIfdN",
        "outputId": "1e620a36-97d4-44c9-b840-c940c02da1e0"
      },
      "source": [
        "// Múltiplos produtores:\n",
        "use std::thread;\n",
        "use std::sync::mpsc;\n",
        "use std::time::Duration;\n",
        "\n",
        "fn main() {\n",
        "   let (tx, rx) = mpsc::channel();\n",
        "   let tx1 = mpsc::Sender::clone(&tx);   \n",
        "\n",
        "   thread::spawn(move || {\n",
        "      let vals = vec![\n",
        "         String::from(\"Oá \"),\n",
        "         String::from(\"da\"),\n",
        "         String::from(\"thread\"),\n",
        "         String::from(\"extra\"),\n",
        "      ];\n",
        "\n",
        "      for val in vals {\n",
        "         tx1.send(val).unwrap();\n",
        "         thread::sleep(Duration::from_secs(1));\n",
        "      }\n",
        "   });\n",
        "\n",
        "   thread::spawn(move || {\n",
        "      let vals = vec![\n",
        "         String::from(\"mais\"),\n",
        "         String::from(\"mensagens\"),\n",
        "         String::from(\"para\"),\n",
        "         String::from(\"você\"),\n",
        "      ];\n",
        "\n",
        "      for val in vals {\n",
        "         tx.send(val).unwrap();\n",
        "         thread::sleep(Duration::from_secs(1));\n",
        "      }\n",
        "   });\n",
        "\n",
        "   for received in rx {\n",
        "      println!(\"Recebi: {}\", received);\n",
        "   }\n",
        "}\n",
        "\n",
        "main();"
      ],
      "execution_count": null,
      "outputs": [
        {
          "name": "stdout",
          "output_type": "stream",
          "text": [
            "Recebi: Oá \n",
            "Recebi: mais\n",
            "Recebi: da\n",
            "Recebi: mensagens\n",
            "Recebi: para\n",
            "Recebi: thread\n",
            "Recebi: você\n",
            "Recebi: extra\n"
          ]
        }
      ]
    },
    {
      "cell_type": "markdown",
      "metadata": {
        "id": "nVwHLHhgIfdN"
      },
      "source": [
        "Exemplos mais completos\n",
        "=="
      ]
    },
    {
      "cell_type": "code",
      "metadata": {
        "id": "71gI0crjIfdN"
      },
      "source": [
        "// Pede para o usuário adivinhar um número\n",
        "// Não funciona aqui no Jupyter (só no compilador tradicional)\n",
        "extern crate rand; \n",
        "\n",
        "use std::io;\n",
        "use std::cmp::Ordering;\n",
        "use rand::Rng;\n",
        "\n",
        "fn main() {\n",
        "    // Rust tem inferência de tipos\n",
        "    let mut _i = 0;                                // declara variável mutável (por padrão são imutáveis)\n",
        "    let num = rand::thread_rng().gen_range(1,100); // variável imutável\n",
        "    let mut guess = String::new();                 // construtor de string (:: denota método de classe/de tipo)\n",
        "    \n",
        "    _i = 10; \n",
        "    // num = _i; // erro\n",
        "    \n",
        "    println!(\"Hello, world!\"); // '!' indica uma macro e não uma função...\n",
        "    \n",
        "    println!(\"Valor de i: {} e valor de num: {}\", _i, num);\n",
        "    \n",
        "    loop{\n",
        "    \n",
        "        println!(\"Digite um número: \");\n",
        "    \n",
        "        io::stdin().read_line(&mut guess)  //referência para tipo mutável\n",
        "            .expect(\"Falha ao ler dados\"); // Ativado quando Result da função não for Ok\n",
        "        \n",
        "        let guess: u32 = match guess.trim().parse() { // similar a tratamento de exceção\n",
        "            Ok(num) => num,\n",
        "            Err(_) => continue, // .println!(\"Por favor, digite um número!\");\n",
        "        };\n",
        "            \n",
        "    \n",
        "        println!(\"O número digitado foi: {}\", guess);\n",
        "    \n",
        "        match guess.cmp(&num) { // tipagem forte!\n",
        "            Ordering::Less => println!(\"Too small!\"),\n",
        "            Ordering::Greater => println!(\"Too big!\"),\n",
        "            Ordering::Equal => {\n",
        "                println!(\"You win!\");\n",
        "                break;\n",
        "            }\n",
        "        }\n",
        "    }\n",
        "}\n",
        "\n",
        "//main();"
      ],
      "execution_count": null,
      "outputs": []
    },
    {
      "cell_type": "code",
      "metadata": {
        "id": "TSzmIAsXIfdN",
        "outputId": "184b3b23-f4ab-4c1c-918f-7ea2698b1102"
      },
      "source": [
        "// Produtor / consumidor\n",
        "use std::sync::{Arc, Mutex, Condvar};\n",
        "use std::thread;\n",
        "use std::time::Duration;\n",
        "\n",
        "struct Producer {\n",
        "        cvar: Arc<(Mutex<bool>, Condvar)>\n",
        "}\n",
        "\n",
        "impl Producer {\n",
        "    pub fn new(cvar: Arc<(Mutex<bool>, Condvar)>) -> Producer {\n",
        "        Producer {\n",
        "            cvar: cvar\n",
        "        }\n",
        "    }\n",
        "\n",
        "    pub fn get_cvar(&self) ->  &Arc<(Mutex<bool>, Condvar)> {\n",
        "        &self.cvar\n",
        "    }\n",
        "\n",
        "    pub fn start(&self) {\n",
        "        let pair = self.cvar.clone();\n",
        "        thread::spawn(move || {\n",
        "            loop {\n",
        "                let &(ref lock, ref cvar) = &*pair;\n",
        "                thread::sleep(Duration::from_millis(1000));\n",
        "                let mut status = lock.lock().unwrap();\n",
        "                *status = true;\n",
        "                cvar.notify_all();\n",
        "                *status = false;\n",
        "            }\n",
        "        });\n",
        "    }\n",
        "}\n",
        "\n",
        "\n",
        "struct Consumer<'a> {\n",
        "    name: String,\n",
        "    producer: &'a Producer\n",
        "}\n",
        "\n",
        "impl <'a>Consumer<'a> {\n",
        "    pub fn new(name: String, producer: &'a Producer) -> Consumer<'a> {\n",
        "        Consumer {\n",
        "            name: name,\n",
        "            producer: producer\n",
        "        }\n",
        "    }\n",
        "    pub fn start(&self) {\n",
        "        let prod = self.producer.get_cvar().clone();\n",
        "        let name = self.name.clone();\n",
        "        thread::spawn(move || {\n",
        "                    let &(ref lock, ref cvar) = &*prod;\n",
        "                    let mut fetched = lock.lock().unwrap();\n",
        "                    loop {\n",
        "                        fetched = cvar.wait(fetched).unwrap();\n",
        "                        println!(\"Recieved {}\", name);\n",
        "                    }\n",
        "                });\n",
        "    }\n",
        "}\n",
        "\n",
        "\n",
        "fn main() {\n",
        "    let p = Producer::new(Arc::new((Mutex::new(false), Condvar::new())));\n",
        "    let c = Consumer::new(\"c1\".to_string(), &p);\n",
        "    let c2 = Consumer::new(\"c2\".to_string(), &p);\n",
        "    p.start();\n",
        "    c.start();\n",
        "    c2.start();\n",
        "    thread::sleep(Duration::from_millis(11000));\n",
        "}\n",
        "\n",
        "main();"
      ],
      "execution_count": null,
      "outputs": [
        {
          "name": "stdout",
          "output_type": "stream",
          "text": [
            "Recieved c1\n",
            "Recieved c2\n",
            "Recieved c1\n",
            "Recieved c2\n",
            "Recieved c1\n",
            "Recieved c2\n",
            "Recieved c1\n",
            "Recieved c2\n",
            "Recieved c1\n",
            "Recieved c2\n",
            "Recieved c1\n",
            "Recieved c2\n",
            "Recieved c1\n",
            "Recieved c2\n",
            "Recieved c2\n",
            "Recieved c1\n",
            "Recieved c2\n",
            "Recieved c1\n",
            "Recieved c2\n",
            "Recieved c1\n"
          ]
        }
      ]
    },
    {
      "cell_type": "markdown",
      "metadata": {
        "id": "qzwaBZZIIfdO"
      },
      "source": [
        "Exercícios\n",
        "==\n",
        "1. Crie uma função que retorna o plural de uma palavra e possa ser usada no seguinte trecho de código:\n",
        "   "
      ]
    },
    {
      "cell_type": "code",
      "metadata": {
        "id": "jJTWqSZGIfdO"
      },
      "source": [
        "fn main(){ // função principal de um programa em Rust\n",
        "    let s = String::from(\"Livro\");\n",
        "    // adicione aqui o código para chamar a função plural\n",
        "    \n",
        "    println!(\n",
        "        \"Eu tenho um {}, você tem dois {}\",\n",
        "        s,\n",
        "        // adicione algo aqui,\n",
        "    );\n",
        "}\n",
        "\n",
        "fn plural() {} // defina esta função"
      ],
      "execution_count": null,
      "outputs": []
    },
    {
      "cell_type": "markdown",
      "metadata": {
        "id": "O8dvRPeXIfdO"
      },
      "source": [
        "2. Tente criar um programa em Rust que simule um deadlock. Pesquise estratégias para evitar deadlocks (em outras linguagens) e tente implementá-las em Rust.\n",
        "\n",
        "----\n",
        "**DESAFIO**: *ver Moodle*."
      ]
    }
  ]
}