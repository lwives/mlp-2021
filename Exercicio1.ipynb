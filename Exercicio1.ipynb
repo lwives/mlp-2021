{
  "metadata": {
    "kernelspec": {
      "display_name": "Python 3",
      "language": "python",
      "name": "python3"
    },
    "language_info": {
      "mimetype": "text/x-python",
      "nbconvert_exporter": "python",
      "name": "python",
      "pygments_lexer": "ipython3",
      "version": "3.5.4",
      "file_extension": ".py",
      "codemirror_mode": {
        "version": 3,
        "name": "ipython"
      }
    }
  },
  "nbformat_minor": 2,
  "nbformat": 4,
  "cells": [
    {
      "cell_type": "markdown",
      "source": "CATP (laboratorio de LP de tipagem dinamica #1)\n===\n\nAquecimento \n-------------\n\nO **trecho de codigo a seguir** demonstra a definicao (simplificada) e o uso de uma classe em Python 3.0. \n\n**O exemplo envolve a classe Pessoa, desenvolvida nos laboratorios anteriores (de LPs com tipagem estatica). Analise-a e contraste-a com a classe feita anteriormente:**",
      "metadata": {}
    },
    {
      "cell_type": "code",
      "source": "class Pessoa:\n    def __init__(self): # Construtor\n        # o parametro 'self' eh o nome que Python da ao atributo 'this' de C++ ou Java \n        # (i.e., refere-se `a  propria instancia).\n        # Perceba que self eh declarado em todos os metodos, mas nao eh passado \n        # explicitamente na chamada (ver programa principal). Como em C++, Java e outras LPs, \n        # ele eh passado automaticamente como parametro para todos os metodos de classe. \n        # Assim, o metodo sabe qual instancia ele deve manipular... \n        self.set_idade(0)\n        self.set_nome('Indefinido')\n        self.set_sexo('I')\n\n    def set_nome(self, nome):\n        self.__nome = nome   # o atributo inicia com '__' para 'esconde-lo' \n\n    def set_idade(self, idade):\n        self.__idade = idade\n\n    def set_sexo(self, sexo):\n        if (sexo == 'I' or sexo == 'i'):\n            self.__sexo = 'I'\n        elif (sexo == 'M' or sexo == 'm'):\n            self.__sexo = 'M'\n        elif (sexo == 'F' or sexo == 'f'):\n            self.__sexo = 'F'\n\n    def get_nome(self):\n        return self.__nome\n\n    def get_idade(self):\n        return self.__idade\n\n    def get_sexo(self):\n        return self.__sexo\n\n# definicao da funcao principal do programa (o nome dela nao precisa ser main)\ndef main():\n    p1 = Pessoa() # cria, instancia uma pessoa\n    p2 = Pessoa() # outra pessoa\n\n    p2.set_idade(21)\n    p2.set_nome(\"Adriana\")\n    p2.set_sexo('F')\n    \n    print(\"Resultado da execucao:\")\n\n    print(\"p1: Nome: \" + p1.get_nome() + \" | Idade: \" + str(p1.get_idade()) + \" | Sexo: \" + p1.get_sexo())\n    print(\"p2: Nome: \" + p2.get_nome() + \" | Idade: \" + str(p2.get_idade()) + \" | Sexo: \" + p2.get_sexo()) \n    \n# executa a funcao principal do programa\nif (__name__ == \"__main__\"):    # o programa inicia a execucao aqui\n      main()                    # chama a funcao main (poderia ter outro nome)",
      "metadata": {
        "trusted": true
      },
      "execution_count": 4,
      "outputs": [
        {
          "text": "Resultado da execucao:\np1: Nome: Indefinido | Idade: 0 | Sexo: I\np2: Nome: Adriana | Idade: 21 | Sexo: F\n",
          "name": "stdout",
          "output_type": "stream"
        }
      ]
    },
    {
      "cell_type": "markdown",
      "source": "---\n\nO **trecho de codigo seguinte** demonstra a definicao e o uso de uma classe filha de Pessoa, por heranca: ",
      "metadata": {}
    },
    {
      "cell_type": "code",
      "source": "from enum import Enum\n\nclass NivelAlunos(Enum):\n    INDEFINIDO = 0\n    FUNDAMENTAL = 1\n    MEDIO = 2\n    GRADUACAO = 3\n    MESTRADO = 4\n    DOUTORADO = 5\n    \n    # ToString de Python (chamado pela função str())\n    def __str__(self):\n        return self.name\n    \nclass Aluno(Pessoa):\n    # Construtor com valores default:\n    def __init__(self, nome='Indefinido', sexo='I', idade=0, matricula='Indefinida', \n                 nivel=NivelAlunos.INDEFINIDO):        \n        # Pessoa.__init__(self)      # chama construtor da classe pai (nao eh necessario)\n        self.set_nome(nome)\n        self.set_idade(idade)\n        self.set_sexo(sexo)\n        self.matricula = matricula # propriedade (ver abaixo)\n        self.nivel = nivel         # propriedade (ver abaixo)\n        \n    def __str__(self):\n        string_resultante = \"Aluno [Nome: \" + self.get_nome() + \\\n        \", Idade: \" + str(self.get_idade()) + \\\n        \", Gênero: \" + self.get_sexo() + \\\n        \", Matrícula: \" + self.matricula + \\\n        \", Nível: \" + str(self.nivel) + \"]\"\n        \n        return string_resultante \n                   \n    @property                    # permite que o atributo seja visto do lado de fora, como uma propriedade \n    def matricula(self):         # propriedades chamam implicitamente o metodo (como um 'getter')  \n        return self.__matricula  # veja no main que a propriedade eh acessada como se fosse um atributo normal! \n\n    @matricula.setter\n    def matricula(self, matricula):   # define um metodo 'getter' para a propriedade \n        self.__matricula = matricula  # poderia ter um codigo de validacao...      \n    \n    @property\n    def nivel(self):\n        return self.__nivel\n       \n    @nivel.setter\n    def nivel(self, nivel):\n        self.__nivel = nivel\n             \ndef main():\n    a1 = Aluno() \n    \n    print(\"Resultado da execucao:\")\n    \n    print(\"a1: Nome: \" + a1.get_nome() + \n          \" | Idade: \" + str(a1.get_idade()) + \n          \" | Sexo: \" + a1.get_sexo() + \n          \" | Matricula: \" + a1.matricula + \n          \" | Nivel: \" + str(a1.nivel))\n            \n    a1.set_idade(22)\n    a1.set_nome(\"Carlos\")\n    a1.set_sexo('M')\n    a1.matricula = '11111111'       # usa a propriedade como se fosse um atributo (por tras dos panos, chama o metodo)\n    a1.nivel = NivelAlunos.GRADUACAO # idem\n\n    print(a1)\n    \n    \n# o comando seguinte eh o que efetivamente inicia o programa\nif (__name__ == \"__main__\"):    \n      main()                    ",
      "metadata": {
        "trusted": true
      },
      "execution_count": 32,
      "outputs": [
        {
          "text": "Resultado da execucao:\na1: Nome: Indefinido | Idade: 0 | Sexo: I | Matricula: Indefinida | Nivel: INDEFINIDO\nAluno [Nome: Carlos, Idade: 22, Gênero: M, Matrícula: 11111111, Nível: GRADUACAO]\n",
          "name": "stdout",
          "output_type": "stream"
        }
      ]
    },
    {
      "cell_type": "markdown",
      "source": "Exercicio: \n============\n\n** Atencao: crie um novo bloco de notas (notebook) ou use as celulas abaixo para inserir sua solucao. Ao terminar, encaminhe o notebook resultante via tarefa no Moodle.**\n\n**Como fizemos nos laboratorios de OO com linguagens de tipagem estatica, defina uma classe 'Funcionario', filha de Pessoa. **\n\n**A classe Funcionario deve possuir os seguintes atributos (alem dos herdados de Pessoa), protegidos dentro do possivel usando propriedades:**\n\n* **'categoria', a ser escolhida entre a seguinte lista de possibilidades: INDEFINIDA, PROGRAMADOR, ANALISTA e GERENTE. Descobra como definir uma enumeracao em Python e use-a para este atributo; **\n* **'ingresso', que armazena o ano de ingresso do funcionario na empresa ou organizacao. O atributo deve ser validado de maneira que o funcionaio nao possa ingressar depois da data atual. Descubra como armazenar datas em Python ou armazene somente o ano de ingresso **\n\n**Consultando o material complementar (ver Moodle), descobra como definir um Array ou um Dicionario em Python, e use-o para armazenar 5 Funcionarios com dados ficticeos (se possivel, tente adicionar entidades diferentes, sorteadas aleatoriamente entre alunos, pessoas e funcionarios). Depois, usando algum comando de repeticao, mostre o conteudo dos alunos alocados no array (alunos).** ",
      "metadata": {}
    },
    {
      "cell_type": "code",
      "source": "",
      "metadata": {},
      "execution_count": null,
      "outputs": []
    }
  ]
}