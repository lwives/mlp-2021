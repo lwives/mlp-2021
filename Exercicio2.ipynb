{
  "metadata": {
    "kernelspec": {
      "display_name": "Python 2",
      "language": "python",
      "name": "python2"
    },
    "language_info": {
      "mimetype": "text/x-python",
      "nbconvert_exporter": "python",
      "name": "python",
      "pygments_lexer": "ipython2",
      "version": "2.7.15",
      "file_extension": ".py",
      "codemirror_mode": {
        "version": 2,
        "name": "ipython"
      }
    }
  },
  "nbformat_minor": 2,
  "nbformat": 4,
  "cells": [
    {
      "cell_type": "markdown",
      "source": "Laboratorio de LP de tipagem dinamica #2\n===\n\nAquecimento\n===========\n\nO **trecho de código a seguir** abre um arquivo CSV disponibilizado pelo professor no seu espaço pessoal no GitHub usando a biblioteca *`pandas`* (ver http://pandas.pydata.org/ para detalhes).\n\nO arquivo contém um trecho dos dados do ENADE de 2014.\n\nOs **dados originais** podem ser obtidos em:\nhttp://dados.gov.br/dataset/microdados-do-exame-nacional-de-desempenho-de-estudantes-enade\n\nEm especial, para este exemplo, foram obtidos os dados de 2014:\nhttp://download.inep.gov.br/microdados/Enade_Microdados/microdados_enade_2014.zip\n\nEles foram coletados, extraídos e disponibilizados na UR especificada no próprio código. Execute-o e perceba que **é muito simples coletar dados disponibilizados na Web!**\n\nLembre-se de que para executar um codigo eh necessario selecionar a celula que o contem e utilizar o botao \"play\" no menu superior. Voce tambem pode mandar executar todas as celulas de uma unica vez escolhendo a opcao \"Run all\" no menu \"Cell\". ",
      "metadata": {
        "deletable": true,
        "editable": true,
        "slideshow": {
          "slide_type": "slide"
        }
      }
    },
    {
      "cell_type": "code",
      "source": "import pandas as pd\nimport zipfile\nimport requests\nimport io\n\nfilename = '2014.csv'\nuri = 'http://raw.githubusercontent.com/lwives/mlp/master/' + filename\n\nprint(\"Pegando o conteúdo do arquivo: \", uri)    \ncontent = requests.get(uri).content\n\nprint('Arquivo lido!')",
      "metadata": {
        "collapsed": false,
        "deletable": true,
        "editable": true,
        "slideshow": {
          "slide_type": "subslide"
        }
      },
      "execution_count": 4,
      "outputs": [
        {
          "name": "stdout",
          "output_type": "stream",
          "text": "Pegando o conteúdo do arquivo:  http://raw.githubusercontent.com/lwives/mlp/master/2014.csv\nArquivo lido!\n"
        }
      ]
    },
    {
      "cell_type": "code",
      "source": "# se desejar ver o conteúdo do arquivo lido, descomente a linha seguinte e execute a célula\n\n# print(content.decode('utf-8'))",
      "metadata": {
        "collapsed": true,
        "deletable": true,
        "editable": true
      },
      "execution_count": 5,
      "outputs": []
    },
    {
      "cell_type": "markdown",
      "source": "**O trecho seguinte complementa o anterior, transformando os dados coletados em uma representação interna (dataframe), para que possam ser manipulados:**",
      "metadata": {
        "deletable": true,
        "editable": true,
        "slideshow": {
          "slide_type": "slide"
        }
      }
    },
    {
      "cell_type": "code",
      "source": "df = pd.read_csv(io.StringIO(content.decode('utf-8')))\n\n# Detalhes sobre funcionamento do pandas.read_csv em:\n# http://pandas.pydata.org/pandas-docs/stable/io.html#io-read-csv-table \ndf = pd.read_csv(uri, sep=\";\")",
      "metadata": {
        "collapsed": false,
        "deletable": true,
        "editable": true,
        "slideshow": {
          "slide_type": "fragment"
        }
      },
      "execution_count": 10,
      "outputs": []
    },
    {
      "cell_type": "markdown",
      "source": "**O trecho seguinte mostra algumas informações do arquivo lido (colunas/atributos): **",
      "metadata": {
        "deletable": true,
        "editable": true,
        "slideshow": {
          "slide_type": "slide"
        }
      }
    },
    {
      "cell_type": "code",
      "source": "print(\"Attributes found:\", df.columns.values) # mostra as colunas (atributos) que foram identificadas e lidas do arquivo\n\nprint(\"\\n Attributes and types:\\n\", df.dtypes) # mostra atributos lidos e respectivos tipos identificados\n\nprint(\"\\nNumber of Elements and attributes read:\", df.shape) # mostra dimensões dos dados lidos",
      "metadata": {
        "collapsed": false,
        "deletable": true,
        "editable": true,
        "slideshow": {
          "slide_type": "subslide"
        }
      },
      "execution_count": 11,
      "outputs": [
        {
          "name": "stdout",
          "output_type": "stream",
          "text": "Attributes found: ['nu_ano' 'co_ies' 'co_uf_curso' 'nu_idade' 'tp_sexo' 'ano_fim_2g'\n 'ano_in_grad' 'tp_pres' 'tp_pr_ger' 'tp_pr_ob_fg' 'tp_pr_di_fg'\n 'tp_pr_ob_ce' 'tp_pr_di_ce' 'tp_sfg_d1' 'tp_sfg_d2' 'tp_sce_d1'\n 'tp_sce_d2' 'tp_sce_d3' 'nt_obj_fg' 'nt_fg_d1_pt' 'nt_fg_d1_ct'\n 'nt_fg_d1' 'nt_fg_d2_pt' 'nt_fg_d2_ct' 'nt_fg_d2' 'nt_dis_fg' 'nt_fg'\n 'nt_obj_ce' 'nt_ce_d1' 'nt_ce_d2' 'nt_ce_d3' 'nt_dis_ce' 'nt_ce' 'nt_ger']\n\n Attributes and types:\n nu_ano           int64\nco_ies           int64\nco_uf_curso      int64\nnu_idade         int64\ntp_sexo         object\nano_fim_2g       int64\nano_in_grad      int64\ntp_pres          int64\ntp_pr_ger        int64\ntp_pr_ob_fg      int64\ntp_pr_di_fg      int64\ntp_pr_ob_ce      int64\ntp_pr_di_ce      int64\ntp_sfg_d1        int64\ntp_sfg_d2        int64\ntp_sce_d1        int64\ntp_sce_d2        int64\ntp_sce_d3        int64\nnt_obj_fg      float64\nnt_fg_d1_pt      int64\nnt_fg_d1_ct      int64\nnt_fg_d1         int64\nnt_fg_d2_pt      int64\nnt_fg_d2_ct      int64\nnt_fg_d2         int64\nnt_dis_fg      float64\nnt_fg          float64\nnt_obj_ce      float64\nnt_ce_d1         int64\nnt_ce_d2         int64\nnt_ce_d3         int64\nnt_dis_ce      float64\nnt_ce          float64\nnt_ger         float64\ndtype: object\n\nNumber of Elements and attributes read: (191, 34)\n"
        }
      ]
    },
    {
      "cell_type": "markdown",
      "source": "**A definição de o que significa cada coluna está disponível no portal do INEP (mais especificamente em uma subpasta dentro do arquivo disponível em http://download.inep.gov.br/microdados/Enade_Microdados/microdados_enade_2014.zip).**\n\n**O trecho seguinte mostra um sumário estatístico do arquivo:**",
      "metadata": {
        "deletable": true,
        "editable": true,
        "slideshow": {
          "slide_type": "slide"
        }
      }
    },
    {
      "cell_type": "code",
      "source": "# mostra primeiros 5 registros lidos do arquivo\nprint(df.head())\n\n# print(df) # mostra todos os dados lidos ",
      "metadata": {
        "collapsed": false,
        "deletable": true,
        "editable": true
      },
      "execution_count": 12,
      "outputs": [
        {
          "name": "stdout",
          "output_type": "stream",
          "text": "   nu_ano  co_ies  co_uf_curso  nu_idade tp_sexo  ano_fim_2g  ano_in_grad  \\\n0    2014       1           51        23       M        2007         2010   \n1    2014       1           51        24       M        2007         2010   \n2    2014       1           51        22       F        2009         2010   \n3    2014       1           51        24       F        2007         2010   \n4    2014       1           51        23       F        2008         2010   \n\n   tp_pres  tp_pr_ger  tp_pr_ob_fg   ...    nt_fg_d2  nt_dis_fg  nt_fg  \\\n0      555        555          555   ...          67       74.5   67.3   \n1      555        555          555   ...           0        0.0   37.5   \n2      555        555          555   ...          93       94.0   75.1   \n3      555        555          555   ...          83       71.5   81.1   \n4      555        555          555   ...          80       86.0   86.9   \n\n   nt_obj_ce  nt_ce_d1  nt_ce_d2  nt_ce_d3  nt_dis_ce  nt_ce  nt_ger  \n0       71.4        90        10        20       40.0   66.7    66.9  \n1       66.7         0        20         0        6.7   57.7    52.7  \n2       57.1        45        35         0       26.7   52.5    58.2  \n3       61.9        10        40        10       20.0   55.6    62.0  \n4       76.2         0        20        10       10.0   66.3    71.5  \n\n[5 rows x 34 columns]\n"
        }
      ]
    },
    {
      "cell_type": "code",
      "source": "df.describe()",
      "metadata": {
        "collapsed": false,
        "deletable": true,
        "editable": true,
        "slideshow": {
          "slide_type": "subslide"
        }
      },
      "execution_count": 13,
      "outputs": [
        {
          "execution_count": 13,
          "output_type": "execute_result",
          "data": {
            "text/html": "<div>\n<table border=\"1\" class=\"dataframe\">\n  <thead>\n    <tr style=\"text-align: right;\">\n      <th></th>\n      <th>nu_ano</th>\n      <th>co_ies</th>\n      <th>co_uf_curso</th>\n      <th>nu_idade</th>\n      <th>ano_fim_2g</th>\n      <th>ano_in_grad</th>\n      <th>tp_pres</th>\n      <th>tp_pr_ger</th>\n      <th>tp_pr_ob_fg</th>\n      <th>tp_pr_di_fg</th>\n      <th>...</th>\n      <th>nt_fg_d2</th>\n      <th>nt_dis_fg</th>\n      <th>nt_fg</th>\n      <th>nt_obj_ce</th>\n      <th>nt_ce_d1</th>\n      <th>nt_ce_d2</th>\n      <th>nt_ce_d3</th>\n      <th>nt_dis_ce</th>\n      <th>nt_ce</th>\n      <th>nt_ger</th>\n    </tr>\n  </thead>\n  <tbody>\n    <tr>\n      <th>count</th>\n      <td>191.0</td>\n      <td>191.000000</td>\n      <td>191.000000</td>\n      <td>191.000000</td>\n      <td>191.000000</td>\n      <td>191.000000</td>\n      <td>191.0</td>\n      <td>191.0</td>\n      <td>191.0</td>\n      <td>191.000000</td>\n      <td>...</td>\n      <td>191.000000</td>\n      <td>191.000000</td>\n      <td>191.000000</td>\n      <td>191.000000</td>\n      <td>191.000000</td>\n      <td>191.000000</td>\n      <td>191.000000</td>\n      <td>191.000000</td>\n      <td>191.000000</td>\n      <td>191.000000</td>\n    </tr>\n    <tr>\n      <th>mean</th>\n      <td>2014.0</td>\n      <td>2.068063</td>\n      <td>46.167539</td>\n      <td>24.246073</td>\n      <td>2007.073298</td>\n      <td>2009.376963</td>\n      <td>555.0</td>\n      <td>555.0</td>\n      <td>555.0</td>\n      <td>518.968586</td>\n      <td>...</td>\n      <td>47.157068</td>\n      <td>52.832461</td>\n      <td>62.716754</td>\n      <td>57.665445</td>\n      <td>21.596859</td>\n      <td>23.115183</td>\n      <td>8.324607</td>\n      <td>17.681675</td>\n      <td>51.663874</td>\n      <td>54.438743</td>\n    </tr>\n    <tr>\n      <th>std</th>\n      <td>0.0</td>\n      <td>0.768167</td>\n      <td>12.111030</td>\n      <td>3.584642</td>\n      <td>3.331646</td>\n      <td>1.162707</td>\n      <td>0.0</td>\n      <td>0.0</td>\n      <td>0.0</td>\n      <td>82.073004</td>\n      <td>...</td>\n      <td>35.435879</td>\n      <td>29.754667</td>\n      <td>17.261845</td>\n      <td>14.302858</td>\n      <td>27.389775</td>\n      <td>21.627403</td>\n      <td>14.665368</td>\n      <td>15.546007</td>\n      <td>13.009956</td>\n      <td>12.278225</td>\n    </tr>\n    <tr>\n      <th>min</th>\n      <td>2014.0</td>\n      <td>1.000000</td>\n      <td>13.000000</td>\n      <td>21.000000</td>\n      <td>1980.000000</td>\n      <td>2005.000000</td>\n      <td>555.0</td>\n      <td>555.0</td>\n      <td>555.0</td>\n      <td>333.000000</td>\n      <td>...</td>\n      <td>0.000000</td>\n      <td>0.000000</td>\n      <td>0.000000</td>\n      <td>14.300000</td>\n      <td>0.000000</td>\n      <td>0.000000</td>\n      <td>0.000000</td>\n      <td>0.000000</td>\n      <td>12.200000</td>\n      <td>16.700000</td>\n    </tr>\n    <tr>\n      <th>25%</th>\n      <td>2014.0</td>\n      <td>2.000000</td>\n      <td>51.000000</td>\n      <td>23.000000</td>\n      <td>2007.000000</td>\n      <td>2009.000000</td>\n      <td>555.0</td>\n      <td>555.0</td>\n      <td>555.0</td>\n      <td>555.000000</td>\n      <td>...</td>\n      <td>0.000000</td>\n      <td>36.000000</td>\n      <td>52.050000</td>\n      <td>52.400000</td>\n      <td>0.000000</td>\n      <td>0.000000</td>\n      <td>0.000000</td>\n      <td>0.850000</td>\n      <td>44.500000</td>\n      <td>47.250000</td>\n    </tr>\n    <tr>\n      <th>50%</th>\n      <td>2014.0</td>\n      <td>2.000000</td>\n      <td>53.000000</td>\n      <td>24.000000</td>\n      <td>2008.000000</td>\n      <td>2010.000000</td>\n      <td>555.0</td>\n      <td>555.0</td>\n      <td>555.0</td>\n      <td>555.000000</td>\n      <td>...</td>\n      <td>58.000000</td>\n      <td>62.500000</td>\n      <td>65.100000</td>\n      <td>57.100000</td>\n      <td>0.000000</td>\n      <td>20.000000</td>\n      <td>0.000000</td>\n      <td>16.700000</td>\n      <td>52.600000</td>\n      <td>55.500000</td>\n    </tr>\n    <tr>\n      <th>75%</th>\n      <td>2014.0</td>\n      <td>2.000000</td>\n      <td>53.000000</td>\n      <td>25.000000</td>\n      <td>2009.000000</td>\n      <td>2010.000000</td>\n      <td>555.0</td>\n      <td>555.0</td>\n      <td>555.0</td>\n      <td>555.000000</td>\n      <td>...</td>\n      <td>78.000000</td>\n      <td>75.000000</td>\n      <td>75.050000</td>\n      <td>66.700000</td>\n      <td>40.000000</td>\n      <td>35.000000</td>\n      <td>10.000000</td>\n      <td>28.300000</td>\n      <td>60.650000</td>\n      <td>63.350000</td>\n    </tr>\n    <tr>\n      <th>max</th>\n      <td>2014.0</td>\n      <td>4.000000</td>\n      <td>53.000000</td>\n      <td>51.000000</td>\n      <td>2011.000000</td>\n      <td>2012.000000</td>\n      <td>555.0</td>\n      <td>555.0</td>\n      <td>555.0</td>\n      <td>555.000000</td>\n      <td>...</td>\n      <td>98.000000</td>\n      <td>97.000000</td>\n      <td>94.200000</td>\n      <td>90.500000</td>\n      <td>90.000000</td>\n      <td>90.000000</td>\n      <td>80.000000</td>\n      <td>60.000000</td>\n      <td>79.600000</td>\n      <td>79.600000</td>\n    </tr>\n  </tbody>\n</table>\n<p>8 rows × 33 columns</p>\n</div>",
            "text/plain": "       nu_ano      co_ies  co_uf_curso    nu_idade   ano_fim_2g  ano_in_grad  \\\ncount   191.0  191.000000   191.000000  191.000000   191.000000   191.000000   \nmean   2014.0    2.068063    46.167539   24.246073  2007.073298  2009.376963   \nstd       0.0    0.768167    12.111030    3.584642     3.331646     1.162707   \nmin    2014.0    1.000000    13.000000   21.000000  1980.000000  2005.000000   \n25%    2014.0    2.000000    51.000000   23.000000  2007.000000  2009.000000   \n50%    2014.0    2.000000    53.000000   24.000000  2008.000000  2010.000000   \n75%    2014.0    2.000000    53.000000   25.000000  2009.000000  2010.000000   \nmax    2014.0    4.000000    53.000000   51.000000  2011.000000  2012.000000   \n\n       tp_pres  tp_pr_ger  tp_pr_ob_fg  tp_pr_di_fg     ...        nt_fg_d2  \\\ncount    191.0      191.0        191.0   191.000000     ...      191.000000   \nmean     555.0      555.0        555.0   518.968586     ...       47.157068   \nstd        0.0        0.0          0.0    82.073004     ...       35.435879   \nmin      555.0      555.0        555.0   333.000000     ...        0.000000   \n25%      555.0      555.0        555.0   555.000000     ...        0.000000   \n50%      555.0      555.0        555.0   555.000000     ...       58.000000   \n75%      555.0      555.0        555.0   555.000000     ...       78.000000   \nmax      555.0      555.0        555.0   555.000000     ...       98.000000   \n\n        nt_dis_fg       nt_fg   nt_obj_ce    nt_ce_d1    nt_ce_d2    nt_ce_d3  \\\ncount  191.000000  191.000000  191.000000  191.000000  191.000000  191.000000   \nmean    52.832461   62.716754   57.665445   21.596859   23.115183    8.324607   \nstd     29.754667   17.261845   14.302858   27.389775   21.627403   14.665368   \nmin      0.000000    0.000000   14.300000    0.000000    0.000000    0.000000   \n25%     36.000000   52.050000   52.400000    0.000000    0.000000    0.000000   \n50%     62.500000   65.100000   57.100000    0.000000   20.000000    0.000000   \n75%     75.000000   75.050000   66.700000   40.000000   35.000000   10.000000   \nmax     97.000000   94.200000   90.500000   90.000000   90.000000   80.000000   \n\n        nt_dis_ce       nt_ce      nt_ger  \ncount  191.000000  191.000000  191.000000  \nmean    17.681675   51.663874   54.438743  \nstd     15.546007   13.009956   12.278225  \nmin      0.000000   12.200000   16.700000  \n25%      0.850000   44.500000   47.250000  \n50%     16.700000   52.600000   55.500000  \n75%     28.300000   60.650000   63.350000  \nmax     60.000000   79.600000   79.600000  \n\n[8 rows x 33 columns]"
          },
          "metadata": {}
        }
      ]
    },
    {
      "cell_type": "markdown",
      "source": "**Perceba que alguns atributos são *categóricos* e algumas das métricas não fazem sentido (p. ex., média para o ano). Mas podemos mudar a semântica dos atributos... **\n\n**Por exemplo, o trecho seguinte cria um novo atributo chamado \"ano\", tendo como base o atributo \"nu_ano\", mas em formato categórico. Depois, solicita para gerar dados estatísticos deste novo atributo:**",
      "metadata": {
        "deletable": true,
        "editable": true
      }
    },
    {
      "cell_type": "code",
      "source": "df[\"ano\"] = df[\"nu_ano\"].astype(\"category\")\ndf[\"ano\"].describe()",
      "metadata": {
        "collapsed": false,
        "deletable": true,
        "editable": true
      },
      "execution_count": 8,
      "outputs": [
        {
          "execution_count": 8,
          "output_type": "execute_result",
          "data": {
            "text/plain": "count      191\nunique       1\ntop       2014\nfreq       191\nName: ano, dtype: int64"
          },
          "metadata": {}
        }
      ]
    },
    {
      "cell_type": "markdown",
      "source": "**Também podemos pegar um subconjunto dos dados ou um dos atributos e colocá-los em ordem. O trecho de código seguinte seleciona a coluna relativa ao ano de conclusão do 2o grau e mostra os registros em ordem crescente, por este campo:**",
      "metadata": {
        "deletable": true,
        "editable": true
      }
    },
    {
      "cell_type": "code",
      "source": "df['ano_fim_2g'].sort_values()",
      "metadata": {
        "collapsed": false,
        "deletable": true,
        "editable": true
      },
      "execution_count": 9,
      "outputs": [
        {
          "execution_count": 9,
          "output_type": "execute_result",
          "data": {
            "text/plain": "54     1980\n158    1981\n162    1998\n136    1999\n102    1999\n150    1999\n27     2002\n104    2003\n52     2004\n40     2004\n60     2004\n62     2004\n101    2004\n177    2004\n56     2005\n38     2005\n119    2005\n88     2005\n20     2005\n51     2005\n144    2005\n74     2005\n172    2006\n94     2006\n180    2006\n140    2006\n148    2006\n107    2006\n65     2006\n137    2006\n       ... \n189    2009\n159    2009\n19     2009\n126    2009\n66     2009\n132    2009\n125    2009\n134    2009\n124    2009\n123    2009\n53     2009\n122    2009\n49     2009\n17     2009\n141    2009\n81     2009\n103    2009\n30     2009\n152    2009\n28     2009\n154    2009\n24     2009\n157    2009\n21     2009\n127    2009\n160    2009\n47     2009\n190    2009\n58     2010\n6      2011\nName: ano_fim_2g, dtype: int64"
          },
          "metadata": {}
        }
      ]
    },
    {
      "cell_type": "markdown",
      "source": "**Já o trecho seguinte cria uma nova tabela (data-frame) que contém as notas gerais dos alunos (Nota bruta da prova, i.e., a média ponderada da formação geral (25%) e componente específico (75%) (0 a 100)), ordenada por ano de finalização do 2o grau:**",
      "metadata": {
        "deletable": true,
        "editable": true
      }
    },
    {
      "cell_type": "code",
      "source": "df2 = df[['ano_fim_2g','nt_ger']]\ndf2.sort_values(by='ano_fim_2g')",
      "metadata": {
        "collapsed": false,
        "deletable": true,
        "editable": true
      },
      "execution_count": 17,
      "outputs": [
        {
          "execution_count": 17,
          "output_type": "execute_result",
          "data": {
            "text/html": "<div>\n<table border=\"1\" class=\"dataframe\">\n  <thead>\n    <tr style=\"text-align: right;\">\n      <th></th>\n      <th>ano_fim_2g</th>\n      <th>nt_ger</th>\n    </tr>\n  </thead>\n  <tbody>\n    <tr>\n      <th>54</th>\n      <td>1980</td>\n      <td>53.4</td>\n    </tr>\n    <tr>\n      <th>158</th>\n      <td>1981</td>\n      <td>45.0</td>\n    </tr>\n    <tr>\n      <th>162</th>\n      <td>1998</td>\n      <td>53.1</td>\n    </tr>\n    <tr>\n      <th>136</th>\n      <td>1999</td>\n      <td>73.6</td>\n    </tr>\n    <tr>\n      <th>102</th>\n      <td>1999</td>\n      <td>61.8</td>\n    </tr>\n    <tr>\n      <th>150</th>\n      <td>1999</td>\n      <td>38.9</td>\n    </tr>\n    <tr>\n      <th>27</th>\n      <td>2002</td>\n      <td>64.2</td>\n    </tr>\n    <tr>\n      <th>104</th>\n      <td>2003</td>\n      <td>39.1</td>\n    </tr>\n    <tr>\n      <th>52</th>\n      <td>2004</td>\n      <td>79.6</td>\n    </tr>\n    <tr>\n      <th>40</th>\n      <td>2004</td>\n      <td>54.9</td>\n    </tr>\n    <tr>\n      <th>60</th>\n      <td>2004</td>\n      <td>69.4</td>\n    </tr>\n    <tr>\n      <th>62</th>\n      <td>2004</td>\n      <td>65.1</td>\n    </tr>\n    <tr>\n      <th>101</th>\n      <td>2004</td>\n      <td>43.9</td>\n    </tr>\n    <tr>\n      <th>177</th>\n      <td>2004</td>\n      <td>45.8</td>\n    </tr>\n    <tr>\n      <th>56</th>\n      <td>2005</td>\n      <td>58.6</td>\n    </tr>\n    <tr>\n      <th>38</th>\n      <td>2005</td>\n      <td>58.1</td>\n    </tr>\n    <tr>\n      <th>119</th>\n      <td>2005</td>\n      <td>17.0</td>\n    </tr>\n    <tr>\n      <th>88</th>\n      <td>2005</td>\n      <td>57.2</td>\n    </tr>\n    <tr>\n      <th>20</th>\n      <td>2005</td>\n      <td>62.7</td>\n    </tr>\n    <tr>\n      <th>51</th>\n      <td>2005</td>\n      <td>59.4</td>\n    </tr>\n    <tr>\n      <th>144</th>\n      <td>2005</td>\n      <td>57.2</td>\n    </tr>\n    <tr>\n      <th>74</th>\n      <td>2005</td>\n      <td>64.9</td>\n    </tr>\n    <tr>\n      <th>172</th>\n      <td>2006</td>\n      <td>23.1</td>\n    </tr>\n    <tr>\n      <th>94</th>\n      <td>2006</td>\n      <td>50.0</td>\n    </tr>\n    <tr>\n      <th>180</th>\n      <td>2006</td>\n      <td>23.1</td>\n    </tr>\n    <tr>\n      <th>140</th>\n      <td>2006</td>\n      <td>58.7</td>\n    </tr>\n    <tr>\n      <th>148</th>\n      <td>2006</td>\n      <td>16.7</td>\n    </tr>\n    <tr>\n      <th>107</th>\n      <td>2006</td>\n      <td>68.9</td>\n    </tr>\n    <tr>\n      <th>65</th>\n      <td>2006</td>\n      <td>48.8</td>\n    </tr>\n    <tr>\n      <th>137</th>\n      <td>2006</td>\n      <td>57.1</td>\n    </tr>\n    <tr>\n      <th>...</th>\n      <td>...</td>\n      <td>...</td>\n    </tr>\n    <tr>\n      <th>189</th>\n      <td>2009</td>\n      <td>55.1</td>\n    </tr>\n    <tr>\n      <th>159</th>\n      <td>2009</td>\n      <td>63.3</td>\n    </tr>\n    <tr>\n      <th>19</th>\n      <td>2009</td>\n      <td>58.3</td>\n    </tr>\n    <tr>\n      <th>126</th>\n      <td>2009</td>\n      <td>48.2</td>\n    </tr>\n    <tr>\n      <th>66</th>\n      <td>2009</td>\n      <td>46.7</td>\n    </tr>\n    <tr>\n      <th>132</th>\n      <td>2009</td>\n      <td>50.3</td>\n    </tr>\n    <tr>\n      <th>125</th>\n      <td>2009</td>\n      <td>64.6</td>\n    </tr>\n    <tr>\n      <th>134</th>\n      <td>2009</td>\n      <td>58.2</td>\n    </tr>\n    <tr>\n      <th>124</th>\n      <td>2009</td>\n      <td>54.9</td>\n    </tr>\n    <tr>\n      <th>123</th>\n      <td>2009</td>\n      <td>46.1</td>\n    </tr>\n    <tr>\n      <th>53</th>\n      <td>2009</td>\n      <td>58.7</td>\n    </tr>\n    <tr>\n      <th>122</th>\n      <td>2009</td>\n      <td>58.2</td>\n    </tr>\n    <tr>\n      <th>49</th>\n      <td>2009</td>\n      <td>50.3</td>\n    </tr>\n    <tr>\n      <th>17</th>\n      <td>2009</td>\n      <td>49.4</td>\n    </tr>\n    <tr>\n      <th>141</th>\n      <td>2009</td>\n      <td>70.8</td>\n    </tr>\n    <tr>\n      <th>81</th>\n      <td>2009</td>\n      <td>60.5</td>\n    </tr>\n    <tr>\n      <th>103</th>\n      <td>2009</td>\n      <td>64.9</td>\n    </tr>\n    <tr>\n      <th>30</th>\n      <td>2009</td>\n      <td>63.9</td>\n    </tr>\n    <tr>\n      <th>152</th>\n      <td>2009</td>\n      <td>62.0</td>\n    </tr>\n    <tr>\n      <th>28</th>\n      <td>2009</td>\n      <td>65.7</td>\n    </tr>\n    <tr>\n      <th>154</th>\n      <td>2009</td>\n      <td>41.3</td>\n    </tr>\n    <tr>\n      <th>24</th>\n      <td>2009</td>\n      <td>70.3</td>\n    </tr>\n    <tr>\n      <th>157</th>\n      <td>2009</td>\n      <td>61.0</td>\n    </tr>\n    <tr>\n      <th>21</th>\n      <td>2009</td>\n      <td>70.1</td>\n    </tr>\n    <tr>\n      <th>127</th>\n      <td>2009</td>\n      <td>69.6</td>\n    </tr>\n    <tr>\n      <th>160</th>\n      <td>2009</td>\n      <td>66.1</td>\n    </tr>\n    <tr>\n      <th>47</th>\n      <td>2009</td>\n      <td>66.6</td>\n    </tr>\n    <tr>\n      <th>190</th>\n      <td>2009</td>\n      <td>65.5</td>\n    </tr>\n    <tr>\n      <th>58</th>\n      <td>2010</td>\n      <td>70.8</td>\n    </tr>\n    <tr>\n      <th>6</th>\n      <td>2011</td>\n      <td>50.5</td>\n    </tr>\n  </tbody>\n</table>\n<p>191 rows × 2 columns</p>\n</div>",
            "text/plain": "     ano_fim_2g  nt_ger\n54         1980    53.4\n158        1981    45.0\n162        1998    53.1\n136        1999    73.6\n102        1999    61.8\n150        1999    38.9\n27         2002    64.2\n104        2003    39.1\n52         2004    79.6\n40         2004    54.9\n60         2004    69.4\n62         2004    65.1\n101        2004    43.9\n177        2004    45.8\n56         2005    58.6\n38         2005    58.1\n119        2005    17.0\n88         2005    57.2\n20         2005    62.7\n51         2005    59.4\n144        2005    57.2\n74         2005    64.9\n172        2006    23.1\n94         2006    50.0\n180        2006    23.1\n140        2006    58.7\n148        2006    16.7\n107        2006    68.9\n65         2006    48.8\n137        2006    57.1\n..          ...     ...\n189        2009    55.1\n159        2009    63.3\n19         2009    58.3\n126        2009    48.2\n66         2009    46.7\n132        2009    50.3\n125        2009    64.6\n134        2009    58.2\n124        2009    54.9\n123        2009    46.1\n53         2009    58.7\n122        2009    58.2\n49         2009    50.3\n17         2009    49.4\n141        2009    70.8\n81         2009    60.5\n103        2009    64.9\n30         2009    63.9\n152        2009    62.0\n28         2009    65.7\n154        2009    41.3\n24         2009    70.3\n157        2009    61.0\n21         2009    70.1\n127        2009    69.6\n160        2009    66.1\n47         2009    66.6\n190        2009    65.5\n58         2010    70.8\n6          2011    50.5\n\n[191 rows x 2 columns]"
          },
          "metadata": {}
        }
      ]
    },
    {
      "cell_type": "markdown",
      "source": "**Você também pode visualizar os dados de diferentes maneiras... **\n\n**O exemplo seguinte mostra a média das notas agrupadas por ano de conclusão do 2o grau. **",
      "metadata": {
        "deletable": true,
        "editable": true
      }
    },
    {
      "cell_type": "code",
      "source": "# o comando seguinte indica ao jupyter que o grafico sera gerado na propria celula (ao inves de salvar em uma arquivo)\n%matplotlib inline\n\ndf3 = df2.groupby('ano_fim_2g').mean() # agrupa por ano de finalizacao e calcula a media\ndf3.plot.bar() # mostra o resultado (media da nota geral, por ano de conclusao)\n\n#o grafico pode demorar um pouco para aparecer da primeira vez",
      "metadata": {
        "collapsed": false,
        "deletable": true,
        "editable": true,
        "scrolled": true
      },
      "execution_count": 18,
      "outputs": [
        {
          "execution_count": 18,
          "output_type": "execute_result",
          "data": {
            "text/plain": "<matplotlib.axes._subplots.AxesSubplot at 0x7fc13bdc7128>"
          },
          "metadata": {}
        },
        {
          "output_type": "display_data",
          "data": {
            "image/png": "[encoded data removed]",
            "text/plain": "<matplotlib.figure.Figure at 0x7fc13bdc7cc0>"
          },
          "metadata": {}
        }
      ]
    },
    {
      "cell_type": "markdown",
      "source": "**Para ter uma ideia dos tipos de visualização disponíveis, consulte: \nhttp://pandas.pydata.org/pandas-docs/version/0.9.0/visualization.html**\n\n**Para uma visão geral (de 10 minutos) sobre o que você pode fazer com a biblioteca \"Pandas\", consulte: http://pandas.pydata.org/pandas-docs/stable/10min.html**\n\n**Se tiver dúvidas sobre Python, consulte o bloco de notas sobre Python básico disponibilizado pelo professor, no Moodle.**\n\n**Atenção**: **Os exemplos anteriores foram realizados em cima de um subconjunto dos dados. Se você trocar o nome do arquivo para `'microdados_enade_2014.csv'`, no mesmo local onde o professor disponibilizou o arquivo `'2014.csv'`, terá acesso aos dados (e atributos) completos do ano de 2014.**",
      "metadata": {
        "deletable": true,
        "editable": true
      }
    },
    {
      "cell_type": "markdown",
      "source": "----\nExercicio: \n============\n**Agora que voce ja sabe como abrir arquivos contendo dados (ao menos em formato CSV), crie um novo notebook (ou use o bloco abaixo deste) que seja capaz de extrair e analisar as informacoes contidas no arquivo de dados fornecido pelo professor ('extratoppgc.csv').**\n\n**Seguem detalhes:**\n\n- **Baixe o arquivo de dados entitulado 'extratoppgc.csv', disponibilizado na atividade, no Moodle. Ele contem um trecho das informacoes sobre a producao academico-cientifica dos professores do Instituto de Informatica;**\n- **Suba esse arquivo na plataforma Jupyter. Se estiver usando o notebooks.azure.com, vah ao menu 'Data > Upload' e suba-o;** \n- **Depois de ter encaminhado o arquivo, use o código seguinte para carrega-lo:** ",
      "metadata": {
        "deletable": true,
        "editable": true
      }
    },
    {
      "cell_type": "code",
      "source": "import pandas as pd\n\narquivo = 'extratoppgc.csv' # local onde esta o arquivo de dados\n\nprint(\"Getting file: \", arquivo)\ndf = pd.read_csv(arquivo, encoding='cp860',sep=\";\")\n",
      "metadata": {
        "collapsed": false,
        "deletable": true,
        "editable": true,
        "trusted": true
      },
      "execution_count": 8,
      "outputs": [
        {
          "text": "('Getting file: ', 'extratoppgc.csv')\n",
          "name": "stdout",
          "output_type": "stream"
        }
      ]
    },
    {
      "cell_type": "markdown",
      "source": "**Complete o script de maneira a:**\n- **verificar quantos artigos (no total) sao produzidos por ano;**\n- **montar e mostrar uma tabela que demonstre quantos artigos por tipo (periodico ou conferencia) sao publicados por ano. Monte tambem um grafico em barras, comparando a producao de cada tipo, por ano);**\n- **monte uma tabela que demonstre a quantidade total de artigos por categoria de artigo (QUALIS A1, A2, B1, B2, B3, B4, B5 C);**\n- **extratifique a tabela anterior, demonstrando a quantidade de artigos em cada tipo de qualis, por ano. Monte graficos em linha que demonstrem a evolucao no periodo, por tipo de qualis e outro por tipo de artigo (periodico ou conferencia);**\n- **elabore alguma tabela ou grafico que demonstre alguma informacao estatastica que voce achar relevante de analisar, tal como media, moda, mediana, desvio padrao, correlacao...** \n\n**Encaminhe o resultado via Moodle.**",
      "metadata": {
        "deletable": true,
        "editable": true
      }
    },
    {
      "cell_type": "markdown",
      "source": "Atenção\n===\n\nA biblioteca **pandas** tem como principal estrutura de dados o **dataframe** (i.e., um quadro de dados ou 'tabela'). \n\nO comando seguinte importa a biblioteca **pandas** e dá o nome de **pd** a ela, para faciliar o seu uso:\n",
      "metadata": {}
    },
    {
      "cell_type": "code",
      "source": "import pandas as pd",
      "metadata": {
        "collapsed": true,
        "trusted": true
      },
      "execution_count": 1,
      "outputs": []
    },
    {
      "cell_type": "markdown",
      "source": "Já o comando seguinte, usa o método **read_csv** da biblioteca pandas para carregar dados de um arquivo CSV.",
      "metadata": {}
    },
    {
      "cell_type": "code",
      "source": "df = pd.read_csv(arquivo, encoding='cp860',sep=\";\")",
      "metadata": {
        "collapsed": true,
        "trusted": true
      },
      "execution_count": 54,
      "outputs": []
    },
    {
      "cell_type": "markdown",
      "source": "Uma vez carregado, o dataframe (df) pode ser usado para realizarmos manipulações de dados (consultas, filtros, etc).\n\nA estrutura de dados 'dataframe' possui uma série de atributos e métodos.\n\nAlguns atributos são:\n\n- columns: lista dos atributos/colunas lidos do arquivo\n- dtypes: atributos e respectivos tipos identificados\n- shape: dimensões do dataframe (quantidade de linhas e colunas)\n\nMétodos:\n\n- head(): devolve/mostra as 5 primeiras linhas do dataframe\n- describe(): \n- sort_values(): devolve a tabela ordenada por algum valor\n- groupby(): devolve a tabela agrupada por alguma coluna (ou lista de colunas)\n\nMas há muitos outros. A lista completa pode ser encontrada na documentação sobre dataframes da biblioteca pandas.\n\nAlém disso, o Jupyter tem algumas funcionalidades interessantes para mostrar os dataframes. \n\nPor exemplo, para ver o conteúdo do dataframe de maneira gráfica (tabela), basta colocar o seu nome:",
      "metadata": {}
    },
    {
      "cell_type": "code",
      "source": "df",
      "metadata": {
        "collapsed": false,
        "deletable": true,
        "editable": true,
        "trusted": true
      },
      "execution_count": 55,
      "outputs": [
        {
          "execution_count": 55,
          "output_type": "execute_result",
          "data": {
            "text/plain": "             Tipo   Ano Qualis                     Autor Principal  \\\n0     ConferΩncia  2013      -                Jonas Santos Bezerra   \n1     ConferΩncia  2013     B4               Luciana Salete Buriol   \n2     ConferΩncia  2013      -          Dante Augusto Couto Barone   \n3     ConferΩncia  2013     B4  Liane Margarida Rockenbach Tarouco   \n4       Peri≤dico  2013     A2                         Mßrcio Dorn   \n5       Peri≤dico  2013     A2              Daniel Scain Farenzena   \n6       Peri≤dico  2013     A2                  Luφs da Cunha Lamb   \n7       Peri≤dico  2013     B1                   Jacob Scharcanski   \n8     ConferΩncia  2013      -       Antonio Carlos da Rocha Costa   \n9     ConferΩncia  2013      -                      Renata Galante   \n10    ConferΩncia  2013      -    JosΘ Palazzo Moreira de Oliveira   \n11    ConferΩncia  2013      -                 Joel Luis Carbonera   \n12      Peri≤dico  2013      -             Eliezer Emanuel Bernart   \n13    ConferΩncia  2013      -          Dante Augusto Couto Barone   \n14      Peri≤dico  2013     B1                  Renato Perez Ribas   \n15    ConferΩncia  2013      -        Claudio Fernando Resin Geyer   \n16      Peri≤dico  2013     B1                   Andre Inacio Reis   \n17      Peri≤dico  2013     A2               LucinΘia Heloisa Thom   \n18      Peri≤dico  2013     A2              Carlos Eduardo Pereira   \n19    ConferΩncia  2013      -                       Leila Ribeiro   \n20    ConferΩncia  2013     A1                        Karin Becker   \n21    ConferΩncia  2013      -                  Gabriel Luca Nazar   \n22    ConferΩncia  2013     B4                  Gabriel Luca Nazar   \n23      Peri≤dico  2013     A1              Marcus Rolf Peter Ritt   \n24      Peri≤dico  2013      -  Liane Margarida Rockenbach Tarouco   \n25    ConferΩncia  2013     A2                         Mßrcio Dorn   \n26    ConferΩncia  2013     A2               Luciana Salete Buriol   \n27    ConferΩncia  2013     A1             Dieison Soares Silveira   \n28    ConferΩncia  2013     A2  Liane Margarida Rockenbach Tarouco   \n29    ConferΩncia  2013     A1     Lisandro Zambenedetti Granville   \n...           ...   ...    ...                                 ...   \n2094  ConferΩncia  2016      -                 Aline Villavicencio   \n2095  ConferΩncia  2016     B1               Luciana Salete Buriol   \n2096  ConferΩncia  2016     B5           Arthur Francisco Lorenzon   \n2097  ConferΩncia  2016      -             Ana Carolina TomΘ Klock   \n2098  ConferΩncia  2016      -          Lorayne Pinheiro Dornelles   \n2099  ConferΩncia  2016     B4              Matheus da Silva Serpa   \n2100  ConferΩncia  2016     B4               LucinΘia Heloisa Thom   \n2101  ConferΩncia  2016      -            Guilherme Antonio Borges   \n2102  ConferΩncia  2016     A2       Carla Maria Dal Sasso Freitas   \n2103    Peri≤dico  2016     B3                  Luφs da Cunha Lamb   \n2104    Peri≤dico  2016     B1                       Leila Ribeiro   \n2105    Peri≤dico  2016     B1     Lisandro Zambenedetti Granville   \n2106    Peri≤dico  2016     A2                     Anderson Maciel   \n2107    Peri≤dico  2016     A2                       Luciana Nedel   \n2108    Peri≤dico  2016     A2                         Aline Menin   \n2109    Peri≤dico  2016     A1             Viviane Pereira Moreira   \n2110  ConferΩncia  2016      -                    AndrΘ Rolim Behr   \n2111  ConferΩncia  2016      -                   Rosa Maria Vicari   \n2112  ConferΩncia  2016     B4          Ana Lucia Cetertich Bazzan   \n2113  ConferΩncia  2016      -        Edson Prestes e Silva J·nior   \n2114  ConferΩncia  2016      -                       Jean Luca Bez   \n2115  ConferΩncia  2016     A2            Luciano Paschoal Gaspary   \n2116  ConferΩncia  2016     A2        Alberto Egon Schaeffer Filho   \n2117  ConferΩncia  2016     A2     Lisandro Zambenedetti Granville   \n2118    Peri≤dico  2016     A2                Joao Luiz Dihl Comba   \n2119  ConferΩncia  2016      -               Leandro Soares Guedes   \n2120  ConferΩncia  2016      -               Leandro Soares Guedes   \n2121  ConferΩncia  2016      -               Leandro Soares Guedes   \n2122  ConferΩncia  2016      -               Leandro Soares Guedes   \n2123    Peri≤dico  2016     A1                   Jacob Scharcanski   \n\n                                       Tφtulo do Artigo  \\\n0     14Factory: Facilitando a disponibilizaτπo de n...   \n1     A biased random-key genetic algorithm for a ne...   \n2     A CI╩NCIA DA ANTECIPA╟├O: UM MODELO DE PREDI╟├...   \n3     A Cloud Monitoring Framework for Self-Configur...   \n4     A cluster-DEE-based strategy to empower protei...   \n5     A cluster-DEE-based strategy to empower protei...   \n6     A cluster-DEE-based strategy to empower protei...   \n7     A Coarse-to-Fine Approach for Segmenting Melan...   \n8     A Communication Infrastructure Based on Artifa...   \n9     A Computational Tool to Analyze the Evolution ...   \n10    A Computational Tool to Analyze the Evolution ...   \n11    A Computer Application for Automatic Interpret...   \n12    A concentraτπo da p≤s-graduaτπo nos grandes ce...   \n13    A construτπo de espaτos e materiais digitais p...   \n14         BTI, HCI and TDDB aging impact in flip-flops   \n15    A Distributed Architecture for Dynamic Context...   \n16    BTI and HCI first-order aging estimation for e...   \n17    A distributed repository for managing business...   \n18    A model-based approach for data integration to...   \n19    A Formal Model for the Deferred Update Replica...   \n20    A Framework for Web Service Usage Profiles Dis...   \n21    A Fully Dynamic Reconfigurable NoC-based MPSoC...   \n22    A Fully Dynamic Reconfigurable NoC-based MPSoC...   \n23    A heuristic and a branch-and-bound algorithm f...   \n24    A interoperaτπo com reposit≤rios digitais: pro...   \n25    A knowledge-based genetic algorithm to predict...   \n26    A knowledge-based genetic algorithm to predict...   \n27    A lossless approach for external memory bandwi...   \n28    A Management by Delegation Smart Object Aware ...   \n29    A mashup ecosystem for network management situ...   \n...                                                 ...   \n2094  UFRGS&LIF: Rule-Based MWE Identification and P...   \n2095  UKP5: A New Algorithm for the Unbounded Knapsa...   \n2096  Um Estudo sobre Benchmarks para Anßlise de Des...   \n2097  Um minicurso online de Algoritmos como apoio α...   \n2098  Uma Abordagem de Gerenciamento Contextual de R...   \n2099  Uma Abordagem Inicial para a Paralelizaτπo de ...   \n2100  Uma Abordagem para Gerar Texto Orientado a Pro...   \n2101  Uma Proposta de Mecanismo de Autoadaptaτπo par...   \n2102  Understanding interactive debugging with Swarm...   \n2103  Universality, correlations, and rankings in th...   \n2104          User interfaces metamodel based on graphs   \n2105  Using Empirical Estimates of Effective Bandwid...   \n2106  Using Immersive Virtual Reality to Reduce Work...   \n2107  Using Immersive Virtual Reality to Reduce Work...   \n2108  Using Immersive Virtual Reality to Reduce Work...   \n2109  Using Information Retrieval for Sentiment Pola...   \n2110  Using Semantic Web Technologies to Describe an...   \n2111  Using Semantic Web Technologies to Describe an...   \n2112  Using Topological Statistics to Bias and Accel...   \n2113  utomation of Humanitarian Demining The 2016 Hu...   \n2114  Viability of Low-Power Architectures as Parall...   \n2115  Virtual Network Embedding in Software-Defined ...   \n2116  VISION -- Interactive and Selective Visualizat...   \n2117  VISION -- Interactive and Selective Visualizat...   \n2118            Visual Analysis of Bike-Sharing Systems   \n2119  Visualizaτπo de Informaτ⌡es de um Banco de Dad...   \n2120  Visualizaτπo de Informaτ⌡es de um Banco de Dad...   \n2121  Visualizaτπo Interativa de Dados de Rankings M...   \n2122  Visualizaτπo Interativa de Dados de Rankings M...   \n2123  Yawning Detection for Driver Monitoring Using ...   \n\n                                       Peri≤dico/Evento  Aut.Total  Aut.Prof  \\\n0                        Terceira Semana de Informßtica          4         1   \n1           Simp≤sio Brasileiro de Pesquisa Operacional          3         1   \n2      ConferΩncia IADIS Ibero-Americana WWW / internet          2         1   \n3     International Conference on Network and Servic...          4         2   \n4                      Expert Systems with Applications          4         2   \n5                      Expert Systems with Applications          4         3   \n6                      Expert Systems with Applications          4         2   \n7     Computer Methods and Programs in Biomedicine (...          2         1   \n8     1st International Workshop on Engineering Mult...          3         1   \n9     EDULEARN13 - International Conference on Educa...          4         2   \n10    International Conference on Education and New ...          3         1   \n11                  AAPG Annual Convention & Exhibition          4         1   \n12                                              Roteiro          2         0   \n13    XVIII Congreso Internacional de Informßtica Ed...          3         1   \n14                     Microelectronics and Reliability          4         2   \n15    XI Workshop de Processamento Paralelo e Distri...          4         1   \n16                     Microelectronics and Reliability          4         2   \n17                                Computers in Industry          5         1   \n18                                Computers in Industry          6         1   \n19    TGC - 8th International Symposium Trustworthy ...          4         1   \n20        IEEE International Conference on Web Services          2         1   \n21    Workshop on Design Tools and Architectures for...          6         2   \n22                 Workshop on Reconfigurable Computing          6         2   \n23                    Computers and Operations Research          2         1   \n24                       CiΩncia da Informaτπo (Online)          4         1   \n25            IEEE Congress on Evolutionary Computation          4         2   \n26            IEEE Congress on Evolutionary Computation          4         2   \n27    IEEE International Conference on Multimedia an...          3         1   \n28    Annual International Computer Software and App...          5         2   \n29            IEEE Global Telecommunications Conference          3         1   \n...                                                 ...        ...       ...   \n2094  SemEval 2016 Task 10: Detecting Minimal Semant...          3         1   \n2095               Symposium on Experimental Algorithms          2         1   \n2096                 Escola Regional de Alto Desempenho          4         1   \n2097             XXII Workshop de Informßtica na Escola          5         0   \n2098              Simp≤sio Brasileiro de Banco de Dados          2         1   \n2099                Simp≤sio em Sistemas Computacionais          3         0   \n2100      Simp≤sio Brasileiro de Sistemas de Informaτπo          2         1   \n2101        VIII Congresso Sul Brasileiro de Computaτπo          5         1   \n2102  IEEE International Conference on Program Compr...          6         2   \n2103                                 Physica. A (Print)          3         1   \n2104          Journal of Visual Languages and Computing          3         2   \n2105  IEEE ETRANSACTIONS ON NETWORK AND SERVICE MANA...          6         1   \n2106            IEEE Computer Graphics and Applications          7         2   \n2107            IEEE Computer Graphics and Applications          7         2   \n2108            IEEE COMPUTER GRAPHICS AND APPLICATIONS          7         2   \n2109                   EXPERT SYSTEMS WITH APPLICATIONS          2         1   \n2110  Workshop on Social Computing in Digital Education          4         0   \n2111  Advances in Social Computing and Digital Educa...          3         1   \n2112   Workshop on Agents in Traffic and Transportation          3         1   \n2113  IEEE Internacional Conference on Robotics and ...          8         1   \n2114  WSPPD 2016 - XIV Workshop de Processamento Par...          8         1   \n2115  IEEE/IFIP Network Operations and Management Sy...          4         1   \n2116  International Conference on Advanced Informati...          4         2   \n2117  International Conference on Advanced Informati...          4         2   \n2118                               COMPUTERS & GRAPHICS          5         1   \n2119                                          X MOCITEC          4         0   \n2120   9¬ Jornada de Iniciaτπo Cientφfica e Tecnol≤gica          3         0   \n2121                                          X MOCITEC          3         0   \n2122                                           V MOVACI          2         0   \n2123  IEEE Transactions on Instrumentation and Measu...          9         1   \n\n      Aut.Dout  Aut.Mestr  Aut.Grad  \\\n0            0          0         0   \n1            0          0         0   \n2            0          0         0   \n3            0          0         0   \n4            1          0         0   \n5            0          0         0   \n6            0          0         0   \n7            0          0         0   \n8            0          0         0   \n9            0          0         0   \n10           0          0         0   \n11           0          0         0   \n12           0          1         0   \n13           0          0         0   \n14           0          0         0   \n15           0          0         0   \n16           0          0         0   \n17           0          0         0   \n18           0          0         0   \n19           0          0         0   \n20           0          0         0   \n21           0          0         0   \n22           0          0         0   \n23           0          0         0   \n24           0          0         0   \n25           0          0         0   \n26           0          0         0   \n27           0          0         0   \n28           0          0         0   \n29           0          0         0   \n...        ...        ...       ...   \n2094         0          0         0   \n2095         0          0         0   \n2096         1          0         0   \n2097         0          0         0   \n2098         0          0         0   \n2099         0          1         0   \n2100         0          0         0   \n2101         0          0         0   \n2102         1          0         0   \n2103         0          0         0   \n2104         0          0         0   \n2105         0          0         0   \n2106         0          1         0   \n2107         0          1         0   \n2108         0          1         0   \n2109         0          0         0   \n2110         0          1         0   \n2111         0          1         0   \n2112         0          0         0   \n2113         2          0         0   \n2114         1          1         0   \n2115         1          0         0   \n2116         0          0         0   \n2117         0          0         0   \n2118         0          0         0   \n2119         0          0         0   \n2120         0          0         0   \n2121         0          0         0   \n2122         0          0         0   \n2123         0          0         0   \n\n                                        Autores - Nomes PPGC  \n0     Tßssio Augusto da Cruz Guimarπes; Vinφcius Cas...  Sim  \n1     Fernando Stefanello; Luciana Salete Buriol; Ma...  Sim  \n2     Marco AurΘlio Schⁿnke; Dante Augusto Couto Barone  Sim  \n3     Mßrcio Barbosa de Carvalho; Rafael Pereira Est...  Sim  \n4     DE ANDRADES, RAFAEL K.; Mßrcio Dorn; FARENZENA...  Sim  \n5     DE ANDRADES, RAFAEL K.; Dorn, Mßrcio; Luφs da ...  Sim  \n6     DE ANDRADES, RAFAEL K.; Dorn, M├írcio; Daniel ...  Sim  \n7               CAVALCANTI, PABLO G.; Jacob Scharcanski  Sim  \n8     Thiago Fredes Rodrigues; Graτaliz Pereira DIMU...  Sim  \n9     Cristiano Roberto Cervi; Laφs Andressa Brock; ...  Sim  \n10    Cristiano Roberto Cervi; Renata de Matos Galan...  Sim  \n11    Joel Luis Carbonera; Douglas Eduardo Rosa; Cla...  Sim  \n12        Luiz Carlos Lⁿckmann; Eliezer Emanuel Bernart  Sim  \n13    Melissa Meier; Dante Augusto Couto Barone; M B...  Sim  \n14    Cφcero Nunes; BUTZEN, P.F.; REIS, A.I.; Renato...  Nπo  \n15    Joπo Ladislau Barbarß Lopes; Rodrigo Santos de...  Sim  \n16    Paulo Francisco Butzen; Vinicius Dal Bem; Andr...  Nπo  \n17    LAZARTE, IVANNA M.; LucinΘia Heloisa Thom; Cir...  Sim  \n18    Dan·bia Bueno Espφndola; Luca Fumagalli; Marco...  Nπo  \n19    Andrea Corradini; Leila Ribeiro; Fernando Luφs...  Sim  \n20                          Bruno Vollino; Karin Becker  Sim  \n21    Paulo CΘsar Santos; Gabriel Luca Nazar; Fakhar...  Sim  \n22    Paulo CΘsar Santos; Gabriel Luca Nazar; Fakhar...  Sim  \n23              BORBA, LEONARDO; Marcus Rolf Peter Ritt  Sim  \n24    Alessandra Pereira Rodrigues; Liane Margarida ...  Sim  \n25    Mßrcio Dorn; INOSTROZA-PONTA, MARIO; BURIOL, L...  Sim  \n26    DORN, MARCIO; INOSTROZA-PONTA, MARIO; Luciana ...  Sim  \n27    Dieison Soares Silveira; Marcelo Schiavon Port...  Sim  \n28    Marcelo Marotta; Felipe Carbone; Santanna, Jos...  Sim  \n29    RENDON, OSCAR MAURICIO CAICEDO; ESTRADA-SOLANO...  Sim  \n...                                                 ...  ...  \n2094  Silvio Cordeiro; Carlos Ramisch; Aline Villavi...  Sim  \n2095             Henrique Becker; Luciana Salete Buriol  Sim  \n2096  Adriano Marques Garcia; Arthur Francisco Loren...  Sim  \n2097  Barbara Moissa; Lucio Vasconcelos dos Santos; ...  Sim  \n2098     Lorayne Pinheiro Dornelles; Leandro Krug Wives  Sim  \n2099  KlΘber Kapelinski; Claudio Schepke; Matheus da...  Sim  \n2100  Renato CΘsar Borges Ferreira; LucinΘia Heloisa...  Sim  \n2101  Guilherme Antonio Borges; Rolim, C.O.; Anubis ...  Sim  \n2102  Fabio Petrillo; SOH, ZEPHYRIN; KHOMH, FOUTSE; ...  Sim  \n2103  da Silva, Roberto; Luφs da Cunha Lamb; BARBOSA...  Sim  \n2104      Paulo Lumertz; Leila Ribeiro; L·cio M. Duarte  Sim  \n2105  WANG, RUNXIN; WICKBOLDT, JULIANO; Rafael Estev...  Sim  \n2106  Nedel, Luciana; Vinφcius Costa de Souza; Aline...  Sim  \n2107  Luciana Nedel; Vinφcius Costa de Souza; Aline ...  Sim  \n2108  NEDEL, LUCIANA; DE SOUZA, VINICIUS COSTA; Alin...  Sim  \n2109    KAUER, ANDERSON UILIAN; Viviane Pereira Moreira  Sim  \n2110  Tiago Thompsen Primo; Helder Coelho; Rosa Vicc...  Sim  \n2111         Tiago Primo; Andre Behr; Rosa Maria Vicari  Sim  \n2112  Fernando Stefanello; Bruno Castro da Silva; An...  Sim  \n2113  Lino Marques; Edson Prestes e Silva J·nior; Se...  Sim  \n2114  Amanda B. Braga; Natßlia G. Rampon; Vinφcius R...  Sim  \n2115  Leonardo Richter Bays; Luciano Paschoal Gaspar...  Sim  \n2116  Muriel Figueredo Franco; Ricardo Luis dos Sant...  Sim  \n2117  FRANCO, MURIEL FIGUEREDO; SANTOS, RICARDO LUIS...  Sim  \n2118  Guilherme N. Oliveira; JosΘ Luis Sotomayor; TO...  Sim  \n2119  Carolina Guth Pinto; Thaiane Teixeira de Azeve...  Sim  \n2120  Thaiane Teixeira de Azevedo; Carolina Guth Pin...  Sim  \n2121  David Aron Pires Fagundes; Lucas dos Santos La...  Sim  \n2122  Lucas dos Santos Lanzarini; Leandro Soares Guedes  Sim  \n2123  S. Abtahi; M. Omidyeganeh; S. Shirmohammadi; A...  Sim  \n\n[2124 rows x 13 columns]",
            "text/html": "<div>\n<style scoped>\n    .dataframe tbody tr th:only-of-type {\n        vertical-align: middle;\n    }\n\n    .dataframe tbody tr th {\n        vertical-align: top;\n    }\n\n    .dataframe thead th {\n        text-align: right;\n    }\n</style>\n<table border=\"1\" class=\"dataframe\">\n  <thead>\n    <tr style=\"text-align: right;\">\n      <th></th>\n      <th>Tipo</th>\n      <th>Ano</th>\n      <th>Qualis</th>\n      <th>Autor Principal</th>\n      <th>Tφtulo do Artigo</th>\n      <th>Peri≤dico/Evento</th>\n      <th>Aut.Total</th>\n      <th>Aut.Prof</th>\n      <th>Aut.Dout</th>\n      <th>Aut.Mestr</th>\n      <th>Aut.Grad</th>\n      <th>Autores - Nomes</th>\n      <th>PPGC</th>\n    </tr>\n  </thead>\n  <tbody>\n    <tr>\n      <th>0</th>\n      <td>ConferΩncia</td>\n      <td>2013</td>\n      <td>-</td>\n      <td>Jonas Santos Bezerra</td>\n      <td>14Factory: Facilitando a disponibilizaτπo de n...</td>\n      <td>Terceira Semana de Informßtica</td>\n      <td>4</td>\n      <td>1</td>\n      <td>0</td>\n      <td>0</td>\n      <td>0</td>\n      <td>Tßssio Augusto da Cruz Guimarπes; Vinφcius Cas...</td>\n      <td>Sim</td>\n    </tr>\n    <tr>\n      <th>1</th>\n      <td>ConferΩncia</td>\n      <td>2013</td>\n      <td>B4</td>\n      <td>Luciana Salete Buriol</td>\n      <td>A biased random-key genetic algorithm for a ne...</td>\n      <td>Simp≤sio Brasileiro de Pesquisa Operacional</td>\n      <td>3</td>\n      <td>1</td>\n      <td>0</td>\n      <td>0</td>\n      <td>0</td>\n      <td>Fernando Stefanello; Luciana Salete Buriol; Ma...</td>\n      <td>Sim</td>\n    </tr>\n    <tr>\n      <th>2</th>\n      <td>ConferΩncia</td>\n      <td>2013</td>\n      <td>-</td>\n      <td>Dante Augusto Couto Barone</td>\n      <td>A CI╩NCIA DA ANTECIPA╟├O: UM MODELO DE PREDI╟├...</td>\n      <td>ConferΩncia IADIS Ibero-Americana WWW / internet</td>\n      <td>2</td>\n      <td>1</td>\n      <td>0</td>\n      <td>0</td>\n      <td>0</td>\n      <td>Marco AurΘlio Schⁿnke; Dante Augusto Couto Barone</td>\n      <td>Sim</td>\n    </tr>\n    <tr>\n      <th>3</th>\n      <td>ConferΩncia</td>\n      <td>2013</td>\n      <td>B4</td>\n      <td>Liane Margarida Rockenbach Tarouco</td>\n      <td>A Cloud Monitoring Framework for Self-Configur...</td>\n      <td>International Conference on Network and Servic...</td>\n      <td>4</td>\n      <td>2</td>\n      <td>0</td>\n      <td>0</td>\n      <td>0</td>\n      <td>Mßrcio Barbosa de Carvalho; Rafael Pereira Est...</td>\n      <td>Sim</td>\n    </tr>\n    <tr>\n      <th>4</th>\n      <td>Peri≤dico</td>\n      <td>2013</td>\n      <td>A2</td>\n      <td>Mßrcio Dorn</td>\n      <td>A cluster-DEE-based strategy to empower protei...</td>\n      <td>Expert Systems with Applications</td>\n      <td>4</td>\n      <td>2</td>\n      <td>1</td>\n      <td>0</td>\n      <td>0</td>\n      <td>DE ANDRADES, RAFAEL K.; Mßrcio Dorn; FARENZENA...</td>\n      <td>Sim</td>\n    </tr>\n    <tr>\n      <th>5</th>\n      <td>Peri≤dico</td>\n      <td>2013</td>\n      <td>A2</td>\n      <td>Daniel Scain Farenzena</td>\n      <td>A cluster-DEE-based strategy to empower protei...</td>\n      <td>Expert Systems with Applications</td>\n      <td>4</td>\n      <td>3</td>\n      <td>0</td>\n      <td>0</td>\n      <td>0</td>\n      <td>DE ANDRADES, RAFAEL K.; Dorn, Mßrcio; Luφs da ...</td>\n      <td>Sim</td>\n    </tr>\n    <tr>\n      <th>6</th>\n      <td>Peri≤dico</td>\n      <td>2013</td>\n      <td>A2</td>\n      <td>Luφs da Cunha Lamb</td>\n      <td>A cluster-DEE-based strategy to empower protei...</td>\n      <td>Expert Systems with Applications</td>\n      <td>4</td>\n      <td>2</td>\n      <td>0</td>\n      <td>0</td>\n      <td>0</td>\n      <td>DE ANDRADES, RAFAEL K.; Dorn, M├írcio; Daniel ...</td>\n      <td>Sim</td>\n    </tr>\n    <tr>\n      <th>7</th>\n      <td>Peri≤dico</td>\n      <td>2013</td>\n      <td>B1</td>\n      <td>Jacob Scharcanski</td>\n      <td>A Coarse-to-Fine Approach for Segmenting Melan...</td>\n      <td>Computer Methods and Programs in Biomedicine (...</td>\n      <td>2</td>\n      <td>1</td>\n      <td>0</td>\n      <td>0</td>\n      <td>0</td>\n      <td>CAVALCANTI, PABLO G.; Jacob Scharcanski</td>\n      <td>Sim</td>\n    </tr>\n    <tr>\n      <th>8</th>\n      <td>ConferΩncia</td>\n      <td>2013</td>\n      <td>-</td>\n      <td>Antonio Carlos da Rocha Costa</td>\n      <td>A Communication Infrastructure Based on Artifa...</td>\n      <td>1st International Workshop on Engineering Mult...</td>\n      <td>3</td>\n      <td>1</td>\n      <td>0</td>\n      <td>0</td>\n      <td>0</td>\n      <td>Thiago Fredes Rodrigues; Graτaliz Pereira DIMU...</td>\n      <td>Sim</td>\n    </tr>\n    <tr>\n      <th>9</th>\n      <td>ConferΩncia</td>\n      <td>2013</td>\n      <td>-</td>\n      <td>Renata Galante</td>\n      <td>A Computational Tool to Analyze the Evolution ...</td>\n      <td>EDULEARN13 - International Conference on Educa...</td>\n      <td>4</td>\n      <td>2</td>\n      <td>0</td>\n      <td>0</td>\n      <td>0</td>\n      <td>Cristiano Roberto Cervi; Laφs Andressa Brock; ...</td>\n      <td>Sim</td>\n    </tr>\n    <tr>\n      <th>10</th>\n      <td>ConferΩncia</td>\n      <td>2013</td>\n      <td>-</td>\n      <td>JosΘ Palazzo Moreira de Oliveira</td>\n      <td>A Computational Tool to Analyze the Evolution ...</td>\n      <td>International Conference on Education and New ...</td>\n      <td>3</td>\n      <td>1</td>\n      <td>0</td>\n      <td>0</td>\n      <td>0</td>\n      <td>Cristiano Roberto Cervi; Renata de Matos Galan...</td>\n      <td>Sim</td>\n    </tr>\n    <tr>\n      <th>11</th>\n      <td>ConferΩncia</td>\n      <td>2013</td>\n      <td>-</td>\n      <td>Joel Luis Carbonera</td>\n      <td>A Computer Application for Automatic Interpret...</td>\n      <td>AAPG Annual Convention &amp; Exhibition</td>\n      <td>4</td>\n      <td>1</td>\n      <td>0</td>\n      <td>0</td>\n      <td>0</td>\n      <td>Joel Luis Carbonera; Douglas Eduardo Rosa; Cla...</td>\n      <td>Sim</td>\n    </tr>\n    <tr>\n      <th>12</th>\n      <td>Peri≤dico</td>\n      <td>2013</td>\n      <td>-</td>\n      <td>Eliezer Emanuel Bernart</td>\n      <td>A concentraτπo da p≤s-graduaτπo nos grandes ce...</td>\n      <td>Roteiro</td>\n      <td>2</td>\n      <td>0</td>\n      <td>0</td>\n      <td>1</td>\n      <td>0</td>\n      <td>Luiz Carlos Lⁿckmann; Eliezer Emanuel Bernart</td>\n      <td>Sim</td>\n    </tr>\n    <tr>\n      <th>13</th>\n      <td>ConferΩncia</td>\n      <td>2013</td>\n      <td>-</td>\n      <td>Dante Augusto Couto Barone</td>\n      <td>A construτπo de espaτos e materiais digitais p...</td>\n      <td>XVIII Congreso Internacional de Informßtica Ed...</td>\n      <td>3</td>\n      <td>1</td>\n      <td>0</td>\n      <td>0</td>\n      <td>0</td>\n      <td>Melissa Meier; Dante Augusto Couto Barone; M B...</td>\n      <td>Sim</td>\n    </tr>\n    <tr>\n      <th>14</th>\n      <td>Peri≤dico</td>\n      <td>2013</td>\n      <td>B1</td>\n      <td>Renato Perez Ribas</td>\n      <td>BTI, HCI and TDDB aging impact in flip-flops</td>\n      <td>Microelectronics and Reliability</td>\n      <td>4</td>\n      <td>2</td>\n      <td>0</td>\n      <td>0</td>\n      <td>0</td>\n      <td>Cφcero Nunes; BUTZEN, P.F.; REIS, A.I.; Renato...</td>\n      <td>Nπo</td>\n    </tr>\n    <tr>\n      <th>15</th>\n      <td>ConferΩncia</td>\n      <td>2013</td>\n      <td>-</td>\n      <td>Claudio Fernando Resin Geyer</td>\n      <td>A Distributed Architecture for Dynamic Context...</td>\n      <td>XI Workshop de Processamento Paralelo e Distri...</td>\n      <td>4</td>\n      <td>1</td>\n      <td>0</td>\n      <td>0</td>\n      <td>0</td>\n      <td>Joπo Ladislau Barbarß Lopes; Rodrigo Santos de...</td>\n      <td>Sim</td>\n    </tr>\n    <tr>\n      <th>16</th>\n      <td>Peri≤dico</td>\n      <td>2013</td>\n      <td>B1</td>\n      <td>Andre Inacio Reis</td>\n      <td>BTI and HCI first-order aging estimation for e...</td>\n      <td>Microelectronics and Reliability</td>\n      <td>4</td>\n      <td>2</td>\n      <td>0</td>\n      <td>0</td>\n      <td>0</td>\n      <td>Paulo Francisco Butzen; Vinicius Dal Bem; Andr...</td>\n      <td>Nπo</td>\n    </tr>\n    <tr>\n      <th>17</th>\n      <td>Peri≤dico</td>\n      <td>2013</td>\n      <td>A2</td>\n      <td>LucinΘia Heloisa Thom</td>\n      <td>A distributed repository for managing business...</td>\n      <td>Computers in Industry</td>\n      <td>5</td>\n      <td>1</td>\n      <td>0</td>\n      <td>0</td>\n      <td>0</td>\n      <td>LAZARTE, IVANNA M.; LucinΘia Heloisa Thom; Cir...</td>\n      <td>Sim</td>\n    </tr>\n    <tr>\n      <th>18</th>\n      <td>Peri≤dico</td>\n      <td>2013</td>\n      <td>A2</td>\n      <td>Carlos Eduardo Pereira</td>\n      <td>A model-based approach for data integration to...</td>\n      <td>Computers in Industry</td>\n      <td>6</td>\n      <td>1</td>\n      <td>0</td>\n      <td>0</td>\n      <td>0</td>\n      <td>Dan·bia Bueno Espφndola; Luca Fumagalli; Marco...</td>\n      <td>Nπo</td>\n    </tr>\n    <tr>\n      <th>19</th>\n      <td>ConferΩncia</td>\n      <td>2013</td>\n      <td>-</td>\n      <td>Leila Ribeiro</td>\n      <td>A Formal Model for the Deferred Update Replica...</td>\n      <td>TGC - 8th International Symposium Trustworthy ...</td>\n      <td>4</td>\n      <td>1</td>\n      <td>0</td>\n      <td>0</td>\n      <td>0</td>\n      <td>Andrea Corradini; Leila Ribeiro; Fernando Luφs...</td>\n      <td>Sim</td>\n    </tr>\n    <tr>\n      <th>20</th>\n      <td>ConferΩncia</td>\n      <td>2013</td>\n      <td>A1</td>\n      <td>Karin Becker</td>\n      <td>A Framework for Web Service Usage Profiles Dis...</td>\n      <td>IEEE International Conference on Web Services</td>\n      <td>2</td>\n      <td>1</td>\n      <td>0</td>\n      <td>0</td>\n      <td>0</td>\n      <td>Bruno Vollino; Karin Becker</td>\n      <td>Sim</td>\n    </tr>\n    <tr>\n      <th>21</th>\n      <td>ConferΩncia</td>\n      <td>2013</td>\n      <td>-</td>\n      <td>Gabriel Luca Nazar</td>\n      <td>A Fully Dynamic Reconfigurable NoC-based MPSoC...</td>\n      <td>Workshop on Design Tools and Architectures for...</td>\n      <td>6</td>\n      <td>2</td>\n      <td>0</td>\n      <td>0</td>\n      <td>0</td>\n      <td>Paulo CΘsar Santos; Gabriel Luca Nazar; Fakhar...</td>\n      <td>Sim</td>\n    </tr>\n    <tr>\n      <th>22</th>\n      <td>ConferΩncia</td>\n      <td>2013</td>\n      <td>B4</td>\n      <td>Gabriel Luca Nazar</td>\n      <td>A Fully Dynamic Reconfigurable NoC-based MPSoC...</td>\n      <td>Workshop on Reconfigurable Computing</td>\n      <td>6</td>\n      <td>2</td>\n      <td>0</td>\n      <td>0</td>\n      <td>0</td>\n      <td>Paulo CΘsar Santos; Gabriel Luca Nazar; Fakhar...</td>\n      <td>Sim</td>\n    </tr>\n    <tr>\n      <th>23</th>\n      <td>Peri≤dico</td>\n      <td>2013</td>\n      <td>A1</td>\n      <td>Marcus Rolf Peter Ritt</td>\n      <td>A heuristic and a branch-and-bound algorithm f...</td>\n      <td>Computers and Operations Research</td>\n      <td>2</td>\n      <td>1</td>\n      <td>0</td>\n      <td>0</td>\n      <td>0</td>\n      <td>BORBA, LEONARDO; Marcus Rolf Peter Ritt</td>\n      <td>Sim</td>\n    </tr>\n    <tr>\n      <th>24</th>\n      <td>Peri≤dico</td>\n      <td>2013</td>\n      <td>-</td>\n      <td>Liane Margarida Rockenbach Tarouco</td>\n      <td>A interoperaτπo com reposit≤rios digitais: pro...</td>\n      <td>CiΩncia da Informaτπo (Online)</td>\n      <td>4</td>\n      <td>1</td>\n      <td>0</td>\n      <td>0</td>\n      <td>0</td>\n      <td>Alessandra Pereira Rodrigues; Liane Margarida ...</td>\n      <td>Sim</td>\n    </tr>\n    <tr>\n      <th>25</th>\n      <td>ConferΩncia</td>\n      <td>2013</td>\n      <td>A2</td>\n      <td>Mßrcio Dorn</td>\n      <td>A knowledge-based genetic algorithm to predict...</td>\n      <td>IEEE Congress on Evolutionary Computation</td>\n      <td>4</td>\n      <td>2</td>\n      <td>0</td>\n      <td>0</td>\n      <td>0</td>\n      <td>Mßrcio Dorn; INOSTROZA-PONTA, MARIO; BURIOL, L...</td>\n      <td>Sim</td>\n    </tr>\n    <tr>\n      <th>26</th>\n      <td>ConferΩncia</td>\n      <td>2013</td>\n      <td>A2</td>\n      <td>Luciana Salete Buriol</td>\n      <td>A knowledge-based genetic algorithm to predict...</td>\n      <td>IEEE Congress on Evolutionary Computation</td>\n      <td>4</td>\n      <td>2</td>\n      <td>0</td>\n      <td>0</td>\n      <td>0</td>\n      <td>DORN, MARCIO; INOSTROZA-PONTA, MARIO; Luciana ...</td>\n      <td>Sim</td>\n    </tr>\n    <tr>\n      <th>27</th>\n      <td>ConferΩncia</td>\n      <td>2013</td>\n      <td>A1</td>\n      <td>Dieison Soares Silveira</td>\n      <td>A lossless approach for external memory bandwi...</td>\n      <td>IEEE International Conference on Multimedia an...</td>\n      <td>3</td>\n      <td>1</td>\n      <td>0</td>\n      <td>0</td>\n      <td>0</td>\n      <td>Dieison Soares Silveira; Marcelo Schiavon Port...</td>\n      <td>Sim</td>\n    </tr>\n    <tr>\n      <th>28</th>\n      <td>ConferΩncia</td>\n      <td>2013</td>\n      <td>A2</td>\n      <td>Liane Margarida Rockenbach Tarouco</td>\n      <td>A Management by Delegation Smart Object Aware ...</td>\n      <td>Annual International Computer Software and App...</td>\n      <td>5</td>\n      <td>2</td>\n      <td>0</td>\n      <td>0</td>\n      <td>0</td>\n      <td>Marcelo Marotta; Felipe Carbone; Santanna, Jos...</td>\n      <td>Sim</td>\n    </tr>\n    <tr>\n      <th>29</th>\n      <td>ConferΩncia</td>\n      <td>2013</td>\n      <td>A1</td>\n      <td>Lisandro Zambenedetti Granville</td>\n      <td>A mashup ecosystem for network management situ...</td>\n      <td>IEEE Global Telecommunications Conference</td>\n      <td>3</td>\n      <td>1</td>\n      <td>0</td>\n      <td>0</td>\n      <td>0</td>\n      <td>RENDON, OSCAR MAURICIO CAICEDO; ESTRADA-SOLANO...</td>\n      <td>Sim</td>\n    </tr>\n    <tr>\n      <th>...</th>\n      <td>...</td>\n      <td>...</td>\n      <td>...</td>\n      <td>...</td>\n      <td>...</td>\n      <td>...</td>\n      <td>...</td>\n      <td>...</td>\n      <td>...</td>\n      <td>...</td>\n      <td>...</td>\n      <td>...</td>\n      <td>...</td>\n    </tr>\n    <tr>\n      <th>2094</th>\n      <td>ConferΩncia</td>\n      <td>2016</td>\n      <td>-</td>\n      <td>Aline Villavicencio</td>\n      <td>UFRGS&amp;LIF: Rule-Based MWE Identification and P...</td>\n      <td>SemEval 2016 Task 10: Detecting Minimal Semant...</td>\n      <td>3</td>\n      <td>1</td>\n      <td>0</td>\n      <td>0</td>\n      <td>0</td>\n      <td>Silvio Cordeiro; Carlos Ramisch; Aline Villavi...</td>\n      <td>Sim</td>\n    </tr>\n    <tr>\n      <th>2095</th>\n      <td>ConferΩncia</td>\n      <td>2016</td>\n      <td>B1</td>\n      <td>Luciana Salete Buriol</td>\n      <td>UKP5: A New Algorithm for the Unbounded Knapsa...</td>\n      <td>Symposium on Experimental Algorithms</td>\n      <td>2</td>\n      <td>1</td>\n      <td>0</td>\n      <td>0</td>\n      <td>0</td>\n      <td>Henrique Becker; Luciana Salete Buriol</td>\n      <td>Sim</td>\n    </tr>\n    <tr>\n      <th>2096</th>\n      <td>ConferΩncia</td>\n      <td>2016</td>\n      <td>B5</td>\n      <td>Arthur Francisco Lorenzon</td>\n      <td>Um Estudo sobre Benchmarks para Anßlise de Des...</td>\n      <td>Escola Regional de Alto Desempenho</td>\n      <td>4</td>\n      <td>1</td>\n      <td>1</td>\n      <td>0</td>\n      <td>0</td>\n      <td>Adriano Marques Garcia; Arthur Francisco Loren...</td>\n      <td>Sim</td>\n    </tr>\n    <tr>\n      <th>2097</th>\n      <td>ConferΩncia</td>\n      <td>2016</td>\n      <td>-</td>\n      <td>Ana Carolina TomΘ Klock</td>\n      <td>Um minicurso online de Algoritmos como apoio α...</td>\n      <td>XXII Workshop de Informßtica na Escola</td>\n      <td>5</td>\n      <td>0</td>\n      <td>0</td>\n      <td>0</td>\n      <td>0</td>\n      <td>Barbara Moissa; Lucio Vasconcelos dos Santos; ...</td>\n      <td>Sim</td>\n    </tr>\n    <tr>\n      <th>2098</th>\n      <td>ConferΩncia</td>\n      <td>2016</td>\n      <td>-</td>\n      <td>Lorayne Pinheiro Dornelles</td>\n      <td>Uma Abordagem de Gerenciamento Contextual de R...</td>\n      <td>Simp≤sio Brasileiro de Banco de Dados</td>\n      <td>2</td>\n      <td>1</td>\n      <td>0</td>\n      <td>0</td>\n      <td>0</td>\n      <td>Lorayne Pinheiro Dornelles; Leandro Krug Wives</td>\n      <td>Sim</td>\n    </tr>\n    <tr>\n      <th>2099</th>\n      <td>ConferΩncia</td>\n      <td>2016</td>\n      <td>B4</td>\n      <td>Matheus da Silva Serpa</td>\n      <td>Uma Abordagem Inicial para a Paralelizaτπo de ...</td>\n      <td>Simp≤sio em Sistemas Computacionais</td>\n      <td>3</td>\n      <td>0</td>\n      <td>0</td>\n      <td>1</td>\n      <td>0</td>\n      <td>KlΘber Kapelinski; Claudio Schepke; Matheus da...</td>\n      <td>Sim</td>\n    </tr>\n    <tr>\n      <th>2100</th>\n      <td>ConferΩncia</td>\n      <td>2016</td>\n      <td>B4</td>\n      <td>LucinΘia Heloisa Thom</td>\n      <td>Uma Abordagem para Gerar Texto Orientado a Pro...</td>\n      <td>Simp≤sio Brasileiro de Sistemas de Informaτπo</td>\n      <td>2</td>\n      <td>1</td>\n      <td>0</td>\n      <td>0</td>\n      <td>0</td>\n      <td>Renato CΘsar Borges Ferreira; LucinΘia Heloisa...</td>\n      <td>Sim</td>\n    </tr>\n    <tr>\n      <th>2101</th>\n      <td>ConferΩncia</td>\n      <td>2016</td>\n      <td>-</td>\n      <td>Guilherme Antonio Borges</td>\n      <td>Uma Proposta de Mecanismo de Autoadaptaτπo par...</td>\n      <td>VIII Congresso Sul Brasileiro de Computaτπo</td>\n      <td>5</td>\n      <td>1</td>\n      <td>0</td>\n      <td>0</td>\n      <td>0</td>\n      <td>Guilherme Antonio Borges; Rolim, C.O.; Anubis ...</td>\n      <td>Sim</td>\n    </tr>\n    <tr>\n      <th>2102</th>\n      <td>ConferΩncia</td>\n      <td>2016</td>\n      <td>A2</td>\n      <td>Carla Maria Dal Sasso Freitas</td>\n      <td>Understanding interactive debugging with Swarm...</td>\n      <td>IEEE International Conference on Program Compr...</td>\n      <td>6</td>\n      <td>2</td>\n      <td>1</td>\n      <td>0</td>\n      <td>0</td>\n      <td>Fabio Petrillo; SOH, ZEPHYRIN; KHOMH, FOUTSE; ...</td>\n      <td>Sim</td>\n    </tr>\n    <tr>\n      <th>2103</th>\n      <td>Peri≤dico</td>\n      <td>2016</td>\n      <td>B3</td>\n      <td>Luφs da Cunha Lamb</td>\n      <td>Universality, correlations, and rankings in th...</td>\n      <td>Physica. A (Print)</td>\n      <td>3</td>\n      <td>1</td>\n      <td>0</td>\n      <td>0</td>\n      <td>0</td>\n      <td>da Silva, Roberto; Luφs da Cunha Lamb; BARBOSA...</td>\n      <td>Sim</td>\n    </tr>\n    <tr>\n      <th>2104</th>\n      <td>Peri≤dico</td>\n      <td>2016</td>\n      <td>B1</td>\n      <td>Leila Ribeiro</td>\n      <td>User interfaces metamodel based on graphs</td>\n      <td>Journal of Visual Languages and Computing</td>\n      <td>3</td>\n      <td>2</td>\n      <td>0</td>\n      <td>0</td>\n      <td>0</td>\n      <td>Paulo Lumertz; Leila Ribeiro; L·cio M. Duarte</td>\n      <td>Sim</td>\n    </tr>\n    <tr>\n      <th>2105</th>\n      <td>Peri≤dico</td>\n      <td>2016</td>\n      <td>B1</td>\n      <td>Lisandro Zambenedetti Granville</td>\n      <td>Using Empirical Estimates of Effective Bandwid...</td>\n      <td>IEEE ETRANSACTIONS ON NETWORK AND SERVICE MANA...</td>\n      <td>6</td>\n      <td>1</td>\n      <td>0</td>\n      <td>0</td>\n      <td>0</td>\n      <td>WANG, RUNXIN; WICKBOLDT, JULIANO; Rafael Estev...</td>\n      <td>Sim</td>\n    </tr>\n    <tr>\n      <th>2106</th>\n      <td>Peri≤dico</td>\n      <td>2016</td>\n      <td>A2</td>\n      <td>Anderson Maciel</td>\n      <td>Using Immersive Virtual Reality to Reduce Work...</td>\n      <td>IEEE Computer Graphics and Applications</td>\n      <td>7</td>\n      <td>2</td>\n      <td>0</td>\n      <td>1</td>\n      <td>0</td>\n      <td>Nedel, Luciana; Vinφcius Costa de Souza; Aline...</td>\n      <td>Sim</td>\n    </tr>\n    <tr>\n      <th>2107</th>\n      <td>Peri≤dico</td>\n      <td>2016</td>\n      <td>A2</td>\n      <td>Luciana Nedel</td>\n      <td>Using Immersive Virtual Reality to Reduce Work...</td>\n      <td>IEEE Computer Graphics and Applications</td>\n      <td>7</td>\n      <td>2</td>\n      <td>0</td>\n      <td>1</td>\n      <td>0</td>\n      <td>Luciana Nedel; Vinφcius Costa de Souza; Aline ...</td>\n      <td>Sim</td>\n    </tr>\n    <tr>\n      <th>2108</th>\n      <td>Peri≤dico</td>\n      <td>2016</td>\n      <td>A2</td>\n      <td>Aline Menin</td>\n      <td>Using Immersive Virtual Reality to Reduce Work...</td>\n      <td>IEEE COMPUTER GRAPHICS AND APPLICATIONS</td>\n      <td>7</td>\n      <td>2</td>\n      <td>0</td>\n      <td>1</td>\n      <td>0</td>\n      <td>NEDEL, LUCIANA; DE SOUZA, VINICIUS COSTA; Alin...</td>\n      <td>Sim</td>\n    </tr>\n    <tr>\n      <th>2109</th>\n      <td>Peri≤dico</td>\n      <td>2016</td>\n      <td>A1</td>\n      <td>Viviane Pereira Moreira</td>\n      <td>Using Information Retrieval for Sentiment Pola...</td>\n      <td>EXPERT SYSTEMS WITH APPLICATIONS</td>\n      <td>2</td>\n      <td>1</td>\n      <td>0</td>\n      <td>0</td>\n      <td>0</td>\n      <td>KAUER, ANDERSON UILIAN; Viviane Pereira Moreira</td>\n      <td>Sim</td>\n    </tr>\n    <tr>\n      <th>2110</th>\n      <td>ConferΩncia</td>\n      <td>2016</td>\n      <td>-</td>\n      <td>AndrΘ Rolim Behr</td>\n      <td>Using Semantic Web Technologies to Describe an...</td>\n      <td>Workshop on Social Computing in Digital Education</td>\n      <td>4</td>\n      <td>0</td>\n      <td>0</td>\n      <td>1</td>\n      <td>0</td>\n      <td>Tiago Thompsen Primo; Helder Coelho; Rosa Vicc...</td>\n      <td>Sim</td>\n    </tr>\n    <tr>\n      <th>2111</th>\n      <td>ConferΩncia</td>\n      <td>2016</td>\n      <td>-</td>\n      <td>Rosa Maria Vicari</td>\n      <td>Using Semantic Web Technologies to Describe an...</td>\n      <td>Advances in Social Computing and Digital Educa...</td>\n      <td>3</td>\n      <td>1</td>\n      <td>0</td>\n      <td>1</td>\n      <td>0</td>\n      <td>Tiago Primo; Andre Behr; Rosa Maria Vicari</td>\n      <td>Sim</td>\n    </tr>\n    <tr>\n      <th>2112</th>\n      <td>ConferΩncia</td>\n      <td>2016</td>\n      <td>B4</td>\n      <td>Ana Lucia Cetertich Bazzan</td>\n      <td>Using Topological Statistics to Bias and Accel...</td>\n      <td>Workshop on Agents in Traffic and Transportation</td>\n      <td>3</td>\n      <td>1</td>\n      <td>0</td>\n      <td>0</td>\n      <td>0</td>\n      <td>Fernando Stefanello; Bruno Castro da Silva; An...</td>\n      <td>Sim</td>\n    </tr>\n    <tr>\n      <th>2113</th>\n      <td>ConferΩncia</td>\n      <td>2016</td>\n      <td>-</td>\n      <td>Edson Prestes e Silva J·nior</td>\n      <td>utomation of Humanitarian Demining The 2016 Hu...</td>\n      <td>IEEE Internacional Conference on Robotics and ...</td>\n      <td>8</td>\n      <td>1</td>\n      <td>2</td>\n      <td>0</td>\n      <td>0</td>\n      <td>Lino Marques; Edson Prestes e Silva J·nior; Se...</td>\n      <td>Sim</td>\n    </tr>\n    <tr>\n      <th>2114</th>\n      <td>ConferΩncia</td>\n      <td>2016</td>\n      <td>-</td>\n      <td>Jean Luca Bez</td>\n      <td>Viability of Low-Power Architectures as Parall...</td>\n      <td>WSPPD 2016 - XIV Workshop de Processamento Par...</td>\n      <td>8</td>\n      <td>1</td>\n      <td>1</td>\n      <td>1</td>\n      <td>0</td>\n      <td>Amanda B. Braga; Natßlia G. Rampon; Vinφcius R...</td>\n      <td>Sim</td>\n    </tr>\n    <tr>\n      <th>2115</th>\n      <td>ConferΩncia</td>\n      <td>2016</td>\n      <td>A2</td>\n      <td>Luciano Paschoal Gaspary</td>\n      <td>Virtual Network Embedding in Software-Defined ...</td>\n      <td>IEEE/IFIP Network Operations and Management Sy...</td>\n      <td>4</td>\n      <td>1</td>\n      <td>1</td>\n      <td>0</td>\n      <td>0</td>\n      <td>Leonardo Richter Bays; Luciano Paschoal Gaspar...</td>\n      <td>Sim</td>\n    </tr>\n    <tr>\n      <th>2116</th>\n      <td>ConferΩncia</td>\n      <td>2016</td>\n      <td>A2</td>\n      <td>Alberto Egon Schaeffer Filho</td>\n      <td>VISION -- Interactive and Selective Visualizat...</td>\n      <td>International Conference on Advanced Informati...</td>\n      <td>4</td>\n      <td>2</td>\n      <td>0</td>\n      <td>0</td>\n      <td>0</td>\n      <td>Muriel Figueredo Franco; Ricardo Luis dos Sant...</td>\n      <td>Sim</td>\n    </tr>\n    <tr>\n      <th>2117</th>\n      <td>ConferΩncia</td>\n      <td>2016</td>\n      <td>A2</td>\n      <td>Lisandro Zambenedetti Granville</td>\n      <td>VISION -- Interactive and Selective Visualizat...</td>\n      <td>International Conference on Advanced Informati...</td>\n      <td>4</td>\n      <td>2</td>\n      <td>0</td>\n      <td>0</td>\n      <td>0</td>\n      <td>FRANCO, MURIEL FIGUEREDO; SANTOS, RICARDO LUIS...</td>\n      <td>Sim</td>\n    </tr>\n    <tr>\n      <th>2118</th>\n      <td>Peri≤dico</td>\n      <td>2016</td>\n      <td>A2</td>\n      <td>Joao Luiz Dihl Comba</td>\n      <td>Visual Analysis of Bike-Sharing Systems</td>\n      <td>COMPUTERS &amp; GRAPHICS</td>\n      <td>5</td>\n      <td>1</td>\n      <td>0</td>\n      <td>0</td>\n      <td>0</td>\n      <td>Guilherme N. Oliveira; JosΘ Luis Sotomayor; TO...</td>\n      <td>Sim</td>\n    </tr>\n    <tr>\n      <th>2119</th>\n      <td>ConferΩncia</td>\n      <td>2016</td>\n      <td>-</td>\n      <td>Leandro Soares Guedes</td>\n      <td>Visualizaτπo de Informaτ⌡es de um Banco de Dad...</td>\n      <td>X MOCITEC</td>\n      <td>4</td>\n      <td>0</td>\n      <td>0</td>\n      <td>0</td>\n      <td>0</td>\n      <td>Carolina Guth Pinto; Thaiane Teixeira de Azeve...</td>\n      <td>Sim</td>\n    </tr>\n    <tr>\n      <th>2120</th>\n      <td>ConferΩncia</td>\n      <td>2016</td>\n      <td>-</td>\n      <td>Leandro Soares Guedes</td>\n      <td>Visualizaτπo de Informaτ⌡es de um Banco de Dad...</td>\n      <td>9¬ Jornada de Iniciaτπo Cientφfica e Tecnol≤gica</td>\n      <td>3</td>\n      <td>0</td>\n      <td>0</td>\n      <td>0</td>\n      <td>0</td>\n      <td>Thaiane Teixeira de Azevedo; Carolina Guth Pin...</td>\n      <td>Sim</td>\n    </tr>\n    <tr>\n      <th>2121</th>\n      <td>ConferΩncia</td>\n      <td>2016</td>\n      <td>-</td>\n      <td>Leandro Soares Guedes</td>\n      <td>Visualizaτπo Interativa de Dados de Rankings M...</td>\n      <td>X MOCITEC</td>\n      <td>3</td>\n      <td>0</td>\n      <td>0</td>\n      <td>0</td>\n      <td>0</td>\n      <td>David Aron Pires Fagundes; Lucas dos Santos La...</td>\n      <td>Sim</td>\n    </tr>\n    <tr>\n      <th>2122</th>\n      <td>ConferΩncia</td>\n      <td>2016</td>\n      <td>-</td>\n      <td>Leandro Soares Guedes</td>\n      <td>Visualizaτπo Interativa de Dados de Rankings M...</td>\n      <td>V MOVACI</td>\n      <td>2</td>\n      <td>0</td>\n      <td>0</td>\n      <td>0</td>\n      <td>0</td>\n      <td>Lucas dos Santos Lanzarini; Leandro Soares Guedes</td>\n      <td>Sim</td>\n    </tr>\n    <tr>\n      <th>2123</th>\n      <td>Peri≤dico</td>\n      <td>2016</td>\n      <td>A1</td>\n      <td>Jacob Scharcanski</td>\n      <td>Yawning Detection for Driver Monitoring Using ...</td>\n      <td>IEEE Transactions on Instrumentation and Measu...</td>\n      <td>9</td>\n      <td>1</td>\n      <td>0</td>\n      <td>0</td>\n      <td>0</td>\n      <td>S. Abtahi; M. Omidyeganeh; S. Shirmohammadi; A...</td>\n      <td>Sim</td>\n    </tr>\n  </tbody>\n</table>\n<p>2124 rows × 13 columns</p>\n</div>"
          },
          "metadata": {}
        }
      ]
    },
    {
      "cell_type": "markdown",
      "source": "Você pode usar os métodos diretamente ou dentro de um print, dependendo do caso... Como o Jupyter consegue detectar e mostrar o conteúdo das variáveis do tipo dataframe, o print nãoé necessário. Mas fora do Jupyter, pode ser que você necessite usar o print ou alguma biblioteca especial para a visualização.\n\nVeja alguns exemplos:",
      "metadata": {}
    },
    {
      "cell_type": "code",
      "source": "# mostra os valores as colunas do arquivo\ndf.columns.values",
      "metadata": {
        "trusted": true
      },
      "execution_count": 56,
      "outputs": [
        {
          "execution_count": 56,
          "output_type": "execute_result",
          "data": {
            "text/plain": "array([u'Tipo', u'Ano', u'Qualis', u'Autor Principal',\n       u'T\\u03c6tulo do Artigo', u'Peri\\u2264dico/Evento', u'Aut.Total',\n       u'Aut.Prof', u'Aut.Dout', u'Aut.Mestr', u'Aut.Grad',\n       u'Autores - Nomes', u'PPGC'], dtype=object)"
          },
          "metadata": {}
        }
      ]
    },
    {
      "cell_type": "code",
      "source": "print(df.columns.values) ",
      "metadata": {
        "trusted": true
      },
      "execution_count": 57,
      "outputs": [
        {
          "text": "[u'Tipo' u'Ano' u'Qualis' u'Autor Principal' u'T\\u03c6tulo do Artigo'\n u'Peri\\u2264dico/Evento' u'Aut.Total' u'Aut.Prof' u'Aut.Dout'\n u'Aut.Mestr' u'Aut.Grad' u'Autores - Nomes' u'PPGC']\n",
          "name": "stdout",
          "output_type": "stream"
        }
      ]
    },
    {
      "cell_type": "code",
      "source": "df.head() # mostra os primeiros registros",
      "metadata": {
        "trusted": true
      },
      "execution_count": 58,
      "outputs": [
        {
          "execution_count": 58,
          "output_type": "execute_result",
          "data": {
            "text/plain": "          Tipo   Ano Qualis                     Autor Principal  \\\n0  ConferΩncia  2013      -                Jonas Santos Bezerra   \n1  ConferΩncia  2013     B4               Luciana Salete Buriol   \n2  ConferΩncia  2013      -          Dante Augusto Couto Barone   \n3  ConferΩncia  2013     B4  Liane Margarida Rockenbach Tarouco   \n4    Peri≤dico  2013     A2                         Mßrcio Dorn   \n\n                                    Tφtulo do Artigo  \\\n0  14Factory: Facilitando a disponibilizaτπo de n...   \n1  A biased random-key genetic algorithm for a ne...   \n2  A CI╩NCIA DA ANTECIPA╟├O: UM MODELO DE PREDI╟├...   \n3  A Cloud Monitoring Framework for Self-Configur...   \n4  A cluster-DEE-based strategy to empower protei...   \n\n                                    Peri≤dico/Evento  Aut.Total  Aut.Prof  \\\n0                     Terceira Semana de Informßtica          4         1   \n1        Simp≤sio Brasileiro de Pesquisa Operacional          3         1   \n2   ConferΩncia IADIS Ibero-Americana WWW / internet          2         1   \n3  International Conference on Network and Servic...          4         2   \n4                   Expert Systems with Applications          4         2   \n\n   Aut.Dout  Aut.Mestr  Aut.Grad  \\\n0         0          0         0   \n1         0          0         0   \n2         0          0         0   \n3         0          0         0   \n4         1          0         0   \n\n                                     Autores - Nomes PPGC  \n0  Tßssio Augusto da Cruz Guimarπes; Vinφcius Cas...  Sim  \n1  Fernando Stefanello; Luciana Salete Buriol; Ma...  Sim  \n2  Marco AurΘlio Schⁿnke; Dante Augusto Couto Barone  Sim  \n3  Mßrcio Barbosa de Carvalho; Rafael Pereira Est...  Sim  \n4  DE ANDRADES, RAFAEL K.; Mßrcio Dorn; FARENZENA...  Sim  ",
            "text/html": "<div>\n<style scoped>\n    .dataframe tbody tr th:only-of-type {\n        vertical-align: middle;\n    }\n\n    .dataframe tbody tr th {\n        vertical-align: top;\n    }\n\n    .dataframe thead th {\n        text-align: right;\n    }\n</style>\n<table border=\"1\" class=\"dataframe\">\n  <thead>\n    <tr style=\"text-align: right;\">\n      <th></th>\n      <th>Tipo</th>\n      <th>Ano</th>\n      <th>Qualis</th>\n      <th>Autor Principal</th>\n      <th>Tφtulo do Artigo</th>\n      <th>Peri≤dico/Evento</th>\n      <th>Aut.Total</th>\n      <th>Aut.Prof</th>\n      <th>Aut.Dout</th>\n      <th>Aut.Mestr</th>\n      <th>Aut.Grad</th>\n      <th>Autores - Nomes</th>\n      <th>PPGC</th>\n    </tr>\n  </thead>\n  <tbody>\n    <tr>\n      <th>0</th>\n      <td>ConferΩncia</td>\n      <td>2013</td>\n      <td>-</td>\n      <td>Jonas Santos Bezerra</td>\n      <td>14Factory: Facilitando a disponibilizaτπo de n...</td>\n      <td>Terceira Semana de Informßtica</td>\n      <td>4</td>\n      <td>1</td>\n      <td>0</td>\n      <td>0</td>\n      <td>0</td>\n      <td>Tßssio Augusto da Cruz Guimarπes; Vinφcius Cas...</td>\n      <td>Sim</td>\n    </tr>\n    <tr>\n      <th>1</th>\n      <td>ConferΩncia</td>\n      <td>2013</td>\n      <td>B4</td>\n      <td>Luciana Salete Buriol</td>\n      <td>A biased random-key genetic algorithm for a ne...</td>\n      <td>Simp≤sio Brasileiro de Pesquisa Operacional</td>\n      <td>3</td>\n      <td>1</td>\n      <td>0</td>\n      <td>0</td>\n      <td>0</td>\n      <td>Fernando Stefanello; Luciana Salete Buriol; Ma...</td>\n      <td>Sim</td>\n    </tr>\n    <tr>\n      <th>2</th>\n      <td>ConferΩncia</td>\n      <td>2013</td>\n      <td>-</td>\n      <td>Dante Augusto Couto Barone</td>\n      <td>A CI╩NCIA DA ANTECIPA╟├O: UM MODELO DE PREDI╟├...</td>\n      <td>ConferΩncia IADIS Ibero-Americana WWW / internet</td>\n      <td>2</td>\n      <td>1</td>\n      <td>0</td>\n      <td>0</td>\n      <td>0</td>\n      <td>Marco AurΘlio Schⁿnke; Dante Augusto Couto Barone</td>\n      <td>Sim</td>\n    </tr>\n    <tr>\n      <th>3</th>\n      <td>ConferΩncia</td>\n      <td>2013</td>\n      <td>B4</td>\n      <td>Liane Margarida Rockenbach Tarouco</td>\n      <td>A Cloud Monitoring Framework for Self-Configur...</td>\n      <td>International Conference on Network and Servic...</td>\n      <td>4</td>\n      <td>2</td>\n      <td>0</td>\n      <td>0</td>\n      <td>0</td>\n      <td>Mßrcio Barbosa de Carvalho; Rafael Pereira Est...</td>\n      <td>Sim</td>\n    </tr>\n    <tr>\n      <th>4</th>\n      <td>Peri≤dico</td>\n      <td>2013</td>\n      <td>A2</td>\n      <td>Mßrcio Dorn</td>\n      <td>A cluster-DEE-based strategy to empower protei...</td>\n      <td>Expert Systems with Applications</td>\n      <td>4</td>\n      <td>2</td>\n      <td>1</td>\n      <td>0</td>\n      <td>0</td>\n      <td>DE ANDRADES, RAFAEL K.; Mßrcio Dorn; FARENZENA...</td>\n      <td>Sim</td>\n    </tr>\n  </tbody>\n</table>\n</div>"
          },
          "metadata": {}
        }
      ]
    },
    {
      "cell_type": "code",
      "source": "print(df.head()) ",
      "metadata": {
        "trusted": true
      },
      "execution_count": 59,
      "outputs": [
        {
          "text": "          Tipo   Ano Qualis                     Autor Principal  \\\n0  ConferΩncia  2013      -                Jonas Santos Bezerra   \n1  ConferΩncia  2013     B4               Luciana Salete Buriol   \n2  ConferΩncia  2013      -          Dante Augusto Couto Barone   \n3  ConferΩncia  2013     B4  Liane Margarida Rockenbach Tarouco   \n4    Peri≤dico  2013     A2                         Mßrcio Dorn   \n\n                                    Tφtulo do Artigo  \\\n0  14Factory: Facilitando a disponibilizaτπo de n...   \n1  A biased random-key genetic algorithm for a ne...   \n2  A CI╩NCIA DA ANTECIPA╟├O: UM MODELO DE PREDI╟├...   \n3  A Cloud Monitoring Framework for Self-Configur...   \n4  A cluster-DEE-based strategy to empower protei...   \n\n                                    Peri≤dico/Evento  Aut.Total  Aut.Prof  \\\n0                     Terceira Semana de Informßtica          4         1   \n1        Simp≤sio Brasileiro de Pesquisa Operacional          3         1   \n2   ConferΩncia IADIS Ibero-Americana WWW / internet          2         1   \n3  International Conference on Network and Servic...          4         2   \n4                   Expert Systems with Applications          4         2   \n\n   Aut.Dout  Aut.Mestr  Aut.Grad  \\\n0         0          0         0   \n1         0          0         0   \n2         0          0         0   \n3         0          0         0   \n4         1          0         0   \n\n                                     Autores - Nomes PPGC  \n0  Tßssio Augusto da Cruz Guimarπes; Vinφcius Cas...  Sim  \n1  Fernando Stefanello; Luciana Salete Buriol; Ma...  Sim  \n2  Marco AurΘlio Schⁿnke; Dante Augusto Couto Barone  Sim  \n3  Mßrcio Barbosa de Carvalho; Rafael Pereira Est...  Sim  \n4  DE ANDRADES, RAFAEL K.; Mßrcio Dorn; FARENZENA...  Sim  \n",
          "name": "stdout",
          "output_type": "stream"
        }
      ]
    },
    {
      "cell_type": "markdown",
      "source": "Você pode selecionar, rotacionar e filtrar o dataframe por colunas, linhas ou valores de atributos:",
      "metadata": {}
    },
    {
      "cell_type": "code",
      "source": "# seleciona a coluna Ano e retorna uma os valores em forma de uma \n# Série (tipo de dado específico do pandas)\ndf['Ano'].head()",
      "metadata": {
        "collapsed": false,
        "trusted": true
      },
      "execution_count": 60,
      "outputs": [
        {
          "execution_count": 60,
          "output_type": "execute_result",
          "data": {
            "text/plain": "0    2013\n1    2013\n2    2013\n3    2013\n4    2013\nName: Ano, dtype: int64"
          },
          "metadata": {}
        }
      ]
    },
    {
      "cell_type": "code",
      "source": "type(df['Ano'])",
      "metadata": {
        "trusted": true
      },
      "execution_count": 61,
      "outputs": [
        {
          "execution_count": 61,
          "output_type": "execute_result",
          "data": {
            "text/plain": "pandas.core.series.Series"
          },
          "metadata": {}
        }
      ]
    },
    {
      "cell_type": "code",
      "source": "# seleciona a coluna Ano e retorna uma os valores em forma de um\n# Dataframe \ndf[['Ano']].head() ",
      "metadata": {
        "trusted": true
      },
      "execution_count": 62,
      "outputs": [
        {
          "execution_count": 62,
          "output_type": "execute_result",
          "data": {
            "text/plain": "    Ano\n0  2013\n1  2013\n2  2013\n3  2013\n4  2013",
            "text/html": "<div>\n<style scoped>\n    .dataframe tbody tr th:only-of-type {\n        vertical-align: middle;\n    }\n\n    .dataframe tbody tr th {\n        vertical-align: top;\n    }\n\n    .dataframe thead th {\n        text-align: right;\n    }\n</style>\n<table border=\"1\" class=\"dataframe\">\n  <thead>\n    <tr style=\"text-align: right;\">\n      <th></th>\n      <th>Ano</th>\n    </tr>\n  </thead>\n  <tbody>\n    <tr>\n      <th>0</th>\n      <td>2013</td>\n    </tr>\n    <tr>\n      <th>1</th>\n      <td>2013</td>\n    </tr>\n    <tr>\n      <th>2</th>\n      <td>2013</td>\n    </tr>\n    <tr>\n      <th>3</th>\n      <td>2013</td>\n    </tr>\n    <tr>\n      <th>4</th>\n      <td>2013</td>\n    </tr>\n  </tbody>\n</table>\n</div>"
          },
          "metadata": {}
        }
      ]
    },
    {
      "cell_type": "code",
      "source": "type(df[['Ano']])",
      "metadata": {
        "trusted": true
      },
      "execution_count": 63,
      "outputs": [
        {
          "execution_count": 63,
          "output_type": "execute_result",
          "data": {
            "text/plain": "pandas.core.frame.DataFrame"
          },
          "metadata": {}
        }
      ]
    },
    {
      "cell_type": "code",
      "source": "# é possível escolher uma lista de colunas:\ndf[['Ano','Tipo','Qualis']].head() ",
      "metadata": {
        "trusted": true
      },
      "execution_count": 70,
      "outputs": [
        {
          "execution_count": 70,
          "output_type": "execute_result",
          "data": {
            "text/plain": "    Ano         Tipo Qualis\n0  2013  ConferΩncia      -\n1  2013  ConferΩncia     B4\n2  2013  ConferΩncia      -\n3  2013  ConferΩncia     B4\n4  2013    Peri≤dico     A2",
            "text/html": "<div>\n<style scoped>\n    .dataframe tbody tr th:only-of-type {\n        vertical-align: middle;\n    }\n\n    .dataframe tbody tr th {\n        vertical-align: top;\n    }\n\n    .dataframe thead th {\n        text-align: right;\n    }\n</style>\n<table border=\"1\" class=\"dataframe\">\n  <thead>\n    <tr style=\"text-align: right;\">\n      <th></th>\n      <th>Ano</th>\n      <th>Tipo</th>\n      <th>Qualis</th>\n    </tr>\n  </thead>\n  <tbody>\n    <tr>\n      <th>0</th>\n      <td>2013</td>\n      <td>ConferΩncia</td>\n      <td>-</td>\n    </tr>\n    <tr>\n      <th>1</th>\n      <td>2013</td>\n      <td>ConferΩncia</td>\n      <td>B4</td>\n    </tr>\n    <tr>\n      <th>2</th>\n      <td>2013</td>\n      <td>ConferΩncia</td>\n      <td>-</td>\n    </tr>\n    <tr>\n      <th>3</th>\n      <td>2013</td>\n      <td>ConferΩncia</td>\n      <td>B4</td>\n    </tr>\n    <tr>\n      <th>4</th>\n      <td>2013</td>\n      <td>Peri≤dico</td>\n      <td>A2</td>\n    </tr>\n  </tbody>\n</table>\n</div>"
          },
          "metadata": {}
        }
      ]
    },
    {
      "cell_type": "code",
      "source": "# também é possível selecionar somente as linhas que possuam determinado valor\n# O exemplo seguinte retorna somente artigos que possuam qualis A1 \ndf.loc[df['Qualis'] == 'A1'].head() # limitado a 5 resultados pelo head()",
      "metadata": {
        "trusted": true
      },
      "execution_count": 73,
      "outputs": [
        {
          "execution_count": 73,
          "output_type": "execute_result",
          "data": {
            "text/plain": "           Tipo   Ano Qualis                  Autor Principal  \\\n20  ConferΩncia  2013     A1                     Karin Becker   \n23    Peri≤dico  2013     A1           Marcus Rolf Peter Ritt   \n27  ConferΩncia  2013     A1          Dieison Soares Silveira   \n29  ConferΩncia  2013     A1  Lisandro Zambenedetti Granville   \n40    Peri≤dico  2013     A1                Jacob Scharcanski   \n\n                                     Tφtulo do Artigo  \\\n20  A Framework for Web Service Usage Profiles Dis...   \n23  A heuristic and a branch-and-bound algorithm f...   \n27  A lossless approach for external memory bandwi...   \n29  A mashup ecosystem for network management situ...   \n40  A morphologic two-stage approach for automated...   \n\n                                     Peri≤dico/Evento  Aut.Total  Aut.Prof  \\\n20      IEEE International Conference on Web Services          2         1   \n23                  Computers and Operations Research          2         1   \n27  IEEE International Conference on Multimedia an...          3         1   \n29          IEEE Global Telecommunications Conference          3         1   \n40                        Pattern Recognition Letters          3         1   \n\n    Aut.Dout  Aut.Mestr  Aut.Grad  \\\n20         0          0         0   \n23         0          0         0   \n27         0          0         0   \n29         0          0         0   \n40         0          0         0   \n\n                                      Autores - Nomes PPGC  \n20                        Bruno Vollino; Karin Becker  Sim  \n23            BORBA, LEONARDO; Marcus Rolf Peter Ritt  Sim  \n27  Dieison Soares Silveira; Marcelo Schiavon Port...  Sim  \n29  RENDON, OSCAR MAURICIO CAICEDO; ESTRADA-SOLANO...  Sim  \n40  Daniel Welfer; Jacob Scharcanski; Diane R. Mar...  Sim  ",
            "text/html": "<div>\n<style scoped>\n    .dataframe tbody tr th:only-of-type {\n        vertical-align: middle;\n    }\n\n    .dataframe tbody tr th {\n        vertical-align: top;\n    }\n\n    .dataframe thead th {\n        text-align: right;\n    }\n</style>\n<table border=\"1\" class=\"dataframe\">\n  <thead>\n    <tr style=\"text-align: right;\">\n      <th></th>\n      <th>Tipo</th>\n      <th>Ano</th>\n      <th>Qualis</th>\n      <th>Autor Principal</th>\n      <th>Tφtulo do Artigo</th>\n      <th>Peri≤dico/Evento</th>\n      <th>Aut.Total</th>\n      <th>Aut.Prof</th>\n      <th>Aut.Dout</th>\n      <th>Aut.Mestr</th>\n      <th>Aut.Grad</th>\n      <th>Autores - Nomes</th>\n      <th>PPGC</th>\n    </tr>\n  </thead>\n  <tbody>\n    <tr>\n      <th>20</th>\n      <td>ConferΩncia</td>\n      <td>2013</td>\n      <td>A1</td>\n      <td>Karin Becker</td>\n      <td>A Framework for Web Service Usage Profiles Dis...</td>\n      <td>IEEE International Conference on Web Services</td>\n      <td>2</td>\n      <td>1</td>\n      <td>0</td>\n      <td>0</td>\n      <td>0</td>\n      <td>Bruno Vollino; Karin Becker</td>\n      <td>Sim</td>\n    </tr>\n    <tr>\n      <th>23</th>\n      <td>Peri≤dico</td>\n      <td>2013</td>\n      <td>A1</td>\n      <td>Marcus Rolf Peter Ritt</td>\n      <td>A heuristic and a branch-and-bound algorithm f...</td>\n      <td>Computers and Operations Research</td>\n      <td>2</td>\n      <td>1</td>\n      <td>0</td>\n      <td>0</td>\n      <td>0</td>\n      <td>BORBA, LEONARDO; Marcus Rolf Peter Ritt</td>\n      <td>Sim</td>\n    </tr>\n    <tr>\n      <th>27</th>\n      <td>ConferΩncia</td>\n      <td>2013</td>\n      <td>A1</td>\n      <td>Dieison Soares Silveira</td>\n      <td>A lossless approach for external memory bandwi...</td>\n      <td>IEEE International Conference on Multimedia an...</td>\n      <td>3</td>\n      <td>1</td>\n      <td>0</td>\n      <td>0</td>\n      <td>0</td>\n      <td>Dieison Soares Silveira; Marcelo Schiavon Port...</td>\n      <td>Sim</td>\n    </tr>\n    <tr>\n      <th>29</th>\n      <td>ConferΩncia</td>\n      <td>2013</td>\n      <td>A1</td>\n      <td>Lisandro Zambenedetti Granville</td>\n      <td>A mashup ecosystem for network management situ...</td>\n      <td>IEEE Global Telecommunications Conference</td>\n      <td>3</td>\n      <td>1</td>\n      <td>0</td>\n      <td>0</td>\n      <td>0</td>\n      <td>RENDON, OSCAR MAURICIO CAICEDO; ESTRADA-SOLANO...</td>\n      <td>Sim</td>\n    </tr>\n    <tr>\n      <th>40</th>\n      <td>Peri≤dico</td>\n      <td>2013</td>\n      <td>A1</td>\n      <td>Jacob Scharcanski</td>\n      <td>A morphologic two-stage approach for automated...</td>\n      <td>Pattern Recognition Letters</td>\n      <td>3</td>\n      <td>1</td>\n      <td>0</td>\n      <td>0</td>\n      <td>0</td>\n      <td>Daniel Welfer; Jacob Scharcanski; Diane R. Mar...</td>\n      <td>Sim</td>\n    </tr>\n  </tbody>\n</table>\n</div>"
          },
          "metadata": {}
        }
      ]
    },
    {
      "cell_type": "code",
      "source": "df.loc[df['Qualis'] != 'A1'].head() # os que não são A1",
      "metadata": {
        "trusted": true
      },
      "execution_count": 74,
      "outputs": [
        {
          "execution_count": 74,
          "output_type": "execute_result",
          "data": {
            "text/plain": "          Tipo   Ano Qualis                     Autor Principal  \\\n0  ConferΩncia  2013      -                Jonas Santos Bezerra   \n1  ConferΩncia  2013     B4               Luciana Salete Buriol   \n2  ConferΩncia  2013      -          Dante Augusto Couto Barone   \n3  ConferΩncia  2013     B4  Liane Margarida Rockenbach Tarouco   \n4    Peri≤dico  2013     A2                         Mßrcio Dorn   \n\n                                    Tφtulo do Artigo  \\\n0  14Factory: Facilitando a disponibilizaτπo de n...   \n1  A biased random-key genetic algorithm for a ne...   \n2  A CI╩NCIA DA ANTECIPA╟├O: UM MODELO DE PREDI╟├...   \n3  A Cloud Monitoring Framework for Self-Configur...   \n4  A cluster-DEE-based strategy to empower protei...   \n\n                                    Peri≤dico/Evento  Aut.Total  Aut.Prof  \\\n0                     Terceira Semana de Informßtica          4         1   \n1        Simp≤sio Brasileiro de Pesquisa Operacional          3         1   \n2   ConferΩncia IADIS Ibero-Americana WWW / internet          2         1   \n3  International Conference on Network and Servic...          4         2   \n4                   Expert Systems with Applications          4         2   \n\n   Aut.Dout  Aut.Mestr  Aut.Grad  \\\n0         0          0         0   \n1         0          0         0   \n2         0          0         0   \n3         0          0         0   \n4         1          0         0   \n\n                                     Autores - Nomes PPGC  \n0  Tßssio Augusto da Cruz Guimarπes; Vinφcius Cas...  Sim  \n1  Fernando Stefanello; Luciana Salete Buriol; Ma...  Sim  \n2  Marco AurΘlio Schⁿnke; Dante Augusto Couto Barone  Sim  \n3  Mßrcio Barbosa de Carvalho; Rafael Pereira Est...  Sim  \n4  DE ANDRADES, RAFAEL K.; Mßrcio Dorn; FARENZENA...  Sim  ",
            "text/html": "<div>\n<style scoped>\n    .dataframe tbody tr th:only-of-type {\n        vertical-align: middle;\n    }\n\n    .dataframe tbody tr th {\n        vertical-align: top;\n    }\n\n    .dataframe thead th {\n        text-align: right;\n    }\n</style>\n<table border=\"1\" class=\"dataframe\">\n  <thead>\n    <tr style=\"text-align: right;\">\n      <th></th>\n      <th>Tipo</th>\n      <th>Ano</th>\n      <th>Qualis</th>\n      <th>Autor Principal</th>\n      <th>Tφtulo do Artigo</th>\n      <th>Peri≤dico/Evento</th>\n      <th>Aut.Total</th>\n      <th>Aut.Prof</th>\n      <th>Aut.Dout</th>\n      <th>Aut.Mestr</th>\n      <th>Aut.Grad</th>\n      <th>Autores - Nomes</th>\n      <th>PPGC</th>\n    </tr>\n  </thead>\n  <tbody>\n    <tr>\n      <th>0</th>\n      <td>ConferΩncia</td>\n      <td>2013</td>\n      <td>-</td>\n      <td>Jonas Santos Bezerra</td>\n      <td>14Factory: Facilitando a disponibilizaτπo de n...</td>\n      <td>Terceira Semana de Informßtica</td>\n      <td>4</td>\n      <td>1</td>\n      <td>0</td>\n      <td>0</td>\n      <td>0</td>\n      <td>Tßssio Augusto da Cruz Guimarπes; Vinφcius Cas...</td>\n      <td>Sim</td>\n    </tr>\n    <tr>\n      <th>1</th>\n      <td>ConferΩncia</td>\n      <td>2013</td>\n      <td>B4</td>\n      <td>Luciana Salete Buriol</td>\n      <td>A biased random-key genetic algorithm for a ne...</td>\n      <td>Simp≤sio Brasileiro de Pesquisa Operacional</td>\n      <td>3</td>\n      <td>1</td>\n      <td>0</td>\n      <td>0</td>\n      <td>0</td>\n      <td>Fernando Stefanello; Luciana Salete Buriol; Ma...</td>\n      <td>Sim</td>\n    </tr>\n    <tr>\n      <th>2</th>\n      <td>ConferΩncia</td>\n      <td>2013</td>\n      <td>-</td>\n      <td>Dante Augusto Couto Barone</td>\n      <td>A CI╩NCIA DA ANTECIPA╟├O: UM MODELO DE PREDI╟├...</td>\n      <td>ConferΩncia IADIS Ibero-Americana WWW / internet</td>\n      <td>2</td>\n      <td>1</td>\n      <td>0</td>\n      <td>0</td>\n      <td>0</td>\n      <td>Marco AurΘlio Schⁿnke; Dante Augusto Couto Barone</td>\n      <td>Sim</td>\n    </tr>\n    <tr>\n      <th>3</th>\n      <td>ConferΩncia</td>\n      <td>2013</td>\n      <td>B4</td>\n      <td>Liane Margarida Rockenbach Tarouco</td>\n      <td>A Cloud Monitoring Framework for Self-Configur...</td>\n      <td>International Conference on Network and Servic...</td>\n      <td>4</td>\n      <td>2</td>\n      <td>0</td>\n      <td>0</td>\n      <td>0</td>\n      <td>Mßrcio Barbosa de Carvalho; Rafael Pereira Est...</td>\n      <td>Sim</td>\n    </tr>\n    <tr>\n      <th>4</th>\n      <td>Peri≤dico</td>\n      <td>2013</td>\n      <td>A2</td>\n      <td>Mßrcio Dorn</td>\n      <td>A cluster-DEE-based strategy to empower protei...</td>\n      <td>Expert Systems with Applications</td>\n      <td>4</td>\n      <td>2</td>\n      <td>1</td>\n      <td>0</td>\n      <td>0</td>\n      <td>DE ANDRADES, RAFAEL K.; Mßrcio Dorn; FARENZENA...</td>\n      <td>Sim</td>\n    </tr>\n  </tbody>\n</table>\n</div>"
          },
          "metadata": {}
        }
      ]
    },
    {
      "cell_type": "code",
      "source": "# O exemplo seguinte seleciona somente as linhas que possuem um conjunto de qualis desejado\ndf.loc[df['Qualis'].isin(['A1', 'A2', 'B1'])].head() # limitado a 5 resultados pelo head()",
      "metadata": {
        "trusted": true
      },
      "execution_count": 75,
      "outputs": [
        {
          "execution_count": 75,
          "output_type": "execute_result",
          "data": {
            "text/plain": "         Tipo   Ano Qualis         Autor Principal  \\\n4   Peri≤dico  2013     A2             Mßrcio Dorn   \n5   Peri≤dico  2013     A2  Daniel Scain Farenzena   \n6   Peri≤dico  2013     A2      Luφs da Cunha Lamb   \n7   Peri≤dico  2013     B1       Jacob Scharcanski   \n14  Peri≤dico  2013     B1      Renato Perez Ribas   \n\n                                     Tφtulo do Artigo  \\\n4   A cluster-DEE-based strategy to empower protei...   \n5   A cluster-DEE-based strategy to empower protei...   \n6   A cluster-DEE-based strategy to empower protei...   \n7   A Coarse-to-Fine Approach for Segmenting Melan...   \n14       BTI, HCI and TDDB aging impact in flip-flops   \n\n                                     Peri≤dico/Evento  Aut.Total  Aut.Prof  \\\n4                    Expert Systems with Applications          4         2   \n5                    Expert Systems with Applications          4         3   \n6                    Expert Systems with Applications          4         2   \n7   Computer Methods and Programs in Biomedicine (...          2         1   \n14                   Microelectronics and Reliability          4         2   \n\n    Aut.Dout  Aut.Mestr  Aut.Grad  \\\n4          1          0         0   \n5          0          0         0   \n6          0          0         0   \n7          0          0         0   \n14         0          0         0   \n\n                                      Autores - Nomes PPGC  \n4   DE ANDRADES, RAFAEL K.; Mßrcio Dorn; FARENZENA...  Sim  \n5   DE ANDRADES, RAFAEL K.; Dorn, Mßrcio; Luφs da ...  Sim  \n6   DE ANDRADES, RAFAEL K.; Dorn, M├írcio; Daniel ...  Sim  \n7             CAVALCANTI, PABLO G.; Jacob Scharcanski  Sim  \n14  Cφcero Nunes; BUTZEN, P.F.; REIS, A.I.; Renato...  Nπo  ",
            "text/html": "<div>\n<style scoped>\n    .dataframe tbody tr th:only-of-type {\n        vertical-align: middle;\n    }\n\n    .dataframe tbody tr th {\n        vertical-align: top;\n    }\n\n    .dataframe thead th {\n        text-align: right;\n    }\n</style>\n<table border=\"1\" class=\"dataframe\">\n  <thead>\n    <tr style=\"text-align: right;\">\n      <th></th>\n      <th>Tipo</th>\n      <th>Ano</th>\n      <th>Qualis</th>\n      <th>Autor Principal</th>\n      <th>Tφtulo do Artigo</th>\n      <th>Peri≤dico/Evento</th>\n      <th>Aut.Total</th>\n      <th>Aut.Prof</th>\n      <th>Aut.Dout</th>\n      <th>Aut.Mestr</th>\n      <th>Aut.Grad</th>\n      <th>Autores - Nomes</th>\n      <th>PPGC</th>\n    </tr>\n  </thead>\n  <tbody>\n    <tr>\n      <th>4</th>\n      <td>Peri≤dico</td>\n      <td>2013</td>\n      <td>A2</td>\n      <td>Mßrcio Dorn</td>\n      <td>A cluster-DEE-based strategy to empower protei...</td>\n      <td>Expert Systems with Applications</td>\n      <td>4</td>\n      <td>2</td>\n      <td>1</td>\n      <td>0</td>\n      <td>0</td>\n      <td>DE ANDRADES, RAFAEL K.; Mßrcio Dorn; FARENZENA...</td>\n      <td>Sim</td>\n    </tr>\n    <tr>\n      <th>5</th>\n      <td>Peri≤dico</td>\n      <td>2013</td>\n      <td>A2</td>\n      <td>Daniel Scain Farenzena</td>\n      <td>A cluster-DEE-based strategy to empower protei...</td>\n      <td>Expert Systems with Applications</td>\n      <td>4</td>\n      <td>3</td>\n      <td>0</td>\n      <td>0</td>\n      <td>0</td>\n      <td>DE ANDRADES, RAFAEL K.; Dorn, Mßrcio; Luφs da ...</td>\n      <td>Sim</td>\n    </tr>\n    <tr>\n      <th>6</th>\n      <td>Peri≤dico</td>\n      <td>2013</td>\n      <td>A2</td>\n      <td>Luφs da Cunha Lamb</td>\n      <td>A cluster-DEE-based strategy to empower protei...</td>\n      <td>Expert Systems with Applications</td>\n      <td>4</td>\n      <td>2</td>\n      <td>0</td>\n      <td>0</td>\n      <td>0</td>\n      <td>DE ANDRADES, RAFAEL K.; Dorn, M├írcio; Daniel ...</td>\n      <td>Sim</td>\n    </tr>\n    <tr>\n      <th>7</th>\n      <td>Peri≤dico</td>\n      <td>2013</td>\n      <td>B1</td>\n      <td>Jacob Scharcanski</td>\n      <td>A Coarse-to-Fine Approach for Segmenting Melan...</td>\n      <td>Computer Methods and Programs in Biomedicine (...</td>\n      <td>2</td>\n      <td>1</td>\n      <td>0</td>\n      <td>0</td>\n      <td>0</td>\n      <td>CAVALCANTI, PABLO G.; Jacob Scharcanski</td>\n      <td>Sim</td>\n    </tr>\n    <tr>\n      <th>14</th>\n      <td>Peri≤dico</td>\n      <td>2013</td>\n      <td>B1</td>\n      <td>Renato Perez Ribas</td>\n      <td>BTI, HCI and TDDB aging impact in flip-flops</td>\n      <td>Microelectronics and Reliability</td>\n      <td>4</td>\n      <td>2</td>\n      <td>0</td>\n      <td>0</td>\n      <td>0</td>\n      <td>Cφcero Nunes; BUTZEN, P.F.; REIS, A.I.; Renato...</td>\n      <td>Nπo</td>\n    </tr>\n  </tbody>\n</table>\n</div>"
          },
          "metadata": {}
        }
      ]
    },
    {
      "cell_type": "code",
      "source": "# seleciona os que não estão no conjunto especificado:\ndf.loc[~df['Qualis'].isin(['A1', 'A2', 'B1'])].head() # limitado a 5 resultados pelo head()",
      "metadata": {
        "trusted": true
      },
      "execution_count": 76,
      "outputs": [
        {
          "execution_count": 76,
          "output_type": "execute_result",
          "data": {
            "text/plain": "          Tipo   Ano Qualis                     Autor Principal  \\\n0  ConferΩncia  2013      -                Jonas Santos Bezerra   \n1  ConferΩncia  2013     B4               Luciana Salete Buriol   \n2  ConferΩncia  2013      -          Dante Augusto Couto Barone   \n3  ConferΩncia  2013     B4  Liane Margarida Rockenbach Tarouco   \n8  ConferΩncia  2013      -       Antonio Carlos da Rocha Costa   \n\n                                    Tφtulo do Artigo  \\\n0  14Factory: Facilitando a disponibilizaτπo de n...   \n1  A biased random-key genetic algorithm for a ne...   \n2  A CI╩NCIA DA ANTECIPA╟├O: UM MODELO DE PREDI╟├...   \n3  A Cloud Monitoring Framework for Self-Configur...   \n8  A Communication Infrastructure Based on Artifa...   \n\n                                    Peri≤dico/Evento  Aut.Total  Aut.Prof  \\\n0                     Terceira Semana de Informßtica          4         1   \n1        Simp≤sio Brasileiro de Pesquisa Operacional          3         1   \n2   ConferΩncia IADIS Ibero-Americana WWW / internet          2         1   \n3  International Conference on Network and Servic...          4         2   \n8  1st International Workshop on Engineering Mult...          3         1   \n\n   Aut.Dout  Aut.Mestr  Aut.Grad  \\\n0         0          0         0   \n1         0          0         0   \n2         0          0         0   \n3         0          0         0   \n8         0          0         0   \n\n                                     Autores - Nomes PPGC  \n0  Tßssio Augusto da Cruz Guimarπes; Vinφcius Cas...  Sim  \n1  Fernando Stefanello; Luciana Salete Buriol; Ma...  Sim  \n2  Marco AurΘlio Schⁿnke; Dante Augusto Couto Barone  Sim  \n3  Mßrcio Barbosa de Carvalho; Rafael Pereira Est...  Sim  \n8  Thiago Fredes Rodrigues; Graτaliz Pereira DIMU...  Sim  ",
            "text/html": "<div>\n<style scoped>\n    .dataframe tbody tr th:only-of-type {\n        vertical-align: middle;\n    }\n\n    .dataframe tbody tr th {\n        vertical-align: top;\n    }\n\n    .dataframe thead th {\n        text-align: right;\n    }\n</style>\n<table border=\"1\" class=\"dataframe\">\n  <thead>\n    <tr style=\"text-align: right;\">\n      <th></th>\n      <th>Tipo</th>\n      <th>Ano</th>\n      <th>Qualis</th>\n      <th>Autor Principal</th>\n      <th>Tφtulo do Artigo</th>\n      <th>Peri≤dico/Evento</th>\n      <th>Aut.Total</th>\n      <th>Aut.Prof</th>\n      <th>Aut.Dout</th>\n      <th>Aut.Mestr</th>\n      <th>Aut.Grad</th>\n      <th>Autores - Nomes</th>\n      <th>PPGC</th>\n    </tr>\n  </thead>\n  <tbody>\n    <tr>\n      <th>0</th>\n      <td>ConferΩncia</td>\n      <td>2013</td>\n      <td>-</td>\n      <td>Jonas Santos Bezerra</td>\n      <td>14Factory: Facilitando a disponibilizaτπo de n...</td>\n      <td>Terceira Semana de Informßtica</td>\n      <td>4</td>\n      <td>1</td>\n      <td>0</td>\n      <td>0</td>\n      <td>0</td>\n      <td>Tßssio Augusto da Cruz Guimarπes; Vinφcius Cas...</td>\n      <td>Sim</td>\n    </tr>\n    <tr>\n      <th>1</th>\n      <td>ConferΩncia</td>\n      <td>2013</td>\n      <td>B4</td>\n      <td>Luciana Salete Buriol</td>\n      <td>A biased random-key genetic algorithm for a ne...</td>\n      <td>Simp≤sio Brasileiro de Pesquisa Operacional</td>\n      <td>3</td>\n      <td>1</td>\n      <td>0</td>\n      <td>0</td>\n      <td>0</td>\n      <td>Fernando Stefanello; Luciana Salete Buriol; Ma...</td>\n      <td>Sim</td>\n    </tr>\n    <tr>\n      <th>2</th>\n      <td>ConferΩncia</td>\n      <td>2013</td>\n      <td>-</td>\n      <td>Dante Augusto Couto Barone</td>\n      <td>A CI╩NCIA DA ANTECIPA╟├O: UM MODELO DE PREDI╟├...</td>\n      <td>ConferΩncia IADIS Ibero-Americana WWW / internet</td>\n      <td>2</td>\n      <td>1</td>\n      <td>0</td>\n      <td>0</td>\n      <td>0</td>\n      <td>Marco AurΘlio Schⁿnke; Dante Augusto Couto Barone</td>\n      <td>Sim</td>\n    </tr>\n    <tr>\n      <th>3</th>\n      <td>ConferΩncia</td>\n      <td>2013</td>\n      <td>B4</td>\n      <td>Liane Margarida Rockenbach Tarouco</td>\n      <td>A Cloud Monitoring Framework for Self-Configur...</td>\n      <td>International Conference on Network and Servic...</td>\n      <td>4</td>\n      <td>2</td>\n      <td>0</td>\n      <td>0</td>\n      <td>0</td>\n      <td>Mßrcio Barbosa de Carvalho; Rafael Pereira Est...</td>\n      <td>Sim</td>\n    </tr>\n    <tr>\n      <th>8</th>\n      <td>ConferΩncia</td>\n      <td>2013</td>\n      <td>-</td>\n      <td>Antonio Carlos da Rocha Costa</td>\n      <td>A Communication Infrastructure Based on Artifa...</td>\n      <td>1st International Workshop on Engineering Mult...</td>\n      <td>3</td>\n      <td>1</td>\n      <td>0</td>\n      <td>0</td>\n      <td>0</td>\n      <td>Thiago Fredes Rodrigues; Graτaliz Pereira DIMU...</td>\n      <td>Sim</td>\n    </tr>\n  </tbody>\n</table>\n</div>"
          },
          "metadata": {}
        }
      ]
    },
    {
      "cell_type": "code",
      "source": "# É possível ter mais de um critério\n# o exemplo, devolve os artigos publicados a partir de 2014 e que tenham Qualis A1, A2 ou B1\ndf.loc[(df['Ano'] >= 2014) & (df['Qualis'].isin(['A1', 'A2', 'B1']))].head() # limitado a 5",
      "metadata": {
        "trusted": true
      },
      "execution_count": 77,
      "outputs": [
        {
          "execution_count": 77,
          "output_type": "execute_result",
          "data": {
            "text/plain": "            Tipo   Ano Qualis                     Autor Principal  \\\n665    Peri≤dico  2014     A2             Renan de Queiroz Maffei   \n666    Peri≤dico  2014     A2         Vitor Augusto Machado Jorge   \n673  ConferΩncia  2014     B1  Liane Margarida Rockenbach Tarouco   \n674  ConferΩncia  2014     B1     Lisandro Zambenedetti Granville   \n677  ConferΩncia  2014     A1                   Andre Inacio Reis   \n\n                                      Tφtulo do Artigo  \\\n665  2014 Humanitarian Robotics and Automation Tech...   \n666  2014 Humanitarian Robotics and Automation Tech...   \n673  A Collaborative Solution for SNMP Traces Visua...   \n674  A Collaborative Solution for SNMP Traces Visua...   \n677  A constructive approach for threshold logic ci...   \n\n                                      Peri≤dico/Evento  Aut.Total  Aut.Prof  \\\n665                IEEE Robotics & Automation Magazine         11         3   \n666                IEEE Robotics & Automation Magazine         11         3   \n673  International Conference on Information Networ...          5         2   \n674  International Conference on Information Networ...          5         2   \n677  IEEE International Symposium on Circuits and S...          4         2   \n\n     Aut.Dout  Aut.Mestr  Aut.Grad  \\\n665         0          0         0   \n666         0          0         0   \n673         0          0         0   \n674         0          0         0   \n677         1          0         0   \n\n                                       Autores - Nomes PPGC  \n665  MADHAVAN, RAJ; MARQUES, LINO; PRESTES, EDSON; ...  Sim  \n666  MADHAVAN, RAJ; MARQUES, LINO; PRESTES, EDSON; ...  Sim  \n673  Vini&#305;cius Tavares Guimarπaes; Glederson S...  Sim  \n674  Guilherme da Cunha Rodrigues; Vinφcius Tavares...  Sim  \n677  Augusto Neutzling; Mayler Gama Alverenga Marti...  Sim  ",
            "text/html": "<div>\n<style scoped>\n    .dataframe tbody tr th:only-of-type {\n        vertical-align: middle;\n    }\n\n    .dataframe tbody tr th {\n        vertical-align: top;\n    }\n\n    .dataframe thead th {\n        text-align: right;\n    }\n</style>\n<table border=\"1\" class=\"dataframe\">\n  <thead>\n    <tr style=\"text-align: right;\">\n      <th></th>\n      <th>Tipo</th>\n      <th>Ano</th>\n      <th>Qualis</th>\n      <th>Autor Principal</th>\n      <th>Tφtulo do Artigo</th>\n      <th>Peri≤dico/Evento</th>\n      <th>Aut.Total</th>\n      <th>Aut.Prof</th>\n      <th>Aut.Dout</th>\n      <th>Aut.Mestr</th>\n      <th>Aut.Grad</th>\n      <th>Autores - Nomes</th>\n      <th>PPGC</th>\n    </tr>\n  </thead>\n  <tbody>\n    <tr>\n      <th>665</th>\n      <td>Peri≤dico</td>\n      <td>2014</td>\n      <td>A2</td>\n      <td>Renan de Queiroz Maffei</td>\n      <td>2014 Humanitarian Robotics and Automation Tech...</td>\n      <td>IEEE Robotics &amp; Automation Magazine</td>\n      <td>11</td>\n      <td>3</td>\n      <td>0</td>\n      <td>0</td>\n      <td>0</td>\n      <td>MADHAVAN, RAJ; MARQUES, LINO; PRESTES, EDSON; ...</td>\n      <td>Sim</td>\n    </tr>\n    <tr>\n      <th>666</th>\n      <td>Peri≤dico</td>\n      <td>2014</td>\n      <td>A2</td>\n      <td>Vitor Augusto Machado Jorge</td>\n      <td>2014 Humanitarian Robotics and Automation Tech...</td>\n      <td>IEEE Robotics &amp; Automation Magazine</td>\n      <td>11</td>\n      <td>3</td>\n      <td>0</td>\n      <td>0</td>\n      <td>0</td>\n      <td>MADHAVAN, RAJ; MARQUES, LINO; PRESTES, EDSON; ...</td>\n      <td>Sim</td>\n    </tr>\n    <tr>\n      <th>673</th>\n      <td>ConferΩncia</td>\n      <td>2014</td>\n      <td>B1</td>\n      <td>Liane Margarida Rockenbach Tarouco</td>\n      <td>A Collaborative Solution for SNMP Traces Visua...</td>\n      <td>International Conference on Information Networ...</td>\n      <td>5</td>\n      <td>2</td>\n      <td>0</td>\n      <td>0</td>\n      <td>0</td>\n      <td>Vini&amp;#305;cius Tavares Guimarπaes; Glederson S...</td>\n      <td>Sim</td>\n    </tr>\n    <tr>\n      <th>674</th>\n      <td>ConferΩncia</td>\n      <td>2014</td>\n      <td>B1</td>\n      <td>Lisandro Zambenedetti Granville</td>\n      <td>A Collaborative Solution for SNMP Traces Visua...</td>\n      <td>International Conference on Information Networ...</td>\n      <td>5</td>\n      <td>2</td>\n      <td>0</td>\n      <td>0</td>\n      <td>0</td>\n      <td>Guilherme da Cunha Rodrigues; Vinφcius Tavares...</td>\n      <td>Sim</td>\n    </tr>\n    <tr>\n      <th>677</th>\n      <td>ConferΩncia</td>\n      <td>2014</td>\n      <td>A1</td>\n      <td>Andre Inacio Reis</td>\n      <td>A constructive approach for threshold logic ci...</td>\n      <td>IEEE International Symposium on Circuits and S...</td>\n      <td>4</td>\n      <td>2</td>\n      <td>1</td>\n      <td>0</td>\n      <td>0</td>\n      <td>Augusto Neutzling; Mayler Gama Alverenga Marti...</td>\n      <td>Sim</td>\n    </tr>\n  </tbody>\n</table>\n</div>"
          },
          "metadata": {}
        }
      ]
    },
    {
      "cell_type": "code",
      "source": "# também há o método query (mas pode ser demorado):\ndf.query('Qualis == \"A1\"').head()",
      "metadata": {
        "trusted": true
      },
      "execution_count": 93,
      "outputs": [
        {
          "execution_count": 93,
          "output_type": "execute_result",
          "data": {
            "text/plain": "           Tipo   Ano Qualis                  Autor Principal  \\\n20  ConferΩncia  2013     A1                     Karin Becker   \n23    Peri≤dico  2013     A1           Marcus Rolf Peter Ritt   \n27  ConferΩncia  2013     A1          Dieison Soares Silveira   \n29  ConferΩncia  2013     A1  Lisandro Zambenedetti Granville   \n40    Peri≤dico  2013     A1                Jacob Scharcanski   \n\n                                     Tφtulo do Artigo  \\\n20  A Framework for Web Service Usage Profiles Dis...   \n23  A heuristic and a branch-and-bound algorithm f...   \n27  A lossless approach for external memory bandwi...   \n29  A mashup ecosystem for network management situ...   \n40  A morphologic two-stage approach for automated...   \n\n                                     Peri≤dico/Evento  Aut.Total  Aut.Prof  \\\n20      IEEE International Conference on Web Services          2         1   \n23                  Computers and Operations Research          2         1   \n27  IEEE International Conference on Multimedia an...          3         1   \n29          IEEE Global Telecommunications Conference          3         1   \n40                        Pattern Recognition Letters          3         1   \n\n    Aut.Dout  Aut.Mestr  Aut.Grad  \\\n20         0          0         0   \n23         0          0         0   \n27         0          0         0   \n29         0          0         0   \n40         0          0         0   \n\n                                      Autores - Nomes PPGC  \n20                        Bruno Vollino; Karin Becker  Sim  \n23            BORBA, LEONARDO; Marcus Rolf Peter Ritt  Sim  \n27  Dieison Soares Silveira; Marcelo Schiavon Port...  Sim  \n29  RENDON, OSCAR MAURICIO CAICEDO; ESTRADA-SOLANO...  Sim  \n40  Daniel Welfer; Jacob Scharcanski; Diane R. Mar...  Sim  ",
            "text/html": "<div>\n<style scoped>\n    .dataframe tbody tr th:only-of-type {\n        vertical-align: middle;\n    }\n\n    .dataframe tbody tr th {\n        vertical-align: top;\n    }\n\n    .dataframe thead th {\n        text-align: right;\n    }\n</style>\n<table border=\"1\" class=\"dataframe\">\n  <thead>\n    <tr style=\"text-align: right;\">\n      <th></th>\n      <th>Tipo</th>\n      <th>Ano</th>\n      <th>Qualis</th>\n      <th>Autor Principal</th>\n      <th>Tφtulo do Artigo</th>\n      <th>Peri≤dico/Evento</th>\n      <th>Aut.Total</th>\n      <th>Aut.Prof</th>\n      <th>Aut.Dout</th>\n      <th>Aut.Mestr</th>\n      <th>Aut.Grad</th>\n      <th>Autores - Nomes</th>\n      <th>PPGC</th>\n    </tr>\n  </thead>\n  <tbody>\n    <tr>\n      <th>20</th>\n      <td>ConferΩncia</td>\n      <td>2013</td>\n      <td>A1</td>\n      <td>Karin Becker</td>\n      <td>A Framework for Web Service Usage Profiles Dis...</td>\n      <td>IEEE International Conference on Web Services</td>\n      <td>2</td>\n      <td>1</td>\n      <td>0</td>\n      <td>0</td>\n      <td>0</td>\n      <td>Bruno Vollino; Karin Becker</td>\n      <td>Sim</td>\n    </tr>\n    <tr>\n      <th>23</th>\n      <td>Peri≤dico</td>\n      <td>2013</td>\n      <td>A1</td>\n      <td>Marcus Rolf Peter Ritt</td>\n      <td>A heuristic and a branch-and-bound algorithm f...</td>\n      <td>Computers and Operations Research</td>\n      <td>2</td>\n      <td>1</td>\n      <td>0</td>\n      <td>0</td>\n      <td>0</td>\n      <td>BORBA, LEONARDO; Marcus Rolf Peter Ritt</td>\n      <td>Sim</td>\n    </tr>\n    <tr>\n      <th>27</th>\n      <td>ConferΩncia</td>\n      <td>2013</td>\n      <td>A1</td>\n      <td>Dieison Soares Silveira</td>\n      <td>A lossless approach for external memory bandwi...</td>\n      <td>IEEE International Conference on Multimedia an...</td>\n      <td>3</td>\n      <td>1</td>\n      <td>0</td>\n      <td>0</td>\n      <td>0</td>\n      <td>Dieison Soares Silveira; Marcelo Schiavon Port...</td>\n      <td>Sim</td>\n    </tr>\n    <tr>\n      <th>29</th>\n      <td>ConferΩncia</td>\n      <td>2013</td>\n      <td>A1</td>\n      <td>Lisandro Zambenedetti Granville</td>\n      <td>A mashup ecosystem for network management situ...</td>\n      <td>IEEE Global Telecommunications Conference</td>\n      <td>3</td>\n      <td>1</td>\n      <td>0</td>\n      <td>0</td>\n      <td>0</td>\n      <td>RENDON, OSCAR MAURICIO CAICEDO; ESTRADA-SOLANO...</td>\n      <td>Sim</td>\n    </tr>\n    <tr>\n      <th>40</th>\n      <td>Peri≤dico</td>\n      <td>2013</td>\n      <td>A1</td>\n      <td>Jacob Scharcanski</td>\n      <td>A morphologic two-stage approach for automated...</td>\n      <td>Pattern Recognition Letters</td>\n      <td>3</td>\n      <td>1</td>\n      <td>0</td>\n      <td>0</td>\n      <td>0</td>\n      <td>Daniel Welfer; Jacob Scharcanski; Diane R. Mar...</td>\n      <td>Sim</td>\n    </tr>\n  </tbody>\n</table>\n</div>"
          },
          "metadata": {}
        }
      ]
    },
    {
      "cell_type": "code",
      "source": "# você pode buscar pelo índice (no caso do exemplo, é o número do registro):\ndf.loc[[10]]",
      "metadata": {
        "trusted": true
      },
      "execution_count": 94,
      "outputs": [
        {
          "execution_count": 94,
          "output_type": "execute_result",
          "data": {
            "text/plain": "           Tipo   Ano Qualis                   Autor Principal  \\\n10  ConferΩncia  2013      -  JosΘ Palazzo Moreira de Oliveira   \n\n                                     Tφtulo do Artigo  \\\n10  A Computational Tool to Analyze the Evolution ...   \n\n                                     Peri≤dico/Evento  Aut.Total  Aut.Prof  \\\n10  International Conference on Education and New ...          3         1   \n\n    Aut.Dout  Aut.Mestr  Aut.Grad  \\\n10         0          0         0   \n\n                                      Autores - Nomes PPGC  \n10  Cristiano Roberto Cervi; Renata de Matos Galan...  Sim  ",
            "text/html": "<div>\n<style scoped>\n    .dataframe tbody tr th:only-of-type {\n        vertical-align: middle;\n    }\n\n    .dataframe tbody tr th {\n        vertical-align: top;\n    }\n\n    .dataframe thead th {\n        text-align: right;\n    }\n</style>\n<table border=\"1\" class=\"dataframe\">\n  <thead>\n    <tr style=\"text-align: right;\">\n      <th></th>\n      <th>Tipo</th>\n      <th>Ano</th>\n      <th>Qualis</th>\n      <th>Autor Principal</th>\n      <th>Tφtulo do Artigo</th>\n      <th>Peri≤dico/Evento</th>\n      <th>Aut.Total</th>\n      <th>Aut.Prof</th>\n      <th>Aut.Dout</th>\n      <th>Aut.Mestr</th>\n      <th>Aut.Grad</th>\n      <th>Autores - Nomes</th>\n      <th>PPGC</th>\n    </tr>\n  </thead>\n  <tbody>\n    <tr>\n      <th>10</th>\n      <td>ConferΩncia</td>\n      <td>2013</td>\n      <td>-</td>\n      <td>JosΘ Palazzo Moreira de Oliveira</td>\n      <td>A Computational Tool to Analyze the Evolution ...</td>\n      <td>International Conference on Education and New ...</td>\n      <td>3</td>\n      <td>1</td>\n      <td>0</td>\n      <td>0</td>\n      <td>0</td>\n      <td>Cristiano Roberto Cervi; Renata de Matos Galan...</td>\n      <td>Sim</td>\n    </tr>\n  </tbody>\n</table>\n</div>"
          },
          "metadata": {}
        }
      ]
    },
    {
      "cell_type": "code",
      "source": "# ou uma lista de registros:\ndf.loc[[10,100]]",
      "metadata": {
        "trusted": true
      },
      "execution_count": 95,
      "outputs": [
        {
          "execution_count": 95,
          "output_type": "execute_result",
          "data": {
            "text/plain": "            Tipo   Ano Qualis                   Autor Principal  \\\n10   ConferΩncia  2013      -  JosΘ Palazzo Moreira de Oliveira   \n100  ConferΩncia  2013     B5  JosΘ Palazzo Moreira de Oliveira   \n\n                                      Tφtulo do Artigo  \\\n10   A Computational Tool to Analyze the Evolution ...   \n100  Ambientes Educacionais Ubφquos: explorando a c...   \n\n                                      Peri≤dico/Evento  Aut.Total  Aut.Prof  \\\n10   International Conference on Education and New ...          3         1   \n100  Simp≤sio Brasileiro de Computaτπo Ubφqua e Per...          6         2   \n\n     Aut.Dout  Aut.Mestr  Aut.Grad  \\\n10          0          0         0   \n100         0          0         0   \n\n                                       Autores - Nomes PPGC  \n10   Cristiano Roberto Cervi; Renata de Matos Galan...  Sim  \n100  Ana Marilza Pernas Fleishmann; Alencar Machado...  Sim  ",
            "text/html": "<div>\n<style scoped>\n    .dataframe tbody tr th:only-of-type {\n        vertical-align: middle;\n    }\n\n    .dataframe tbody tr th {\n        vertical-align: top;\n    }\n\n    .dataframe thead th {\n        text-align: right;\n    }\n</style>\n<table border=\"1\" class=\"dataframe\">\n  <thead>\n    <tr style=\"text-align: right;\">\n      <th></th>\n      <th>Tipo</th>\n      <th>Ano</th>\n      <th>Qualis</th>\n      <th>Autor Principal</th>\n      <th>Tφtulo do Artigo</th>\n      <th>Peri≤dico/Evento</th>\n      <th>Aut.Total</th>\n      <th>Aut.Prof</th>\n      <th>Aut.Dout</th>\n      <th>Aut.Mestr</th>\n      <th>Aut.Grad</th>\n      <th>Autores - Nomes</th>\n      <th>PPGC</th>\n    </tr>\n  </thead>\n  <tbody>\n    <tr>\n      <th>10</th>\n      <td>ConferΩncia</td>\n      <td>2013</td>\n      <td>-</td>\n      <td>JosΘ Palazzo Moreira de Oliveira</td>\n      <td>A Computational Tool to Analyze the Evolution ...</td>\n      <td>International Conference on Education and New ...</td>\n      <td>3</td>\n      <td>1</td>\n      <td>0</td>\n      <td>0</td>\n      <td>0</td>\n      <td>Cristiano Roberto Cervi; Renata de Matos Galan...</td>\n      <td>Sim</td>\n    </tr>\n    <tr>\n      <th>100</th>\n      <td>ConferΩncia</td>\n      <td>2013</td>\n      <td>B5</td>\n      <td>JosΘ Palazzo Moreira de Oliveira</td>\n      <td>Ambientes Educacionais Ubφquos: explorando a c...</td>\n      <td>Simp≤sio Brasileiro de Computaτπo Ubφqua e Per...</td>\n      <td>6</td>\n      <td>2</td>\n      <td>0</td>\n      <td>0</td>\n      <td>0</td>\n      <td>Ana Marilza Pernas Fleishmann; Alencar Machado...</td>\n      <td>Sim</td>\n    </tr>\n  </tbody>\n</table>\n</div>"
          },
          "metadata": {}
        }
      ]
    },
    {
      "cell_type": "code",
      "source": "# você pode trocar o índice \n# perceba que as modificações não são feitas no dataframe original \n# (e por isso o resultado foi colocado em uma nova variável)\n# se desejar fazer no original, tem essa opção (veja na documentação)\ndf2 = df.set_index(['Autor Principal']) \n\n# e agora fazer a busca pelo valor do índice:\ndf2.loc['Lisandro Zambenedetti Granville'].head()",
      "metadata": {
        "trusted": true
      },
      "execution_count": 98,
      "outputs": [
        {
          "execution_count": 98,
          "output_type": "execute_result",
          "data": {
            "text/plain": "                                        Tipo   Ano Qualis  \\\nAutor Principal                                             \nLisandro Zambenedetti Granville  ConferΩncia  2013     A1   \nLisandro Zambenedetti Granville  ConferΩncia  2013     A2   \nLisandro Zambenedetti Granville  ConferΩncia  2013     A2   \nLisandro Zambenedetti Granville    Peri≤dico  2013     A1   \nLisandro Zambenedetti Granville  ConferΩncia  2013     B5   \n\n                                                                  Tφtulo do Artigo  \\\nAutor Principal                                                                      \nLisandro Zambenedetti Granville  A mashup ecosystem for network management situ...   \nLisandro Zambenedetti Granville  A Mashup-based Approach for Virtual SDN Manage...   \nLisandro Zambenedetti Granville  Coordination in P2P Management Overlays to Imp...   \nLisandro Zambenedetti Granville       Data Center Network Virtualization: A Survey   \nLisandro Zambenedetti Granville  Gerenciamento Oportunφstico em Redes Tolerante...   \n\n                                                                  Peri≤dico/Evento  \\\nAutor Principal                                                                      \nLisandro Zambenedetti Granville          IEEE Global Telecommunications Conference   \nLisandro Zambenedetti Granville  Annual International Computer Software and App...   \nLisandro Zambenedetti Granville    IEEE International Conference on Communications   \nLisandro Zambenedetti Granville          IEEE Communications Surveys and Tutorials   \nLisandro Zambenedetti Granville  Workshop de GerΩncia e Operaτπo de Redes e Ser...   \n\n                                 Aut.Total  Aut.Prof  Aut.Dout  Aut.Mestr  \\\nAutor Principal                                                             \nLisandro Zambenedetti Granville          3         1         0          0   \nLisandro Zambenedetti Granville          3         1         0          0   \nLisandro Zambenedetti Granville          4         1         0          0   \nLisandro Zambenedetti Granville          8         1         0          0   \nLisandro Zambenedetti Granville          5         2         0          0   \n\n                                 Aut.Grad  \\\nAutor Principal                             \nLisandro Zambenedetti Granville         0   \nLisandro Zambenedetti Granville         0   \nLisandro Zambenedetti Granville         0   \nLisandro Zambenedetti Granville         0   \nLisandro Zambenedetti Granville         0   \n\n                                                                   Autores - Nomes  \\\nAutor Principal                                                                      \nLisandro Zambenedetti Granville  RENDON, OSCAR MAURICIO CAICEDO; ESTRADA-SOLANO...   \nLisandro Zambenedetti Granville  Oscar Maurφcio Caicedo Rend≤n; Carlos Felipe E...   \nLisandro Zambenedetti Granville  JΘferson Nobre; Lisandro Zambenedetti Granvill...   \nLisandro Zambenedetti Granville  Md. Faizul Bari; Rafael Pereira Esteves; Raouf...   \nLisandro Zambenedetti Granville  JΘferson Nobre; Fßbio Bertinatto; Pedro Arthur...   \n\n                                PPGC  \nAutor Principal                       \nLisandro Zambenedetti Granville  Sim  \nLisandro Zambenedetti Granville  Sim  \nLisandro Zambenedetti Granville  Sim  \nLisandro Zambenedetti Granville  Sim  \nLisandro Zambenedetti Granville  Sim  ",
            "text/html": "<div>\n<style scoped>\n    .dataframe tbody tr th:only-of-type {\n        vertical-align: middle;\n    }\n\n    .dataframe tbody tr th {\n        vertical-align: top;\n    }\n\n    .dataframe thead th {\n        text-align: right;\n    }\n</style>\n<table border=\"1\" class=\"dataframe\">\n  <thead>\n    <tr style=\"text-align: right;\">\n      <th></th>\n      <th>Tipo</th>\n      <th>Ano</th>\n      <th>Qualis</th>\n      <th>Tφtulo do Artigo</th>\n      <th>Peri≤dico/Evento</th>\n      <th>Aut.Total</th>\n      <th>Aut.Prof</th>\n      <th>Aut.Dout</th>\n      <th>Aut.Mestr</th>\n      <th>Aut.Grad</th>\n      <th>Autores - Nomes</th>\n      <th>PPGC</th>\n    </tr>\n    <tr>\n      <th>Autor Principal</th>\n      <th></th>\n      <th></th>\n      <th></th>\n      <th></th>\n      <th></th>\n      <th></th>\n      <th></th>\n      <th></th>\n      <th></th>\n      <th></th>\n      <th></th>\n      <th></th>\n    </tr>\n  </thead>\n  <tbody>\n    <tr>\n      <th>Lisandro Zambenedetti Granville</th>\n      <td>ConferΩncia</td>\n      <td>2013</td>\n      <td>A1</td>\n      <td>A mashup ecosystem for network management situ...</td>\n      <td>IEEE Global Telecommunications Conference</td>\n      <td>3</td>\n      <td>1</td>\n      <td>0</td>\n      <td>0</td>\n      <td>0</td>\n      <td>RENDON, OSCAR MAURICIO CAICEDO; ESTRADA-SOLANO...</td>\n      <td>Sim</td>\n    </tr>\n    <tr>\n      <th>Lisandro Zambenedetti Granville</th>\n      <td>ConferΩncia</td>\n      <td>2013</td>\n      <td>A2</td>\n      <td>A Mashup-based Approach for Virtual SDN Manage...</td>\n      <td>Annual International Computer Software and App...</td>\n      <td>3</td>\n      <td>1</td>\n      <td>0</td>\n      <td>0</td>\n      <td>0</td>\n      <td>Oscar Maurφcio Caicedo Rend≤n; Carlos Felipe E...</td>\n      <td>Sim</td>\n    </tr>\n    <tr>\n      <th>Lisandro Zambenedetti Granville</th>\n      <td>ConferΩncia</td>\n      <td>2013</td>\n      <td>A2</td>\n      <td>Coordination in P2P Management Overlays to Imp...</td>\n      <td>IEEE International Conference on Communications</td>\n      <td>4</td>\n      <td>1</td>\n      <td>0</td>\n      <td>0</td>\n      <td>0</td>\n      <td>JΘferson Nobre; Lisandro Zambenedetti Granvill...</td>\n      <td>Sim</td>\n    </tr>\n    <tr>\n      <th>Lisandro Zambenedetti Granville</th>\n      <td>Peri≤dico</td>\n      <td>2013</td>\n      <td>A1</td>\n      <td>Data Center Network Virtualization: A Survey</td>\n      <td>IEEE Communications Surveys and Tutorials</td>\n      <td>8</td>\n      <td>1</td>\n      <td>0</td>\n      <td>0</td>\n      <td>0</td>\n      <td>Md. Faizul Bari; Rafael Pereira Esteves; Raouf...</td>\n      <td>Sim</td>\n    </tr>\n    <tr>\n      <th>Lisandro Zambenedetti Granville</th>\n      <td>ConferΩncia</td>\n      <td>2013</td>\n      <td>B5</td>\n      <td>Gerenciamento Oportunφstico em Redes Tolerante...</td>\n      <td>Workshop de GerΩncia e Operaτπo de Redes e Ser...</td>\n      <td>5</td>\n      <td>2</td>\n      <td>0</td>\n      <td>0</td>\n      <td>0</td>\n      <td>JΘferson Nobre; Fßbio Bertinatto; Pedro Arthur...</td>\n      <td>Sim</td>\n    </tr>\n  </tbody>\n</table>\n</div>"
          },
          "metadata": {}
        }
      ]
    },
    {
      "cell_type": "markdown",
      "source": "**Os resultados também são classes que possuem atributos e métodos:**",
      "metadata": {}
    },
    {
      "cell_type": "code",
      "source": "df['Ano'].count() # Series.count()",
      "metadata": {
        "collapsed": false,
        "trusted": true
      },
      "execution_count": 89,
      "outputs": [
        {
          "execution_count": 89,
          "output_type": "execute_result",
          "data": {
            "text/plain": "2124"
          },
          "metadata": {}
        }
      ]
    },
    {
      "cell_type": "code",
      "source": "df[['Ano']].count() # Dataframe.count()",
      "metadata": {
        "trusted": true
      },
      "execution_count": 116,
      "outputs": [
        {
          "execution_count": 116,
          "output_type": "execute_result",
          "data": {
            "text/plain": "Ano    2124\ndtype: int64"
          },
          "metadata": {}
        }
      ]
    },
    {
      "cell_type": "markdown",
      "source": "** Você pode agrupar os resultados: ** ",
      "metadata": {}
    },
    {
      "cell_type": "code",
      "source": "resultado = df.groupby('Ano') # agrupa por ano",
      "metadata": {
        "collapsed": false,
        "trusted": true
      },
      "execution_count": 118,
      "outputs": []
    },
    {
      "cell_type": "code",
      "source": "type(resultado) # veja que o tipo é diferente (do resultado do grupo)",
      "metadata": {
        "trusted": true
      },
      "execution_count": 119,
      "outputs": [
        {
          "execution_count": 119,
          "output_type": "execute_result",
          "data": {
            "text/plain": "pandas.core.groupby.groupby.DataFrameGroupBy"
          },
          "metadata": {}
        }
      ]
    },
    {
      "cell_type": "code",
      "source": "resultado.count()",
      "metadata": {
        "collapsed": false,
        "trusted": true
      },
      "execution_count": 120,
      "outputs": [
        {
          "execution_count": 120,
          "output_type": "execute_result",
          "data": {
            "text/plain": "      Tipo  Qualis  Autor Principal  Tφtulo do Artigo  Peri≤dico/Evento  \\\nAno                                                                       \n2013   662     662              662               662               662   \n2014   652     652              652               652               652   \n2015   449     449              449               449               449   \n2016   361     361              361               361               361   \n\n      Aut.Total  Aut.Prof  Aut.Dout  Aut.Mestr  Aut.Grad  Autores - Nomes  \\\nAno                                                                         \n2013        662       662       662        662       662              662   \n2014        652       652       652        652       652              652   \n2015        449       449       449        449       449              449   \n2016        361       361       361        361       361              361   \n\n      PPGC  \nAno         \n2013   662  \n2014   652  \n2015   449  \n2016   361  ",
            "text/html": "<div>\n<style scoped>\n    .dataframe tbody tr th:only-of-type {\n        vertical-align: middle;\n    }\n\n    .dataframe tbody tr th {\n        vertical-align: top;\n    }\n\n    .dataframe thead th {\n        text-align: right;\n    }\n</style>\n<table border=\"1\" class=\"dataframe\">\n  <thead>\n    <tr style=\"text-align: right;\">\n      <th></th>\n      <th>Tipo</th>\n      <th>Qualis</th>\n      <th>Autor Principal</th>\n      <th>Tφtulo do Artigo</th>\n      <th>Peri≤dico/Evento</th>\n      <th>Aut.Total</th>\n      <th>Aut.Prof</th>\n      <th>Aut.Dout</th>\n      <th>Aut.Mestr</th>\n      <th>Aut.Grad</th>\n      <th>Autores - Nomes</th>\n      <th>PPGC</th>\n    </tr>\n    <tr>\n      <th>Ano</th>\n      <th></th>\n      <th></th>\n      <th></th>\n      <th></th>\n      <th></th>\n      <th></th>\n      <th></th>\n      <th></th>\n      <th></th>\n      <th></th>\n      <th></th>\n      <th></th>\n    </tr>\n  </thead>\n  <tbody>\n    <tr>\n      <th>2013</th>\n      <td>662</td>\n      <td>662</td>\n      <td>662</td>\n      <td>662</td>\n      <td>662</td>\n      <td>662</td>\n      <td>662</td>\n      <td>662</td>\n      <td>662</td>\n      <td>662</td>\n      <td>662</td>\n      <td>662</td>\n    </tr>\n    <tr>\n      <th>2014</th>\n      <td>652</td>\n      <td>652</td>\n      <td>652</td>\n      <td>652</td>\n      <td>652</td>\n      <td>652</td>\n      <td>652</td>\n      <td>652</td>\n      <td>652</td>\n      <td>652</td>\n      <td>652</td>\n      <td>652</td>\n    </tr>\n    <tr>\n      <th>2015</th>\n      <td>449</td>\n      <td>449</td>\n      <td>449</td>\n      <td>449</td>\n      <td>449</td>\n      <td>449</td>\n      <td>449</td>\n      <td>449</td>\n      <td>449</td>\n      <td>449</td>\n      <td>449</td>\n      <td>449</td>\n    </tr>\n    <tr>\n      <th>2016</th>\n      <td>361</td>\n      <td>361</td>\n      <td>361</td>\n      <td>361</td>\n      <td>361</td>\n      <td>361</td>\n      <td>361</td>\n      <td>361</td>\n      <td>361</td>\n      <td>361</td>\n      <td>361</td>\n      <td>361</td>\n    </tr>\n  </tbody>\n</table>\n</div>"
          },
          "metadata": {}
        }
      ]
    },
    {
      "cell_type": "code",
      "source": "resultado.count()[['Tipo']]",
      "metadata": {
        "collapsed": false
      },
      "execution_count": 24,
      "outputs": [
        {
          "execution_count": 24,
          "output_type": "execute_result",
          "data": {
            "text/html": "<div>\n<style scoped>\n    .dataframe tbody tr th:only-of-type {\n        vertical-align: middle;\n    }\n\n    .dataframe tbody tr th {\n        vertical-align: top;\n    }\n\n    .dataframe thead th {\n        text-align: right;\n    }\n</style>\n<table border=\"1\" class=\"dataframe\">\n  <thead>\n    <tr style=\"text-align: right;\">\n      <th></th>\n      <th>Tipo</th>\n    </tr>\n    <tr>\n      <th>Ano</th>\n      <th></th>\n    </tr>\n  </thead>\n  <tbody>\n    <tr>\n      <th>2013</th>\n      <td>662</td>\n    </tr>\n    <tr>\n      <th>2014</th>\n      <td>652</td>\n    </tr>\n    <tr>\n      <th>2015</th>\n      <td>449</td>\n    </tr>\n    <tr>\n      <th>2016</th>\n      <td>361</td>\n    </tr>\n  </tbody>\n</table>\n</div>",
            "text/plain": "      Tipo\nAno       \n2013   662\n2014   652\n2015   449\n2016   361"
          },
          "metadata": {}
        }
      ]
    },
    {
      "cell_type": "code",
      "source": "df.groupby(['Ano', 'Tipo'])[['Qualis']].count()",
      "metadata": {
        "collapsed": false,
        "trusted": true
      },
      "execution_count": 121,
      "outputs": [
        {
          "execution_count": 121,
          "output_type": "execute_result",
          "data": {
            "text/plain": "                  Qualis\nAno  Tipo               \n2013 ConferΩncia     512\n     Peri≤dico       150\n2014 ConferΩncia     504\n     Peri≤dico       148\n2015 ConferΩncia     343\n     Peri≤dico       106\n2016 ConferΩncia     248\n     Peri≤dico       113",
            "text/html": "<div>\n<style scoped>\n    .dataframe tbody tr th:only-of-type {\n        vertical-align: middle;\n    }\n\n    .dataframe tbody tr th {\n        vertical-align: top;\n    }\n\n    .dataframe thead th {\n        text-align: right;\n    }\n</style>\n<table border=\"1\" class=\"dataframe\">\n  <thead>\n    <tr style=\"text-align: right;\">\n      <th></th>\n      <th></th>\n      <th>Qualis</th>\n    </tr>\n    <tr>\n      <th>Ano</th>\n      <th>Tipo</th>\n      <th></th>\n    </tr>\n  </thead>\n  <tbody>\n    <tr>\n      <th rowspan=\"2\" valign=\"top\">2013</th>\n      <th>ConferΩncia</th>\n      <td>512</td>\n    </tr>\n    <tr>\n      <th>Peri≤dico</th>\n      <td>150</td>\n    </tr>\n    <tr>\n      <th rowspan=\"2\" valign=\"top\">2014</th>\n      <th>ConferΩncia</th>\n      <td>504</td>\n    </tr>\n    <tr>\n      <th>Peri≤dico</th>\n      <td>148</td>\n    </tr>\n    <tr>\n      <th rowspan=\"2\" valign=\"top\">2015</th>\n      <th>ConferΩncia</th>\n      <td>343</td>\n    </tr>\n    <tr>\n      <th>Peri≤dico</th>\n      <td>106</td>\n    </tr>\n    <tr>\n      <th rowspan=\"2\" valign=\"top\">2016</th>\n      <th>ConferΩncia</th>\n      <td>248</td>\n    </tr>\n    <tr>\n      <th>Peri≤dico</th>\n      <td>113</td>\n    </tr>\n  </tbody>\n</table>\n</div>"
          },
          "metadata": {}
        }
      ]
    },
    {
      "cell_type": "code",
      "source": "prodPPGCByTipoporAno = df.groupby(['Ano','Tipo'])",
      "metadata": {
        "collapsed": false,
        "trusted": true
      },
      "execution_count": 122,
      "outputs": []
    },
    {
      "cell_type": "code",
      "source": "prodPPGCByTipoporAno.size()",
      "metadata": {
        "collapsed": false,
        "trusted": true
      },
      "execution_count": 123,
      "outputs": [
        {
          "execution_count": 123,
          "output_type": "execute_result",
          "data": {
            "text/plain": "Ano   Tipo       \n2013  ConferΩncia    512\n      Peri≤dico      150\n2014  ConferΩncia    504\n      Peri≤dico      148\n2015  ConferΩncia    343\n      Peri≤dico      106\n2016  ConferΩncia    248\n      Peri≤dico      113\ndtype: int64"
          },
          "metadata": {}
        }
      ]
    },
    {
      "cell_type": "code",
      "source": "# desempilha os grupos:\nprodPPGCByTipoporAno.size().unstack()",
      "metadata": {
        "collapsed": false
      },
      "execution_count": 33,
      "outputs": [
        {
          "execution_count": 33,
          "output_type": "execute_result",
          "data": {
            "text/html": "<div>\n<style scoped>\n    .dataframe tbody tr th:only-of-type {\n        vertical-align: middle;\n    }\n\n    .dataframe tbody tr th {\n        vertical-align: top;\n    }\n\n    .dataframe thead th {\n        text-align: right;\n    }\n</style>\n<table border=\"1\" class=\"dataframe\">\n  <thead>\n    <tr style=\"text-align: right;\">\n      <th>Tipo</th>\n      <th>ConferΩncia</th>\n      <th>Peri≤dico</th>\n    </tr>\n    <tr>\n      <th>Ano</th>\n      <th></th>\n      <th></th>\n    </tr>\n  </thead>\n  <tbody>\n    <tr>\n      <th>2013</th>\n      <td>512</td>\n      <td>150</td>\n    </tr>\n    <tr>\n      <th>2014</th>\n      <td>504</td>\n      <td>148</td>\n    </tr>\n    <tr>\n      <th>2015</th>\n      <td>343</td>\n      <td>106</td>\n    </tr>\n    <tr>\n      <th>2016</th>\n      <td>248</td>\n      <td>113</td>\n    </tr>\n  </tbody>\n</table>\n</div>",
            "text/plain": "Tipo  ConferΩncia  Peri≤dico\nAno                         \n2013          512        150\n2014          504        148\n2015          343        106\n2016          248        113"
          },
          "metadata": {}
        }
      ]
    },
    {
      "cell_type": "code",
      "source": "%matplotlib inline\n\nprodPPGCByTipoporAno.size().unstack().plot.bar()",
      "metadata": {
        "collapsed": true,
        "trusted": true
      },
      "execution_count": 125,
      "outputs": [
        {
          "execution_count": 125,
          "output_type": "execute_result",
          "data": {
            "text/plain": "<matplotlib.axes._subplots.AxesSubplot at 0x7f38d31c6990>"
          },
          "metadata": {}
        },
        {
          "output_type": "display_data",
          "data": {
            "image/png": "[encoded data removed]",
            "text/plain": "<Figure size 432x288 with 1 Axes>"
          },
          "metadata": {
            "needs_background": "light"
          }
        }
      ]
    },
    {
      "cell_type": "code",
      "source": "prodPPGCByTipoporAno.size().unstack().plot.bar(stacked=True)",
      "metadata": {
        "trusted": true
      },
      "execution_count": 126,
      "outputs": [
        {
          "execution_count": 126,
          "output_type": "execute_result",
          "data": {
            "text/plain": "<matplotlib.axes._subplots.AxesSubplot at 0x7f38d5a566d0>"
          },
          "metadata": {}
        },
        {
          "output_type": "display_data",
          "data": {
            "image/png": "[encoded data removed]",
            "text/plain": "<Figure size 432x288 with 1 Axes>"
          },
          "metadata": {
            "needs_background": "light"
          }
        }
      ]
    },
    {
      "cell_type": "code",
      "source": "",
      "metadata": {},
      "execution_count": null,
      "outputs": []
    }
  ]
}